{
 "cells": [
  {
   "cell_type": "code",
   "execution_count": 12,
   "metadata": {
    "ExecuteTime": {
     "end_time": "2023-11-05T17:50:41.365806Z",
     "start_time": "2023-11-05T17:50:40.470085Z"
    },
    "collapsed": false,
    "jupyter": {
     "outputs_hidden": false
    }
   },
   "outputs": [],
   "source": [
    "import openai\n",
    "from utils.data_reader import read_annotated_pipeline"
   ]
  },
  {
   "cell_type": "code",
   "execution_count": 22,
   "metadata": {
    "ExecuteTime": {
     "end_time": "2023-11-05T18:03:45.254066Z",
     "start_time": "2023-11-05T18:03:45.249188Z"
    },
    "collapsed": false,
    "jupyter": {
     "outputs_hidden": false
    }
   },
   "outputs": [
    {
     "name": "stdout",
     "output_type": "stream",
     "text": [
      "<generator object read_annotated_pipeline at 0x12c45c6d0>\n"
     ]
    }
   ],
   "source": [
    "data = read_annotated_pipeline()"
   ]
  },
  {
   "cell_type": "code",
   "execution_count": 23,
   "metadata": {
    "ExecuteTime": {
     "end_time": "2023-11-05T18:03:45.573125Z",
     "start_time": "2023-11-05T18:03:45.547951Z"
    },
    "collapsed": false,
    "jupyter": {
     "outputs_hidden": false
    }
   },
   "outputs": [
    {
     "name": "stderr",
     "output_type": "stream",
     "text": [
      "2023-11-05 20:03:45,545 [INFO] Starting reading annotated pipelines...\n",
      "0it [00:00, ?it/s]\n",
      "2023-11-05 20:03:45,549 [INFO] Finished reading annotated pipelines...\n"
     ]
    }
   ],
   "source": [
    "openai.api_key = 'OPENAI_API_KEY'\n",
    "list_of_embeddings = []\n",
    "for item in data:\n",
    "    response = openai.Embedding.create(\n",
    "    input=item,\n",
    "    model=\"text-embedding-ada-002\"\n",
    ")\n",
    "    embeddings = response['data'][0]['embedding']\n",
    "    list_of_embeddings.append(embeddings)"
   ]
  }
 ],
 "metadata": {
  "kernelspec": {
   "display_name": "Python 3 (ipykernel)",
   "language": "python",
   "name": "python3"
  },
  "language_info": {
   "codemirror_mode": {
    "name": "ipython",
    "version": 3
   },
   "file_extension": ".py",
   "mimetype": "text/x-python",
   "name": "python",
   "nbconvert_exporter": "python",
   "pygments_lexer": "ipython3",
   "version": "3.10.9"
  }
 },
 "nbformat": 4,
 "nbformat_minor": 4
}

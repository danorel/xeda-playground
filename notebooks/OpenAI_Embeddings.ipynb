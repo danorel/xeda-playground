{
 "cells": [
  {
   "cell_type": "code",
   "execution_count": 1,
   "metadata": {},
   "outputs": [
    {
     "name": "stdout",
     "output_type": "stream",
     "text": [
      "/Users/danorel/Workspace/Education/University/NYU/Research/xeda\n"
     ]
    }
   ],
   "source": [
    "%cd .."
   ]
  },
  {
   "cell_type": "code",
   "execution_count": 2,
   "metadata": {},
   "outputs": [
    {
     "name": "stdout",
     "output_type": "stream",
     "text": [
      "\n",
      "\u001b[1m[\u001b[0m\u001b[34;49mnotice\u001b[0m\u001b[1;39;49m]\u001b[0m\u001b[39;49m A new release of pip is available: \u001b[0m\u001b[31;49m23.2.1\u001b[0m\u001b[39;49m -> \u001b[0m\u001b[32;49m23.3.1\u001b[0m\n",
      "\u001b[1m[\u001b[0m\u001b[34;49mnotice\u001b[0m\u001b[1;39;49m]\u001b[0m\u001b[39;49m To update, run: \u001b[0m\u001b[32;49mpip install --upgrade pip\u001b[0m\n"
     ]
    }
   ],
   "source": [
    "!pip install --quiet openai python-dotenv boto3 langchain chromadb"
   ]
  },
  {
   "cell_type": "code",
   "execution_count": 3,
   "metadata": {
    "ExecuteTime": {
     "end_time": "2023-11-05T17:50:41.365806Z",
     "start_time": "2023-11-05T17:50:40.470085Z"
    },
    "collapsed": false,
    "jupyter": {
     "outputs_hidden": false
    }
   },
   "outputs": [],
   "source": [
    "import boto3\n",
    "import json\n",
    "import copy\n",
    "import random\n",
    "import openai\n",
    "import itertools\n",
    "import typing as t\n",
    "\n",
    "from boto3.session import Session\n",
    "from langchain.embeddings.openai import OpenAIEmbeddings\n",
    "from langchain.vectorstores import Chroma\n",
    "\n",
    "from constants.openai import OPENAI_API_KEY\n",
    "from constants.aws import (\n",
    "    AWS_ACCESS_KEY,\n",
    "    AWS_SECRET_KEY,\n",
    "    AWS_REGION,\n",
    "    AWS_BUCKET\n",
    ")\n",
    "from data_types.pipeline import Pipeline, PipelineType, PipelineKind"
   ]
  },
  {
   "cell_type": "code",
   "execution_count": 4,
   "metadata": {},
   "outputs": [],
   "source": [
    "openai.api_key = OPENAI_API_KEY\n",
    "openai_client = openai.OpenAI()\n",
    "openai_embeddings = OpenAIEmbeddings()"
   ]
  },
  {
   "cell_type": "code",
   "execution_count": 5,
   "metadata": {},
   "outputs": [],
   "source": [
    "session = Session(\n",
    "    aws_access_key_id=AWS_ACCESS_KEY,\n",
    "    aws_secret_access_key=AWS_SECRET_KEY,\n",
    "    region_name=AWS_REGION\n",
    ")\n",
    "s3 = session.resource('s3')"
   ]
  },
  {
   "cell_type": "code",
   "execution_count": 6,
   "metadata": {},
   "outputs": [],
   "source": [
    "s3bucket = s3.Bucket(AWS_BUCKET)"
   ]
  },
  {
   "cell_type": "code",
   "execution_count": 7,
   "metadata": {},
   "outputs": [],
   "source": [
    "def read_pipelines(\n",
    "    pipeline_folder: str, \n",
    "    pipeline_type: PipelineType,\n",
    "    pipeline_kind: PipelineKind\n",
    ") -> t.Iterator[Pipeline]:\n",
    "    for s3file in s3bucket.objects.filter(Prefix=f\"{pipeline_folder}/{pipeline_type}/{pipeline_kind}\"):\n",
    "        s3key = s3file.key\n",
    "        s3obj = s3.Object(AWS_BUCKET, s3key)\n",
    "        pipeline = json.load(s3obj.get()['Body'])\n",
    "        yield pipeline"
   ]
  },
  {
   "cell_type": "code",
   "execution_count": 8,
   "metadata": {},
   "outputs": [],
   "source": [
    "def pipeline2splits(pipeline: Pipeline) -> list[Pipeline]:\n",
    "    splits = []\n",
    "    pipeline_encoding = []\n",
    "    for node in reversed(pipeline):\n",
    "        annotation = node[\"annotation\"]\n",
    "        node_encoding = []\n",
    "        for k, v in annotation.items():\n",
    "            if isinstance(v, dict):\n",
    "                for key in v:\n",
    "                    node_encoding.append(f\"{k}_{key} = {v[key]}\")\n",
    "            else:\n",
    "                node_encoding.append(f\"{k} = {v}\")\n",
    "        pipeline_encoding.append(', '.join(node_encoding))\n",
    "        splits.append(copy.deepcopy(pipeline_encoding))\n",
    "    return splits"
   ]
  },
  {
   "cell_type": "code",
   "execution_count": 9,
   "metadata": {
    "ExecuteTime": {
     "end_time": "2023-11-05T18:03:45.573125Z",
     "start_time": "2023-11-05T18:03:45.547951Z"
    },
    "collapsed": false,
    "jupyter": {
     "outputs_hidden": false
    }
   },
   "outputs": [],
   "source": [
    "pipeline_splits = list(itertools.chain.from_iterable(\n",
    "    pipeline2splits(pipeline)\n",
    "    for pipeline in read_pipelines(\"pipelines\", \"eda4sum\", \"annotated\")\n",
    "))"
   ]
  },
  {
   "cell_type": "code",
   "execution_count": 10,
   "metadata": {},
   "outputs": [],
   "source": [
    "pipeline_encodings = [\n",
    "    ';'.join(pipeline_split)\n",
    "    for pipeline_split in pipeline_splits\n",
    "]"
   ]
  },
  {
   "cell_type": "code",
   "execution_count": 11,
   "metadata": {},
   "outputs": [],
   "source": [
    "vector_store = Chroma.from_texts(pipeline_encodings, openai_embeddings)"
   ]
  },
  {
   "cell_type": "code",
   "execution_count": 12,
   "metadata": {},
   "outputs": [
    {
     "data": {
      "text/plain": [
       "'total_length = 6, current_operator = by_distribution, delta_uniformity = 0, delta_novelty = 0, delta_diversity = 0, delta_score_galaxy = 0, delta_utilityWeights = [0.0, 0.0, 0.0], current_uniformity = -0.8914141720725897, current_novelty = 0.8154882106352771, current_diversity = 0.9766257880134802, current_score_galaxy = 6.158116326248841, current_utilityWeights = [0.4661917552908831, 0.4661917552908831, 0.06761648941823384], final_uniformity = -0.8914141720725897, final_novelty = 0.8154882106352771, final_diversity = 0.9766257880134802, final_score_galaxy = 6.158116326248841, final_utilityWeights = [0.4661917552908831, 0.4661917552908831, 0.06761648941823384], familiarity = 0.00011573672210455656, curiosity = 0.003340933378084866;total_length = 6, remaining_operators_by_distribution = 1, current_operator = by_neighbors, delta_uniformity = 0.42774606007400195, delta_novelty = 0.5257875184111461, delta_diversity = 1.1232296820097685, delta_score_galaxy = -8.108714831787927, delta_utilityWeights = [-0.01113793105465527, -0.01113793105465527, 0.02227586210931054], current_uniformity = -1.3191602321465916, current_novelty = 0.289700692224131, current_diversity = -0.14660389399628826, current_score_galaxy = 14.266831158036767, current_utilityWeights = [0.47732968634553835, 0.47732968634553835, 0.0453406273089233], final_uniformity = -0.8914141720725897, final_novelty = 0.8154882106352771, final_diversity = 0.9766257880134802, final_score_galaxy = 6.158116326248841, final_utilityWeights = [0.4661917552908831, 0.4661917552908831, 0.06761648941823384], familiarity = 0.012871461227360647, curiosity = 0.0;total_length = 6, remaining_operators_by_neighbors = 1, remaining_operators_by_distribution = 1, current_operator = by_neighbors, delta_uniformity = -0.26629226931997274, delta_novelty = -0.27533099788519577, delta_diversity = -0.6694833423926309, delta_score_galaxy = -7.844450454060398, delta_utilityWeights = [0.0, 0.0, 0.0], current_uniformity = -1.0528679628266189, current_novelty = 0.5650316901093267, current_diversity = 0.5228794483963426, current_score_galaxy = 22.111281612097166, current_utilityWeights = [0.47732968634553835, 0.47732968634553835, 0.0453406273089233], final_uniformity = -0.8914141720725897, final_novelty = 0.8154882106352771, final_diversity = 0.9766257880134802, final_score_galaxy = 6.158116326248841, final_utilityWeights = [0.4661917552908831, 0.4661917552908831, 0.06761648941823384], familiarity = 0.00034789270832518977, curiosity = 0.0;total_length = 6, remaining_operators_by_neighbors = 2, remaining_operators_by_distribution = 1, current_operator = by_superset, delta_uniformity = 0.08543310169498186, delta_novelty = -0.25045652052595035, delta_diversity = 0.5986213502581206, delta_score_galaxy = 14.880378681543146, delta_utilityWeights = [-0.011269414903039066, -0.011269414903039066, 0.02253882980607813], current_uniformity = -1.1383010645216007, current_novelty = 0.8154882106352771, current_diversity = -0.07574190186177795, current_score_galaxy = 7.230902930554019, current_utilityWeights = [0.4885991012485774, 0.4885991012485774, 0.022801797502845167], final_uniformity = -0.8914141720725897, final_novelty = 0.8154882106352771, final_diversity = 0.9766257880134802, final_score_galaxy = 6.158116326248841, final_utilityWeights = [0.4661917552908831, 0.4661917552908831, 0.06761648941823384], familiarity = 0.013043891467219995, curiosity = 0.0;total_length = 6, remaining_operators_by_superset = 1, remaining_operators_by_neighbors = 2, remaining_operators_by_distribution = 1, current_operator = by_distribution, delta_uniformity = -1.1383010645216007, delta_novelty = 0.8154882106352771, delta_diversity = -0.07574190186177795, delta_score_galaxy = 3.5044681549227854, delta_utilityWeights = [0.1555991012485774, 0.1555991012485774, -0.31119820249715485], current_uniformity = 0, current_novelty = 0, current_diversity = 0, current_score_galaxy = 3.7264347756312337, current_utilityWeights = [0.333, 0.333, 0.334], final_uniformity = -0.8914141720725897, final_novelty = 0.8154882106352771, final_diversity = 0.9766257880134802, final_score_galaxy = 6.158116326248841, final_utilityWeights = [0.4661917552908831, 0.4661917552908831, 0.06761648941823384], familiarity = 0.006588833660848457, curiosity = 0.0'"
      ]
     },
     "execution_count": 12,
     "metadata": {},
     "output_type": "execute_result"
    }
   ],
   "source": [
    "random_encoding = random.sample(pipeline_encodings, k=1)[0]\n",
    "random_encoding"
   ]
  },
  {
   "cell_type": "code",
   "execution_count": 13,
   "metadata": {},
   "outputs": [
    {
     "data": {
      "text/plain": [
       "[Document(page_content='total_length = 6, current_operator = by_distribution, delta_uniformity = 0, delta_novelty = 0, delta_diversity = 0, delta_score_galaxy = 0, delta_utilityWeights = [0.0, 0.0, 0.0], current_uniformity = -0.8914141720725897, current_novelty = 0.8154882106352771, current_diversity = 0.9766257880134802, current_score_galaxy = 6.158116326248841, current_utilityWeights = [0.4661917552908831, 0.4661917552908831, 0.06761648941823384], final_uniformity = -0.8914141720725897, final_novelty = 0.8154882106352771, final_diversity = 0.9766257880134802, final_score_galaxy = 6.158116326248841, final_utilityWeights = [0.4661917552908831, 0.4661917552908831, 0.06761648941823384], familiarity = 0.00011573672210455656, curiosity = 0.003340933378084866;total_length = 6, remaining_operators_by_distribution = 1, current_operator = by_neighbors, delta_uniformity = 0.42774606007400195, delta_novelty = 0.5257875184111461, delta_diversity = 1.1232296820097685, delta_score_galaxy = -8.108714831787927, delta_utilityWeights = [-0.01113793105465527, -0.01113793105465527, 0.02227586210931054], current_uniformity = -1.3191602321465916, current_novelty = 0.289700692224131, current_diversity = -0.14660389399628826, current_score_galaxy = 14.266831158036767, current_utilityWeights = [0.47732968634553835, 0.47732968634553835, 0.0453406273089233], final_uniformity = -0.8914141720725897, final_novelty = 0.8154882106352771, final_diversity = 0.9766257880134802, final_score_galaxy = 6.158116326248841, final_utilityWeights = [0.4661917552908831, 0.4661917552908831, 0.06761648941823384], familiarity = 0.012871461227360647, curiosity = 0.0;total_length = 6, remaining_operators_by_neighbors = 1, remaining_operators_by_distribution = 1, current_operator = by_neighbors, delta_uniformity = -0.26629226931997274, delta_novelty = -0.27533099788519577, delta_diversity = -0.6694833423926309, delta_score_galaxy = -7.844450454060398, delta_utilityWeights = [0.0, 0.0, 0.0], current_uniformity = -1.0528679628266189, current_novelty = 0.5650316901093267, current_diversity = 0.5228794483963426, current_score_galaxy = 22.111281612097166, current_utilityWeights = [0.47732968634553835, 0.47732968634553835, 0.0453406273089233], final_uniformity = -0.8914141720725897, final_novelty = 0.8154882106352771, final_diversity = 0.9766257880134802, final_score_galaxy = 6.158116326248841, final_utilityWeights = [0.4661917552908831, 0.4661917552908831, 0.06761648941823384], familiarity = 0.00034789270832518977, curiosity = 0.0;total_length = 6, remaining_operators_by_neighbors = 2, remaining_operators_by_distribution = 1, current_operator = by_superset, delta_uniformity = 0.08543310169498186, delta_novelty = -0.25045652052595035, delta_diversity = 0.5986213502581206, delta_score_galaxy = 14.880378681543146, delta_utilityWeights = [-0.011269414903039066, -0.011269414903039066, 0.02253882980607813], current_uniformity = -1.1383010645216007, current_novelty = 0.8154882106352771, current_diversity = -0.07574190186177795, current_score_galaxy = 7.230902930554019, current_utilityWeights = [0.4885991012485774, 0.4885991012485774, 0.022801797502845167], final_uniformity = -0.8914141720725897, final_novelty = 0.8154882106352771, final_diversity = 0.9766257880134802, final_score_galaxy = 6.158116326248841, final_utilityWeights = [0.4661917552908831, 0.4661917552908831, 0.06761648941823384], familiarity = 0.013043891467219995, curiosity = 0.0;total_length = 6, remaining_operators_by_superset = 1, remaining_operators_by_neighbors = 2, remaining_operators_by_distribution = 1, current_operator = by_distribution, delta_uniformity = -1.1383010645216007, delta_novelty = 0.8154882106352771, delta_diversity = -0.07574190186177795, delta_score_galaxy = 3.5044681549227854, delta_utilityWeights = [0.1555991012485774, 0.1555991012485774, -0.31119820249715485], current_uniformity = 0, current_novelty = 0, current_diversity = 0, current_score_galaxy = 3.7264347756312337, current_utilityWeights = [0.333, 0.333, 0.334], final_uniformity = -0.8914141720725897, final_novelty = 0.8154882106352771, final_diversity = 0.9766257880134802, final_score_galaxy = 6.158116326248841, final_utilityWeights = [0.4661917552908831, 0.4661917552908831, 0.06761648941823384], familiarity = 0.006588833660848457, curiosity = 0.0'),\n",
       " Document(page_content='total_length = 6, current_operator = by_distribution, delta_uniformity = 0, delta_novelty = 0, delta_diversity = 0, delta_score_galaxy = 0, delta_utilityWeights = [0.0, 0.0, 0.0], current_uniformity = -0.8914141720725897, current_novelty = 0.8154882106352771, current_diversity = 0.9766257880134802, current_score_galaxy = 6.158116326248841, current_utilityWeights = [0.4661917552908831, 0.4661917552908831, 0.06761648941823384], final_uniformity = -0.8914141720725897, final_novelty = 0.8154882106352771, final_diversity = 0.9766257880134802, final_score_galaxy = 6.158116326248841, final_utilityWeights = [0.4661917552908831, 0.4661917552908831, 0.06761648941823384], familiarity = 0.00011573672210455656, curiosity = 0.003340933378084866;total_length = 6, remaining_operators_by_distribution = 1, current_operator = by_neighbors, delta_uniformity = 0.42774606007400195, delta_novelty = 0.5257875184111461, delta_diversity = 1.1232296820097685, delta_score_galaxy = -8.108714831787927, delta_utilityWeights = [-0.01113793105465527, -0.01113793105465527, 0.02227586210931054], current_uniformity = -1.3191602321465916, current_novelty = 0.289700692224131, current_diversity = -0.14660389399628826, current_score_galaxy = 14.266831158036767, current_utilityWeights = [0.47732968634553835, 0.47732968634553835, 0.0453406273089233], final_uniformity = -0.8914141720725897, final_novelty = 0.8154882106352771, final_diversity = 0.9766257880134802, final_score_galaxy = 6.158116326248841, final_utilityWeights = [0.4661917552908831, 0.4661917552908831, 0.06761648941823384], familiarity = 0.012871461227360647, curiosity = 0.0;total_length = 6, remaining_operators_by_neighbors = 1, remaining_operators_by_distribution = 1, current_operator = by_neighbors, delta_uniformity = -0.26629226931997274, delta_novelty = -0.27533099788519577, delta_diversity = -0.6694833423926309, delta_score_galaxy = -7.844450454060398, delta_utilityWeights = [0.0, 0.0, 0.0], current_uniformity = -1.0528679628266189, current_novelty = 0.5650316901093267, current_diversity = 0.5228794483963426, current_score_galaxy = 22.111281612097166, current_utilityWeights = [0.47732968634553835, 0.47732968634553835, 0.0453406273089233], final_uniformity = -0.8914141720725897, final_novelty = 0.8154882106352771, final_diversity = 0.9766257880134802, final_score_galaxy = 6.158116326248841, final_utilityWeights = [0.4661917552908831, 0.4661917552908831, 0.06761648941823384], familiarity = 0.00034789270832518977, curiosity = 0.0;total_length = 6, remaining_operators_by_neighbors = 2, remaining_operators_by_distribution = 1, current_operator = by_superset, delta_uniformity = 0.08543310169498186, delta_novelty = -0.25045652052595035, delta_diversity = 0.5986213502581206, delta_score_galaxy = 14.880378681543146, delta_utilityWeights = [-0.011269414903039066, -0.011269414903039066, 0.02253882980607813], current_uniformity = -1.1383010645216007, current_novelty = 0.8154882106352771, current_diversity = -0.07574190186177795, current_score_galaxy = 7.230902930554019, current_utilityWeights = [0.4885991012485774, 0.4885991012485774, 0.022801797502845167], final_uniformity = -0.8914141720725897, final_novelty = 0.8154882106352771, final_diversity = 0.9766257880134802, final_score_galaxy = 6.158116326248841, final_utilityWeights = [0.4661917552908831, 0.4661917552908831, 0.06761648941823384], familiarity = 0.013043891467219995, curiosity = 0.0'),\n",
       " Document(page_content='total_length = 6, current_operator = by_distribution, delta_uniformity = 0, delta_novelty = 0, delta_diversity = 0, delta_score_galaxy = 0, delta_utilityWeights = [0.0, 0.0, 0.0], current_uniformity = -0.8914141720725897, current_novelty = 0.8154882106352771, current_diversity = 0.9766257880134802, current_score_galaxy = 6.158116326248841, current_utilityWeights = [0.4661917552908831, 0.4661917552908831, 0.06761648941823384], final_uniformity = -0.8914141720725897, final_novelty = 0.8154882106352771, final_diversity = 0.9766257880134802, final_score_galaxy = 6.158116326248841, final_utilityWeights = [0.4661917552908831, 0.4661917552908831, 0.06761648941823384], familiarity = 0.00011573672210455656, curiosity = 0.003340933378084866;total_length = 6, remaining_operators_by_distribution = 1, current_operator = by_neighbors, delta_uniformity = 0.42774606007400195, delta_novelty = 0.5257875184111461, delta_diversity = 1.1232296820097685, delta_score_galaxy = -8.108714831787927, delta_utilityWeights = [-0.01113793105465527, -0.01113793105465527, 0.02227586210931054], current_uniformity = -1.3191602321465916, current_novelty = 0.289700692224131, current_diversity = -0.14660389399628826, current_score_galaxy = 14.266831158036767, current_utilityWeights = [0.47732968634553835, 0.47732968634553835, 0.0453406273089233], final_uniformity = -0.8914141720725897, final_novelty = 0.8154882106352771, final_diversity = 0.9766257880134802, final_score_galaxy = 6.158116326248841, final_utilityWeights = [0.4661917552908831, 0.4661917552908831, 0.06761648941823384], familiarity = 0.012871461227360647, curiosity = 0.0;total_length = 6, remaining_operators_by_neighbors = 1, remaining_operators_by_distribution = 1, current_operator = by_neighbors, delta_uniformity = -0.26629226931997274, delta_novelty = -0.27533099788519577, delta_diversity = -0.6694833423926309, delta_score_galaxy = -7.844450454060398, delta_utilityWeights = [0.0, 0.0, 0.0], current_uniformity = -1.0528679628266189, current_novelty = 0.5650316901093267, current_diversity = 0.5228794483963426, current_score_galaxy = 22.111281612097166, current_utilityWeights = [0.47732968634553835, 0.47732968634553835, 0.0453406273089233], final_uniformity = -0.8914141720725897, final_novelty = 0.8154882106352771, final_diversity = 0.9766257880134802, final_score_galaxy = 6.158116326248841, final_utilityWeights = [0.4661917552908831, 0.4661917552908831, 0.06761648941823384], familiarity = 0.00034789270832518977, curiosity = 0.0;total_length = 6, remaining_operators_by_neighbors = 2, remaining_operators_by_distribution = 1, current_operator = by_superset, delta_uniformity = 0.08543310169498186, delta_novelty = -0.25045652052595035, delta_diversity = 0.5986213502581206, delta_score_galaxy = 14.880378681543146, delta_utilityWeights = [-0.011269414903039066, -0.011269414903039066, 0.02253882980607813], current_uniformity = -1.1383010645216007, current_novelty = 0.8154882106352771, current_diversity = -0.07574190186177795, current_score_galaxy = 7.230902930554019, current_utilityWeights = [0.4885991012485774, 0.4885991012485774, 0.022801797502845167], final_uniformity = -0.8914141720725897, final_novelty = 0.8154882106352771, final_diversity = 0.9766257880134802, final_score_galaxy = 6.158116326248841, final_utilityWeights = [0.4661917552908831, 0.4661917552908831, 0.06761648941823384], familiarity = 0.013043891467219995, curiosity = 0.0;total_length = 6, remaining_operators_by_superset = 1, remaining_operators_by_neighbors = 2, remaining_operators_by_distribution = 1, current_operator = by_distribution, delta_uniformity = -1.1383010645216007, delta_novelty = 0.8154882106352771, delta_diversity = -0.07574190186177795, delta_score_galaxy = 3.5044681549227854, delta_utilityWeights = [0.1555991012485774, 0.1555991012485774, -0.31119820249715485], current_uniformity = 0, current_novelty = 0, current_diversity = 0, current_score_galaxy = 3.7264347756312337, current_utilityWeights = [0.333, 0.333, 0.334], final_uniformity = -0.8914141720725897, final_novelty = 0.8154882106352771, final_diversity = 0.9766257880134802, final_score_galaxy = 6.158116326248841, final_utilityWeights = [0.4661917552908831, 0.4661917552908831, 0.06761648941823384], familiarity = 0.006588833660848457, curiosity = 0.0;total_length = 6, remaining_operators_by_distribution = 2, remaining_operators_by_superset = 1, remaining_operators_by_neighbors = 2, current_operator = by_facet, delta_uniformity = 1.124517697824834, delta_novelty = -0.8154882106352771, delta_diversity = -0.2568911410410762, delta_score_galaxy = -21.0465417038396, delta_utilityWeights = [-0.1527694209120316, -0.1527694209120316, 0.30553884182406327], current_uniformity = -1.124517697824834, current_novelty = 0.8154882106352771, current_diversity = 0.2568911410410762, current_score_galaxy = 24.772976479470834, current_utilityWeights = [0.4857694209120316, 0.4857694209120316, 0.02846115817593675], final_uniformity = -0.8914141720725897, final_novelty = 0.8154882106352771, final_diversity = 0.9766257880134802, final_score_galaxy = 6.158116326248841, final_utilityWeights = [0.4661917552908831, 0.4661917552908831, 0.06761648941823384], familiarity = 0.006632534326274145, curiosity = 0.0'),\n",
       " Document(page_content='total_length = 6, current_operator = by_distribution, delta_uniformity = 0, delta_novelty = 0, delta_diversity = 0, delta_score_galaxy = 0, delta_utilityWeights = [0.0, 0.0, 0.0], current_uniformity = 0, current_novelty = 0, current_diversity = 0, current_score_galaxy = 4.52638098238465, current_utilityWeights = [0.333, 0.333, 0.334], final_uniformity = 0, final_novelty = 0, final_diversity = 0, final_score_galaxy = 4.52638098238465, final_utilityWeights = [0.333, 0.333, 0.334], familiarity = 0.0, curiosity = 0.0;total_length = 6, remaining_operators_by_distribution = 1, current_operator = by_neighbors, delta_uniformity = 1.1276063182307001, delta_novelty = -0.521049580123254, delta_diversity = -0.8238040545016964, delta_score_galaxy = -11.444055892952752, delta_utilityWeights = [-0.14432968634553833, -0.14432968634553833, 0.2886593726910767], current_uniformity = -1.1276063182307001, current_novelty = 0.521049580123254, current_diversity = 0.8238040545016964, current_score_galaxy = 15.970436875337402, current_utilityWeights = [0.47732968634553835, 0.47732968634553835, 0.0453406273089233], final_uniformity = 0, final_novelty = 0, final_diversity = 0, final_score_galaxy = 4.52638098238465, final_utilityWeights = [0.333, 0.333, 0.334], familiarity = 0.000839198397690526, curiosity = 0.005516330800819058;total_length = 6, remaining_operators_by_neighbors = 1, remaining_operators_by_distribution = 1, current_operator = by_superset, delta_uniformity = 0.0, delta_novelty = -0.2944386305120231, delta_diversity = 0.5809788705853725, delta_score_galaxy = 8.03525333290166, delta_utilityWeights = [-0.008439734566493273, -0.008439734566493273, 0.016879469132986546], current_uniformity = -1.1276063182307001, current_novelty = 0.8154882106352771, current_diversity = 0.24282518391632396, current_score_galaxy = 7.935183542435741, current_utilityWeights = [0.4857694209120316, 0.4857694209120316, 0.02846115817593675], final_uniformity = 0, final_novelty = 0, final_diversity = 0, final_score_galaxy = 4.52638098238465, final_utilityWeights = [0.333, 0.333, 0.334], familiarity = 0.0008892841262783459, curiosity = 0.01803650625349158;total_length = 6, remaining_operators_by_superset = 1, remaining_operators_by_neighbors = 1, remaining_operators_by_distribution = 1, current_operator = by_neighbors, delta_uniformity = -0.003088620405866216, delta_novelty = 1.005153847224293, delta_diversity = -0.652521412520648, delta_score_galaxy = -5.1162969035537245, delta_utilityWeights = [-0.0028296803365457923, -0.0028296803365457923, 0.005659360673091585], current_uniformity = -1.124517697824834, current_novelty = -0.1896656365890159, current_diversity = 0.8953465964369719, current_score_galaxy = 13.051480445989466, current_utilityWeights = [0.4885991012485774, 0.4885991012485774, 0.022801797502845167], final_uniformity = 0, final_novelty = 0, final_diversity = 0, final_score_galaxy = 4.52638098238465, final_utilityWeights = [0.333, 0.333, 0.334], familiarity = 0.0, curiosity = 0.0;total_length = 6, remaining_operators_by_neighbors = 2, remaining_operators_by_superset = 1, remaining_operators_by_distribution = 1, current_operator = by_neighbors, delta_uniformity = 0.0, delta_novelty = -0.7546973266983427, delta_diversity = 0.25044136069896483, delta_score_galaxy = -3.5739788483935477, delta_utilityWeights = [0.008464387788065242, 0.008464387788065242, -0.016928775576130484], current_uniformity = -1.124517697824834, current_novelty = 0.5650316901093267, current_diversity = 0.6449052357380071, current_score_galaxy = 16.625459294383013, current_utilityWeights = [0.4801347134605122, 0.4801347134605122, 0.03973057307897565], final_uniformity = 0, final_novelty = 0, final_diversity = 0, final_score_galaxy = 4.52638098238465, final_utilityWeights = [0.333, 0.333, 0.334], familiarity = 0.0, curiosity = 0.0')]"
      ]
     },
     "execution_count": 13,
     "metadata": {},
     "output_type": "execute_result"
    }
   ],
   "source": [
    "vector_store.similarity_search(random_encoding)"
   ]
  }
 ],
 "metadata": {
  "kernelspec": {
   "display_name": "xeda_3.8.15",
   "language": "python",
   "name": "xeda_3.8.15"
  },
  "language_info": {
   "codemirror_mode": {
    "name": "ipython",
    "version": 3
   },
   "file_extension": ".py",
   "mimetype": "text/x-python",
   "name": "python",
   "nbconvert_exporter": "python",
   "pygments_lexer": "ipython3",
   "version": "3.11.3"
  }
 },
 "nbformat": 4,
 "nbformat_minor": 4
}

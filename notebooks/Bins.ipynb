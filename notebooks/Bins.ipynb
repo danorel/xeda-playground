{
 "cells": [
  {
   "cell_type": "code",
   "execution_count": 1,
   "id": "b6dd8532",
   "metadata": {},
   "outputs": [],
   "source": [
    "import datetime as dt\n",
    "import json\n",
    "import pandas as pd\n",
    "import psycopg2\n",
    "\n",
    "from concurrent.futures.thread import ThreadPoolExecutor"
   ]
  },
  {
   "cell_type": "code",
   "execution_count": 2,
   "id": "b6cf91b7",
   "metadata": {},
   "outputs": [],
   "source": [
    "conn = psycopg2.connect(dbname='skyserver_dr16_2020_11_30', \n",
    "                        user='postgres',\n",
    "                        host='testbed.inode.igd.fraunhofer.de', \n",
    "                        password='vdS83DJSQz2xQ', \n",
    "                        port=18001)\n",
    "\n",
    "tables = [\n",
    "    \"galspecline\",\n",
    "    \"neighbors\",\n",
    "    \"photoobj\",\n",
    "    \"specobj\",\n",
    "    \"spplines\"\n",
    "]"
   ]
  },
  {
   "cell_type": "code",
   "execution_count": 3,
   "id": "6e609762",
   "metadata": {
    "scrolled": false
   },
   "outputs": [
    {
     "name": "stderr",
     "output_type": "stream",
     "text": [
      "/var/folders/d6/7jdh7rbj2f59v10kcc72rsym0000gn/T/ipykernel_19918/4072846926.py:15: UserWarning: pandas only supports SQLAlchemy connectable (engine/connection) or database string URI or sqlite3 DBAPI2 connection. Other DBAPI2 objects are not tested. Please consider using SQLAlchemy.\n",
      "  pd.read_sql(\n",
      "/var/folders/d6/7jdh7rbj2f59v10kcc72rsym0000gn/T/ipykernel_19918/4072846926.py:22: UserWarning: pandas only supports SQLAlchemy connectable (engine/connection) or database string URI or sqlite3 DBAPI2 connection. Other DBAPI2 objects are not tested. Please consider using SQLAlchemy.\n",
      "  item_count = pd.read_sql(\n",
      "/var/folders/d6/7jdh7rbj2f59v10kcc72rsym0000gn/T/ipykernel_19918/4072846926.py:26: UserWarning: pandas only supports SQLAlchemy connectable (engine/connection) or database string URI or sqlite3 DBAPI2 connection. Other DBAPI2 objects are not tested. Please consider using SQLAlchemy.\n",
      "  distinct_values = pd.read_sql(\n",
      "/var/folders/d6/7jdh7rbj2f59v10kcc72rsym0000gn/T/ipykernel_19918/4072846926.py:29: UserWarning: pandas only supports SQLAlchemy connectable (engine/connection) or database string URI or sqlite3 DBAPI2 connection. Other DBAPI2 objects are not tested. Please consider using SQLAlchemy.\n",
      "  null_count = pd.read_sql(\n",
      "/var/folders/d6/7jdh7rbj2f59v10kcc72rsym0000gn/T/ipykernel_19918/4072846926.py:6: UserWarning: pandas only supports SQLAlchemy connectable (engine/connection) or database string URI or sqlite3 DBAPI2 connection. Other DBAPI2 objects are not tested. Please consider using SQLAlchemy.\n",
      "  value = pd.read_sql(\n"
     ]
    },
    {
     "name": "stdout",
     "output_type": "stream",
     "text": [
      "Column: specobjid, 852096 distinct val, 0 null values\n"
     ]
    },
    {
     "name": "stderr",
     "output_type": "stream",
     "text": [
      "/var/folders/d6/7jdh7rbj2f59v10kcc72rsym0000gn/T/ipykernel_19918/4072846926.py:22: UserWarning: pandas only supports SQLAlchemy connectable (engine/connection) or database string URI or sqlite3 DBAPI2 connection. Other DBAPI2 objects are not tested. Please consider using SQLAlchemy.\n",
      "  item_count = pd.read_sql(\n",
      "/var/folders/d6/7jdh7rbj2f59v10kcc72rsym0000gn/T/ipykernel_19918/4072846926.py:26: UserWarning: pandas only supports SQLAlchemy connectable (engine/connection) or database string URI or sqlite3 DBAPI2 connection. Other DBAPI2 objects are not tested. Please consider using SQLAlchemy.\n",
      "  distinct_values = pd.read_sql(\n",
      "/var/folders/d6/7jdh7rbj2f59v10kcc72rsym0000gn/T/ipykernel_19918/4072846926.py:29: UserWarning: pandas only supports SQLAlchemy connectable (engine/connection) or database string URI or sqlite3 DBAPI2 connection. Other DBAPI2 objects are not tested. Please consider using SQLAlchemy.\n",
      "  null_count = pd.read_sql(\n",
      "/var/folders/d6/7jdh7rbj2f59v10kcc72rsym0000gn/T/ipykernel_19918/4072846926.py:6: UserWarning: pandas only supports SQLAlchemy connectable (engine/connection) or database string URI or sqlite3 DBAPI2 connection. Other DBAPI2 objects are not tested. Please consider using SQLAlchemy.\n",
      "  value = pd.read_sql(\n"
     ]
    },
    {
     "name": "stdout",
     "output_type": "stream",
     "text": [
      "Column: specobjid, 852096 distinct val, 0 null values\n"
     ]
    },
    {
     "name": "stderr",
     "output_type": "stream",
     "text": [
      "/var/folders/d6/7jdh7rbj2f59v10kcc72rsym0000gn/T/ipykernel_19918/4072846926.py:22: UserWarning: pandas only supports SQLAlchemy connectable (engine/connection) or database string URI or sqlite3 DBAPI2 connection. Other DBAPI2 objects are not tested. Please consider using SQLAlchemy.\n",
      "  item_count = pd.read_sql(\n",
      "/var/folders/d6/7jdh7rbj2f59v10kcc72rsym0000gn/T/ipykernel_19918/4072846926.py:26: UserWarning: pandas only supports SQLAlchemy connectable (engine/connection) or database string URI or sqlite3 DBAPI2 connection. Other DBAPI2 objects are not tested. Please consider using SQLAlchemy.\n",
      "  distinct_values = pd.read_sql(\n",
      "/var/folders/d6/7jdh7rbj2f59v10kcc72rsym0000gn/T/ipykernel_19918/4072846926.py:29: UserWarning: pandas only supports SQLAlchemy connectable (engine/connection) or database string URI or sqlite3 DBAPI2 connection. Other DBAPI2 objects are not tested. Please consider using SQLAlchemy.\n",
      "  null_count = pd.read_sql(\n"
     ]
    },
    {
     "name": "stdout",
     "output_type": "stream",
     "text": [
      "Column: sigma_balmer, 663381 distinct val, 0 null values\n"
     ]
    },
    {
     "name": "stderr",
     "output_type": "stream",
     "text": [
      "/var/folders/d6/7jdh7rbj2f59v10kcc72rsym0000gn/T/ipykernel_19918/4072846926.py:6: UserWarning: pandas only supports SQLAlchemy connectable (engine/connection) or database string URI or sqlite3 DBAPI2 connection. Other DBAPI2 objects are not tested. Please consider using SQLAlchemy.\n",
      "  value = pd.read_sql(\n",
      "/var/folders/d6/7jdh7rbj2f59v10kcc72rsym0000gn/T/ipykernel_19918/4072846926.py:22: UserWarning: pandas only supports SQLAlchemy connectable (engine/connection) or database string URI or sqlite3 DBAPI2 connection. Other DBAPI2 objects are not tested. Please consider using SQLAlchemy.\n",
      "  item_count = pd.read_sql(\n",
      "/var/folders/d6/7jdh7rbj2f59v10kcc72rsym0000gn/T/ipykernel_19918/4072846926.py:26: UserWarning: pandas only supports SQLAlchemy connectable (engine/connection) or database string URI or sqlite3 DBAPI2 connection. Other DBAPI2 objects are not tested. Please consider using SQLAlchemy.\n",
      "  distinct_values = pd.read_sql(\n",
      "/var/folders/d6/7jdh7rbj2f59v10kcc72rsym0000gn/T/ipykernel_19918/4072846926.py:29: UserWarning: pandas only supports SQLAlchemy connectable (engine/connection) or database string URI or sqlite3 DBAPI2 connection. Other DBAPI2 objects are not tested. Please consider using SQLAlchemy.\n",
      "  null_count = pd.read_sql(\n"
     ]
    },
    {
     "name": "stdout",
     "output_type": "stream",
     "text": [
      "Column: sigma_balmer_err, 691794 distinct val, 0 null values\n"
     ]
    },
    {
     "name": "stderr",
     "output_type": "stream",
     "text": [
      "/var/folders/d6/7jdh7rbj2f59v10kcc72rsym0000gn/T/ipykernel_19918/4072846926.py:6: UserWarning: pandas only supports SQLAlchemy connectable (engine/connection) or database string URI or sqlite3 DBAPI2 connection. Other DBAPI2 objects are not tested. Please consider using SQLAlchemy.\n",
      "  value = pd.read_sql(\n",
      "/var/folders/d6/7jdh7rbj2f59v10kcc72rsym0000gn/T/ipykernel_19918/4072846926.py:22: UserWarning: pandas only supports SQLAlchemy connectable (engine/connection) or database string URI or sqlite3 DBAPI2 connection. Other DBAPI2 objects are not tested. Please consider using SQLAlchemy.\n",
      "  item_count = pd.read_sql(\n",
      "/var/folders/d6/7jdh7rbj2f59v10kcc72rsym0000gn/T/ipykernel_19918/4072846926.py:26: UserWarning: pandas only supports SQLAlchemy connectable (engine/connection) or database string URI or sqlite3 DBAPI2 connection. Other DBAPI2 objects are not tested. Please consider using SQLAlchemy.\n",
      "  distinct_values = pd.read_sql(\n",
      "/var/folders/d6/7jdh7rbj2f59v10kcc72rsym0000gn/T/ipykernel_19918/4072846926.py:29: UserWarning: pandas only supports SQLAlchemy connectable (engine/connection) or database string URI or sqlite3 DBAPI2 connection. Other DBAPI2 objects are not tested. Please consider using SQLAlchemy.\n",
      "  null_count = pd.read_sql(\n"
     ]
    },
    {
     "name": "stdout",
     "output_type": "stream",
     "text": [
      "Column: sigma_forbidden, 690001 distinct val, 0 null values\n"
     ]
    },
    {
     "name": "stderr",
     "output_type": "stream",
     "text": [
      "/var/folders/d6/7jdh7rbj2f59v10kcc72rsym0000gn/T/ipykernel_19918/4072846926.py:6: UserWarning: pandas only supports SQLAlchemy connectable (engine/connection) or database string URI or sqlite3 DBAPI2 connection. Other DBAPI2 objects are not tested. Please consider using SQLAlchemy.\n",
      "  value = pd.read_sql(\n",
      "/var/folders/d6/7jdh7rbj2f59v10kcc72rsym0000gn/T/ipykernel_19918/4072846926.py:22: UserWarning: pandas only supports SQLAlchemy connectable (engine/connection) or database string URI or sqlite3 DBAPI2 connection. Other DBAPI2 objects are not tested. Please consider using SQLAlchemy.\n",
      "  item_count = pd.read_sql(\n",
      "/var/folders/d6/7jdh7rbj2f59v10kcc72rsym0000gn/T/ipykernel_19918/4072846926.py:26: UserWarning: pandas only supports SQLAlchemy connectable (engine/connection) or database string URI or sqlite3 DBAPI2 connection. Other DBAPI2 objects are not tested. Please consider using SQLAlchemy.\n",
      "  distinct_values = pd.read_sql(\n",
      "/var/folders/d6/7jdh7rbj2f59v10kcc72rsym0000gn/T/ipykernel_19918/4072846926.py:29: UserWarning: pandas only supports SQLAlchemy connectable (engine/connection) or database string URI or sqlite3 DBAPI2 connection. Other DBAPI2 objects are not tested. Please consider using SQLAlchemy.\n",
      "  null_count = pd.read_sql(\n"
     ]
    },
    {
     "name": "stdout",
     "output_type": "stream",
     "text": [
      "Column: sigma_forbidden_err, 720929 distinct val, 0 null values\n"
     ]
    },
    {
     "name": "stderr",
     "output_type": "stream",
     "text": [
      "/var/folders/d6/7jdh7rbj2f59v10kcc72rsym0000gn/T/ipykernel_19918/4072846926.py:6: UserWarning: pandas only supports SQLAlchemy connectable (engine/connection) or database string URI or sqlite3 DBAPI2 connection. Other DBAPI2 objects are not tested. Please consider using SQLAlchemy.\n",
      "  value = pd.read_sql(\n",
      "/var/folders/d6/7jdh7rbj2f59v10kcc72rsym0000gn/T/ipykernel_19918/4072846926.py:22: UserWarning: pandas only supports SQLAlchemy connectable (engine/connection) or database string URI or sqlite3 DBAPI2 connection. Other DBAPI2 objects are not tested. Please consider using SQLAlchemy.\n",
      "  item_count = pd.read_sql(\n",
      "/var/folders/d6/7jdh7rbj2f59v10kcc72rsym0000gn/T/ipykernel_19918/4072846926.py:26: UserWarning: pandas only supports SQLAlchemy connectable (engine/connection) or database string URI or sqlite3 DBAPI2 connection. Other DBAPI2 objects are not tested. Please consider using SQLAlchemy.\n",
      "  distinct_values = pd.read_sql(\n",
      "/var/folders/d6/7jdh7rbj2f59v10kcc72rsym0000gn/T/ipykernel_19918/4072846926.py:29: UserWarning: pandas only supports SQLAlchemy connectable (engine/connection) or database string URI or sqlite3 DBAPI2 connection. Other DBAPI2 objects are not tested. Please consider using SQLAlchemy.\n",
      "  null_count = pd.read_sql(\n"
     ]
    },
    {
     "name": "stdout",
     "output_type": "stream",
     "text": [
      "Column: v_off_balmer, 789169 distinct val, 0 null values\n"
     ]
    },
    {
     "name": "stderr",
     "output_type": "stream",
     "text": [
      "/var/folders/d6/7jdh7rbj2f59v10kcc72rsym0000gn/T/ipykernel_19918/4072846926.py:6: UserWarning: pandas only supports SQLAlchemy connectable (engine/connection) or database string URI or sqlite3 DBAPI2 connection. Other DBAPI2 objects are not tested. Please consider using SQLAlchemy.\n",
      "  value = pd.read_sql(\n",
      "/var/folders/d6/7jdh7rbj2f59v10kcc72rsym0000gn/T/ipykernel_19918/4072846926.py:22: UserWarning: pandas only supports SQLAlchemy connectable (engine/connection) or database string URI or sqlite3 DBAPI2 connection. Other DBAPI2 objects are not tested. Please consider using SQLAlchemy.\n",
      "  item_count = pd.read_sql(\n",
      "/var/folders/d6/7jdh7rbj2f59v10kcc72rsym0000gn/T/ipykernel_19918/4072846926.py:26: UserWarning: pandas only supports SQLAlchemy connectable (engine/connection) or database string URI or sqlite3 DBAPI2 connection. Other DBAPI2 objects are not tested. Please consider using SQLAlchemy.\n",
      "  distinct_values = pd.read_sql(\n",
      "/var/folders/d6/7jdh7rbj2f59v10kcc72rsym0000gn/T/ipykernel_19918/4072846926.py:29: UserWarning: pandas only supports SQLAlchemy connectable (engine/connection) or database string URI or sqlite3 DBAPI2 connection. Other DBAPI2 objects are not tested. Please consider using SQLAlchemy.\n",
      "  null_count = pd.read_sql(\n"
     ]
    },
    {
     "name": "stdout",
     "output_type": "stream",
     "text": [
      "Column: v_off_balmer_err, 760694 distinct val, 0 null values\n"
     ]
    },
    {
     "name": "stderr",
     "output_type": "stream",
     "text": [
      "/var/folders/d6/7jdh7rbj2f59v10kcc72rsym0000gn/T/ipykernel_19918/4072846926.py:6: UserWarning: pandas only supports SQLAlchemy connectable (engine/connection) or database string URI or sqlite3 DBAPI2 connection. Other DBAPI2 objects are not tested. Please consider using SQLAlchemy.\n",
      "  value = pd.read_sql(\n",
      "/var/folders/d6/7jdh7rbj2f59v10kcc72rsym0000gn/T/ipykernel_19918/4072846926.py:22: UserWarning: pandas only supports SQLAlchemy connectable (engine/connection) or database string URI or sqlite3 DBAPI2 connection. Other DBAPI2 objects are not tested. Please consider using SQLAlchemy.\n",
      "  item_count = pd.read_sql(\n",
      "/var/folders/d6/7jdh7rbj2f59v10kcc72rsym0000gn/T/ipykernel_19918/4072846926.py:26: UserWarning: pandas only supports SQLAlchemy connectable (engine/connection) or database string URI or sqlite3 DBAPI2 connection. Other DBAPI2 objects are not tested. Please consider using SQLAlchemy.\n",
      "  distinct_values = pd.read_sql(\n",
      "/var/folders/d6/7jdh7rbj2f59v10kcc72rsym0000gn/T/ipykernel_19918/4072846926.py:29: UserWarning: pandas only supports SQLAlchemy connectable (engine/connection) or database string URI or sqlite3 DBAPI2 connection. Other DBAPI2 objects are not tested. Please consider using SQLAlchemy.\n",
      "  null_count = pd.read_sql(\n"
     ]
    },
    {
     "name": "stdout",
     "output_type": "stream",
     "text": [
      "Column: v_off_forbidden, 814652 distinct val, 0 null values\n"
     ]
    },
    {
     "name": "stderr",
     "output_type": "stream",
     "text": [
      "/var/folders/d6/7jdh7rbj2f59v10kcc72rsym0000gn/T/ipykernel_19918/4072846926.py:6: UserWarning: pandas only supports SQLAlchemy connectable (engine/connection) or database string URI or sqlite3 DBAPI2 connection. Other DBAPI2 objects are not tested. Please consider using SQLAlchemy.\n",
      "  value = pd.read_sql(\n",
      "/var/folders/d6/7jdh7rbj2f59v10kcc72rsym0000gn/T/ipykernel_19918/4072846926.py:22: UserWarning: pandas only supports SQLAlchemy connectable (engine/connection) or database string URI or sqlite3 DBAPI2 connection. Other DBAPI2 objects are not tested. Please consider using SQLAlchemy.\n",
      "  item_count = pd.read_sql(\n",
      "/var/folders/d6/7jdh7rbj2f59v10kcc72rsym0000gn/T/ipykernel_19918/4072846926.py:26: UserWarning: pandas only supports SQLAlchemy connectable (engine/connection) or database string URI or sqlite3 DBAPI2 connection. Other DBAPI2 objects are not tested. Please consider using SQLAlchemy.\n",
      "  distinct_values = pd.read_sql(\n",
      "/var/folders/d6/7jdh7rbj2f59v10kcc72rsym0000gn/T/ipykernel_19918/4072846926.py:29: UserWarning: pandas only supports SQLAlchemy connectable (engine/connection) or database string URI or sqlite3 DBAPI2 connection. Other DBAPI2 objects are not tested. Please consider using SQLAlchemy.\n",
      "  null_count = pd.read_sql(\n"
     ]
    },
    {
     "name": "stdout",
     "output_type": "stream",
     "text": [
      "Column: v_off_forbidden_err, 781634 distinct val, 0 null values\n"
     ]
    },
    {
     "name": "stderr",
     "output_type": "stream",
     "text": [
      "/var/folders/d6/7jdh7rbj2f59v10kcc72rsym0000gn/T/ipykernel_19918/4072846926.py:6: UserWarning: pandas only supports SQLAlchemy connectable (engine/connection) or database string URI or sqlite3 DBAPI2 connection. Other DBAPI2 objects are not tested. Please consider using SQLAlchemy.\n",
      "  value = pd.read_sql(\n",
      "/var/folders/d6/7jdh7rbj2f59v10kcc72rsym0000gn/T/ipykernel_19918/4072846926.py:22: UserWarning: pandas only supports SQLAlchemy connectable (engine/connection) or database string URI or sqlite3 DBAPI2 connection. Other DBAPI2 objects are not tested. Please consider using SQLAlchemy.\n",
      "  item_count = pd.read_sql(\n",
      "/var/folders/d6/7jdh7rbj2f59v10kcc72rsym0000gn/T/ipykernel_19918/4072846926.py:26: UserWarning: pandas only supports SQLAlchemy connectable (engine/connection) or database string URI or sqlite3 DBAPI2 connection. Other DBAPI2 objects are not tested. Please consider using SQLAlchemy.\n",
      "  distinct_values = pd.read_sql(\n",
      "/var/folders/d6/7jdh7rbj2f59v10kcc72rsym0000gn/T/ipykernel_19918/4072846926.py:29: UserWarning: pandas only supports SQLAlchemy connectable (engine/connection) or database string URI or sqlite3 DBAPI2 connection. Other DBAPI2 objects are not tested. Please consider using SQLAlchemy.\n",
      "  null_count = pd.read_sql(\n"
     ]
    },
    {
     "name": "stdout",
     "output_type": "stream",
     "text": [
      "Column: oii_3726_cont, 804350 distinct val, 0 null values\n"
     ]
    },
    {
     "name": "stderr",
     "output_type": "stream",
     "text": [
      "/var/folders/d6/7jdh7rbj2f59v10kcc72rsym0000gn/T/ipykernel_19918/4072846926.py:6: UserWarning: pandas only supports SQLAlchemy connectable (engine/connection) or database string URI or sqlite3 DBAPI2 connection. Other DBAPI2 objects are not tested. Please consider using SQLAlchemy.\n",
      "  value = pd.read_sql(\n",
      "/var/folders/d6/7jdh7rbj2f59v10kcc72rsym0000gn/T/ipykernel_19918/4072846926.py:22: UserWarning: pandas only supports SQLAlchemy connectable (engine/connection) or database string URI or sqlite3 DBAPI2 connection. Other DBAPI2 objects are not tested. Please consider using SQLAlchemy.\n",
      "  item_count = pd.read_sql(\n",
      "/var/folders/d6/7jdh7rbj2f59v10kcc72rsym0000gn/T/ipykernel_19918/4072846926.py:26: UserWarning: pandas only supports SQLAlchemy connectable (engine/connection) or database string URI or sqlite3 DBAPI2 connection. Other DBAPI2 objects are not tested. Please consider using SQLAlchemy.\n",
      "  distinct_values = pd.read_sql(\n",
      "/var/folders/d6/7jdh7rbj2f59v10kcc72rsym0000gn/T/ipykernel_19918/4072846926.py:29: UserWarning: pandas only supports SQLAlchemy connectable (engine/connection) or database string URI or sqlite3 DBAPI2 connection. Other DBAPI2 objects are not tested. Please consider using SQLAlchemy.\n",
      "  null_count = pd.read_sql(\n"
     ]
    },
    {
     "name": "stdout",
     "output_type": "stream",
     "text": [
      "Column: oii_3726_cont_err, 716479 distinct val, 0 null values\n"
     ]
    },
    {
     "name": "stderr",
     "output_type": "stream",
     "text": [
      "/var/folders/d6/7jdh7rbj2f59v10kcc72rsym0000gn/T/ipykernel_19918/4072846926.py:6: UserWarning: pandas only supports SQLAlchemy connectable (engine/connection) or database string URI or sqlite3 DBAPI2 connection. Other DBAPI2 objects are not tested. Please consider using SQLAlchemy.\n",
      "  value = pd.read_sql(\n",
      "/var/folders/d6/7jdh7rbj2f59v10kcc72rsym0000gn/T/ipykernel_19918/4072846926.py:22: UserWarning: pandas only supports SQLAlchemy connectable (engine/connection) or database string URI or sqlite3 DBAPI2 connection. Other DBAPI2 objects are not tested. Please consider using SQLAlchemy.\n",
      "  item_count = pd.read_sql(\n",
      "/var/folders/d6/7jdh7rbj2f59v10kcc72rsym0000gn/T/ipykernel_19918/4072846926.py:26: UserWarning: pandas only supports SQLAlchemy connectable (engine/connection) or database string URI or sqlite3 DBAPI2 connection. Other DBAPI2 objects are not tested. Please consider using SQLAlchemy.\n",
      "  distinct_values = pd.read_sql(\n",
      "/var/folders/d6/7jdh7rbj2f59v10kcc72rsym0000gn/T/ipykernel_19918/4072846926.py:29: UserWarning: pandas only supports SQLAlchemy connectable (engine/connection) or database string URI or sqlite3 DBAPI2 connection. Other DBAPI2 objects are not tested. Please consider using SQLAlchemy.\n",
      "  null_count = pd.read_sql(\n"
     ]
    },
    {
     "name": "stdout",
     "output_type": "stream",
     "text": [
      "Column: oii_3726_reqw, 808543 distinct val, 0 null values\n"
     ]
    },
    {
     "name": "stderr",
     "output_type": "stream",
     "text": [
      "/var/folders/d6/7jdh7rbj2f59v10kcc72rsym0000gn/T/ipykernel_19918/4072846926.py:6: UserWarning: pandas only supports SQLAlchemy connectable (engine/connection) or database string URI or sqlite3 DBAPI2 connection. Other DBAPI2 objects are not tested. Please consider using SQLAlchemy.\n",
      "  value = pd.read_sql(\n",
      "/var/folders/d6/7jdh7rbj2f59v10kcc72rsym0000gn/T/ipykernel_19918/4072846926.py:22: UserWarning: pandas only supports SQLAlchemy connectable (engine/connection) or database string URI or sqlite3 DBAPI2 connection. Other DBAPI2 objects are not tested. Please consider using SQLAlchemy.\n",
      "  item_count = pd.read_sql(\n",
      "/var/folders/d6/7jdh7rbj2f59v10kcc72rsym0000gn/T/ipykernel_19918/4072846926.py:26: UserWarning: pandas only supports SQLAlchemy connectable (engine/connection) or database string URI or sqlite3 DBAPI2 connection. Other DBAPI2 objects are not tested. Please consider using SQLAlchemy.\n",
      "  distinct_values = pd.read_sql(\n",
      "/var/folders/d6/7jdh7rbj2f59v10kcc72rsym0000gn/T/ipykernel_19918/4072846926.py:29: UserWarning: pandas only supports SQLAlchemy connectable (engine/connection) or database string URI or sqlite3 DBAPI2 connection. Other DBAPI2 objects are not tested. Please consider using SQLAlchemy.\n",
      "  null_count = pd.read_sql(\n"
     ]
    },
    {
     "name": "stdout",
     "output_type": "stream",
     "text": [
      "Column: oii_3726_reqw_err, 728931 distinct val, 0 null values\n"
     ]
    },
    {
     "name": "stderr",
     "output_type": "stream",
     "text": [
      "/var/folders/d6/7jdh7rbj2f59v10kcc72rsym0000gn/T/ipykernel_19918/4072846926.py:6: UserWarning: pandas only supports SQLAlchemy connectable (engine/connection) or database string URI or sqlite3 DBAPI2 connection. Other DBAPI2 objects are not tested. Please consider using SQLAlchemy.\n",
      "  value = pd.read_sql(\n",
      "/var/folders/d6/7jdh7rbj2f59v10kcc72rsym0000gn/T/ipykernel_19918/4072846926.py:22: UserWarning: pandas only supports SQLAlchemy connectable (engine/connection) or database string URI or sqlite3 DBAPI2 connection. Other DBAPI2 objects are not tested. Please consider using SQLAlchemy.\n",
      "  item_count = pd.read_sql(\n",
      "/var/folders/d6/7jdh7rbj2f59v10kcc72rsym0000gn/T/ipykernel_19918/4072846926.py:26: UserWarning: pandas only supports SQLAlchemy connectable (engine/connection) or database string URI or sqlite3 DBAPI2 connection. Other DBAPI2 objects are not tested. Please consider using SQLAlchemy.\n",
      "  distinct_values = pd.read_sql(\n",
      "/var/folders/d6/7jdh7rbj2f59v10kcc72rsym0000gn/T/ipykernel_19918/4072846926.py:29: UserWarning: pandas only supports SQLAlchemy connectable (engine/connection) or database string URI or sqlite3 DBAPI2 connection. Other DBAPI2 objects are not tested. Please consider using SQLAlchemy.\n",
      "  null_count = pd.read_sql(\n"
     ]
    },
    {
     "name": "stdout",
     "output_type": "stream",
     "text": [
      "Column: oii_3726_eqw, 804977 distinct val, 0 null values\n"
     ]
    },
    {
     "name": "stderr",
     "output_type": "stream",
     "text": [
      "/var/folders/d6/7jdh7rbj2f59v10kcc72rsym0000gn/T/ipykernel_19918/4072846926.py:6: UserWarning: pandas only supports SQLAlchemy connectable (engine/connection) or database string URI or sqlite3 DBAPI2 connection. Other DBAPI2 objects are not tested. Please consider using SQLAlchemy.\n",
      "  value = pd.read_sql(\n",
      "/var/folders/d6/7jdh7rbj2f59v10kcc72rsym0000gn/T/ipykernel_19918/4072846926.py:22: UserWarning: pandas only supports SQLAlchemy connectable (engine/connection) or database string URI or sqlite3 DBAPI2 connection. Other DBAPI2 objects are not tested. Please consider using SQLAlchemy.\n",
      "  item_count = pd.read_sql(\n",
      "/var/folders/d6/7jdh7rbj2f59v10kcc72rsym0000gn/T/ipykernel_19918/4072846926.py:26: UserWarning: pandas only supports SQLAlchemy connectable (engine/connection) or database string URI or sqlite3 DBAPI2 connection. Other DBAPI2 objects are not tested. Please consider using SQLAlchemy.\n",
      "  distinct_values = pd.read_sql(\n",
      "/var/folders/d6/7jdh7rbj2f59v10kcc72rsym0000gn/T/ipykernel_19918/4072846926.py:29: UserWarning: pandas only supports SQLAlchemy connectable (engine/connection) or database string URI or sqlite3 DBAPI2 connection. Other DBAPI2 objects are not tested. Please consider using SQLAlchemy.\n",
      "  null_count = pd.read_sql(\n"
     ]
    },
    {
     "name": "stdout",
     "output_type": "stream",
     "text": [
      "Column: oii_3726_eqw_err, 728931 distinct val, 0 null values\n"
     ]
    },
    {
     "name": "stderr",
     "output_type": "stream",
     "text": [
      "/var/folders/d6/7jdh7rbj2f59v10kcc72rsym0000gn/T/ipykernel_19918/4072846926.py:6: UserWarning: pandas only supports SQLAlchemy connectable (engine/connection) or database string URI or sqlite3 DBAPI2 connection. Other DBAPI2 objects are not tested. Please consider using SQLAlchemy.\n",
      "  value = pd.read_sql(\n",
      "/var/folders/d6/7jdh7rbj2f59v10kcc72rsym0000gn/T/ipykernel_19918/4072846926.py:22: UserWarning: pandas only supports SQLAlchemy connectable (engine/connection) or database string URI or sqlite3 DBAPI2 connection. Other DBAPI2 objects are not tested. Please consider using SQLAlchemy.\n",
      "  item_count = pd.read_sql(\n",
      "/var/folders/d6/7jdh7rbj2f59v10kcc72rsym0000gn/T/ipykernel_19918/4072846926.py:26: UserWarning: pandas only supports SQLAlchemy connectable (engine/connection) or database string URI or sqlite3 DBAPI2 connection. Other DBAPI2 objects are not tested. Please consider using SQLAlchemy.\n",
      "  distinct_values = pd.read_sql(\n",
      "/var/folders/d6/7jdh7rbj2f59v10kcc72rsym0000gn/T/ipykernel_19918/4072846926.py:29: UserWarning: pandas only supports SQLAlchemy connectable (engine/connection) or database string URI or sqlite3 DBAPI2 connection. Other DBAPI2 objects are not tested. Please consider using SQLAlchemy.\n",
      "  null_count = pd.read_sql(\n"
     ]
    },
    {
     "name": "stdout",
     "output_type": "stream",
     "text": [
      "Column: oii_3726_flux, 807785 distinct val, 0 null values\n"
     ]
    },
    {
     "name": "stderr",
     "output_type": "stream",
     "text": [
      "/var/folders/d6/7jdh7rbj2f59v10kcc72rsym0000gn/T/ipykernel_19918/4072846926.py:6: UserWarning: pandas only supports SQLAlchemy connectable (engine/connection) or database string URI or sqlite3 DBAPI2 connection. Other DBAPI2 objects are not tested. Please consider using SQLAlchemy.\n",
      "  value = pd.read_sql(\n",
      "/var/folders/d6/7jdh7rbj2f59v10kcc72rsym0000gn/T/ipykernel_19918/4072846926.py:22: UserWarning: pandas only supports SQLAlchemy connectable (engine/connection) or database string URI or sqlite3 DBAPI2 connection. Other DBAPI2 objects are not tested. Please consider using SQLAlchemy.\n",
      "  item_count = pd.read_sql(\n",
      "/var/folders/d6/7jdh7rbj2f59v10kcc72rsym0000gn/T/ipykernel_19918/4072846926.py:26: UserWarning: pandas only supports SQLAlchemy connectable (engine/connection) or database string URI or sqlite3 DBAPI2 connection. Other DBAPI2 objects are not tested. Please consider using SQLAlchemy.\n",
      "  distinct_values = pd.read_sql(\n",
      "/var/folders/d6/7jdh7rbj2f59v10kcc72rsym0000gn/T/ipykernel_19918/4072846926.py:29: UserWarning: pandas only supports SQLAlchemy connectable (engine/connection) or database string URI or sqlite3 DBAPI2 connection. Other DBAPI2 objects are not tested. Please consider using SQLAlchemy.\n",
      "  null_count = pd.read_sql(\n"
     ]
    },
    {
     "name": "stdout",
     "output_type": "stream",
     "text": [
      "Column: oii_3726_flux_err, 807472 distinct val, 0 null values\n"
     ]
    },
    {
     "name": "stderr",
     "output_type": "stream",
     "text": [
      "/var/folders/d6/7jdh7rbj2f59v10kcc72rsym0000gn/T/ipykernel_19918/4072846926.py:6: UserWarning: pandas only supports SQLAlchemy connectable (engine/connection) or database string URI or sqlite3 DBAPI2 connection. Other DBAPI2 objects are not tested. Please consider using SQLAlchemy.\n",
      "  value = pd.read_sql(\n",
      "/var/folders/d6/7jdh7rbj2f59v10kcc72rsym0000gn/T/ipykernel_19918/4072846926.py:22: UserWarning: pandas only supports SQLAlchemy connectable (engine/connection) or database string URI or sqlite3 DBAPI2 connection. Other DBAPI2 objects are not tested. Please consider using SQLAlchemy.\n",
      "  item_count = pd.read_sql(\n",
      "/var/folders/d6/7jdh7rbj2f59v10kcc72rsym0000gn/T/ipykernel_19918/4072846926.py:26: UserWarning: pandas only supports SQLAlchemy connectable (engine/connection) or database string URI or sqlite3 DBAPI2 connection. Other DBAPI2 objects are not tested. Please consider using SQLAlchemy.\n",
      "  distinct_values = pd.read_sql(\n",
      "/var/folders/d6/7jdh7rbj2f59v10kcc72rsym0000gn/T/ipykernel_19918/4072846926.py:29: UserWarning: pandas only supports SQLAlchemy connectable (engine/connection) or database string URI or sqlite3 DBAPI2 connection. Other DBAPI2 objects are not tested. Please consider using SQLAlchemy.\n",
      "  null_count = pd.read_sql(\n"
     ]
    },
    {
     "name": "stdout",
     "output_type": "stream",
     "text": [
      "Column: oii_3726_inst_res, 711110 distinct val, 0 null values\n"
     ]
    },
    {
     "name": "stderr",
     "output_type": "stream",
     "text": [
      "/var/folders/d6/7jdh7rbj2f59v10kcc72rsym0000gn/T/ipykernel_19918/4072846926.py:6: UserWarning: pandas only supports SQLAlchemy connectable (engine/connection) or database string URI or sqlite3 DBAPI2 connection. Other DBAPI2 objects are not tested. Please consider using SQLAlchemy.\n",
      "  value = pd.read_sql(\n",
      "/var/folders/d6/7jdh7rbj2f59v10kcc72rsym0000gn/T/ipykernel_19918/4072846926.py:22: UserWarning: pandas only supports SQLAlchemy connectable (engine/connection) or database string URI or sqlite3 DBAPI2 connection. Other DBAPI2 objects are not tested. Please consider using SQLAlchemy.\n",
      "  item_count = pd.read_sql(\n",
      "/var/folders/d6/7jdh7rbj2f59v10kcc72rsym0000gn/T/ipykernel_19918/4072846926.py:26: UserWarning: pandas only supports SQLAlchemy connectable (engine/connection) or database string URI or sqlite3 DBAPI2 connection. Other DBAPI2 objects are not tested. Please consider using SQLAlchemy.\n",
      "  distinct_values = pd.read_sql(\n",
      "/var/folders/d6/7jdh7rbj2f59v10kcc72rsym0000gn/T/ipykernel_19918/4072846926.py:29: UserWarning: pandas only supports SQLAlchemy connectable (engine/connection) or database string URI or sqlite3 DBAPI2 connection. Other DBAPI2 objects are not tested. Please consider using SQLAlchemy.\n",
      "  null_count = pd.read_sql(\n"
     ]
    },
    {
     "name": "stdout",
     "output_type": "stream",
     "text": [
      "Column: oii_3726_chisq, 768642 distinct val, 0 null values\n"
     ]
    },
    {
     "name": "stderr",
     "output_type": "stream",
     "text": [
      "/var/folders/d6/7jdh7rbj2f59v10kcc72rsym0000gn/T/ipykernel_19918/4072846926.py:6: UserWarning: pandas only supports SQLAlchemy connectable (engine/connection) or database string URI or sqlite3 DBAPI2 connection. Other DBAPI2 objects are not tested. Please consider using SQLAlchemy.\n",
      "  value = pd.read_sql(\n",
      "/var/folders/d6/7jdh7rbj2f59v10kcc72rsym0000gn/T/ipykernel_19918/4072846926.py:22: UserWarning: pandas only supports SQLAlchemy connectable (engine/connection) or database string URI or sqlite3 DBAPI2 connection. Other DBAPI2 objects are not tested. Please consider using SQLAlchemy.\n",
      "  item_count = pd.read_sql(\n",
      "/var/folders/d6/7jdh7rbj2f59v10kcc72rsym0000gn/T/ipykernel_19918/4072846926.py:26: UserWarning: pandas only supports SQLAlchemy connectable (engine/connection) or database string URI or sqlite3 DBAPI2 connection. Other DBAPI2 objects are not tested. Please consider using SQLAlchemy.\n",
      "  distinct_values = pd.read_sql(\n",
      "/var/folders/d6/7jdh7rbj2f59v10kcc72rsym0000gn/T/ipykernel_19918/4072846926.py:29: UserWarning: pandas only supports SQLAlchemy connectable (engine/connection) or database string URI or sqlite3 DBAPI2 connection. Other DBAPI2 objects are not tested. Please consider using SQLAlchemy.\n",
      "  null_count = pd.read_sql(\n"
     ]
    },
    {
     "name": "stdout",
     "output_type": "stream",
     "text": [
      "Column: oii_3729_cont, 805242 distinct val, 0 null values\n"
     ]
    },
    {
     "name": "stderr",
     "output_type": "stream",
     "text": [
      "/var/folders/d6/7jdh7rbj2f59v10kcc72rsym0000gn/T/ipykernel_19918/4072846926.py:6: UserWarning: pandas only supports SQLAlchemy connectable (engine/connection) or database string URI or sqlite3 DBAPI2 connection. Other DBAPI2 objects are not tested. Please consider using SQLAlchemy.\n",
      "  value = pd.read_sql(\n",
      "/var/folders/d6/7jdh7rbj2f59v10kcc72rsym0000gn/T/ipykernel_19918/4072846926.py:22: UserWarning: pandas only supports SQLAlchemy connectable (engine/connection) or database string URI or sqlite3 DBAPI2 connection. Other DBAPI2 objects are not tested. Please consider using SQLAlchemy.\n",
      "  item_count = pd.read_sql(\n",
      "/var/folders/d6/7jdh7rbj2f59v10kcc72rsym0000gn/T/ipykernel_19918/4072846926.py:26: UserWarning: pandas only supports SQLAlchemy connectable (engine/connection) or database string URI or sqlite3 DBAPI2 connection. Other DBAPI2 objects are not tested. Please consider using SQLAlchemy.\n",
      "  distinct_values = pd.read_sql(\n",
      "/var/folders/d6/7jdh7rbj2f59v10kcc72rsym0000gn/T/ipykernel_19918/4072846926.py:29: UserWarning: pandas only supports SQLAlchemy connectable (engine/connection) or database string URI or sqlite3 DBAPI2 connection. Other DBAPI2 objects are not tested. Please consider using SQLAlchemy.\n",
      "  null_count = pd.read_sql(\n"
     ]
    },
    {
     "name": "stdout",
     "output_type": "stream",
     "text": [
      "Column: oii_3729_cont_err, 716340 distinct val, 0 null values\n"
     ]
    },
    {
     "name": "stderr",
     "output_type": "stream",
     "text": [
      "/var/folders/d6/7jdh7rbj2f59v10kcc72rsym0000gn/T/ipykernel_19918/4072846926.py:6: UserWarning: pandas only supports SQLAlchemy connectable (engine/connection) or database string URI or sqlite3 DBAPI2 connection. Other DBAPI2 objects are not tested. Please consider using SQLAlchemy.\n",
      "  value = pd.read_sql(\n",
      "/var/folders/d6/7jdh7rbj2f59v10kcc72rsym0000gn/T/ipykernel_19918/4072846926.py:22: UserWarning: pandas only supports SQLAlchemy connectable (engine/connection) or database string URI or sqlite3 DBAPI2 connection. Other DBAPI2 objects are not tested. Please consider using SQLAlchemy.\n",
      "  item_count = pd.read_sql(\n",
      "/var/folders/d6/7jdh7rbj2f59v10kcc72rsym0000gn/T/ipykernel_19918/4072846926.py:26: UserWarning: pandas only supports SQLAlchemy connectable (engine/connection) or database string URI or sqlite3 DBAPI2 connection. Other DBAPI2 objects are not tested. Please consider using SQLAlchemy.\n",
      "  distinct_values = pd.read_sql(\n",
      "/var/folders/d6/7jdh7rbj2f59v10kcc72rsym0000gn/T/ipykernel_19918/4072846926.py:29: UserWarning: pandas only supports SQLAlchemy connectable (engine/connection) or database string URI or sqlite3 DBAPI2 connection. Other DBAPI2 objects are not tested. Please consider using SQLAlchemy.\n",
      "  null_count = pd.read_sql(\n"
     ]
    },
    {
     "name": "stdout",
     "output_type": "stream",
     "text": [
      "Column: oii_3729_reqw, 808543 distinct val, 0 null values\n"
     ]
    },
    {
     "name": "stderr",
     "output_type": "stream",
     "text": [
      "/var/folders/d6/7jdh7rbj2f59v10kcc72rsym0000gn/T/ipykernel_19918/4072846926.py:6: UserWarning: pandas only supports SQLAlchemy connectable (engine/connection) or database string URI or sqlite3 DBAPI2 connection. Other DBAPI2 objects are not tested. Please consider using SQLAlchemy.\n",
      "  value = pd.read_sql(\n",
      "/var/folders/d6/7jdh7rbj2f59v10kcc72rsym0000gn/T/ipykernel_19918/4072846926.py:22: UserWarning: pandas only supports SQLAlchemy connectable (engine/connection) or database string URI or sqlite3 DBAPI2 connection. Other DBAPI2 objects are not tested. Please consider using SQLAlchemy.\n",
      "  item_count = pd.read_sql(\n",
      "/var/folders/d6/7jdh7rbj2f59v10kcc72rsym0000gn/T/ipykernel_19918/4072846926.py:26: UserWarning: pandas only supports SQLAlchemy connectable (engine/connection) or database string URI or sqlite3 DBAPI2 connection. Other DBAPI2 objects are not tested. Please consider using SQLAlchemy.\n",
      "  distinct_values = pd.read_sql(\n",
      "/var/folders/d6/7jdh7rbj2f59v10kcc72rsym0000gn/T/ipykernel_19918/4072846926.py:29: UserWarning: pandas only supports SQLAlchemy connectable (engine/connection) or database string URI or sqlite3 DBAPI2 connection. Other DBAPI2 objects are not tested. Please consider using SQLAlchemy.\n",
      "  null_count = pd.read_sql(\n"
     ]
    },
    {
     "name": "stdout",
     "output_type": "stream",
     "text": [
      "Column: oii_3729_reqw_err, 728931 distinct val, 0 null values\n"
     ]
    },
    {
     "name": "stderr",
     "output_type": "stream",
     "text": [
      "/var/folders/d6/7jdh7rbj2f59v10kcc72rsym0000gn/T/ipykernel_19918/4072846926.py:6: UserWarning: pandas only supports SQLAlchemy connectable (engine/connection) or database string URI or sqlite3 DBAPI2 connection. Other DBAPI2 objects are not tested. Please consider using SQLAlchemy.\n",
      "  value = pd.read_sql(\n",
      "/var/folders/d6/7jdh7rbj2f59v10kcc72rsym0000gn/T/ipykernel_19918/4072846926.py:22: UserWarning: pandas only supports SQLAlchemy connectable (engine/connection) or database string URI or sqlite3 DBAPI2 connection. Other DBAPI2 objects are not tested. Please consider using SQLAlchemy.\n",
      "  item_count = pd.read_sql(\n",
      "/var/folders/d6/7jdh7rbj2f59v10kcc72rsym0000gn/T/ipykernel_19918/4072846926.py:26: UserWarning: pandas only supports SQLAlchemy connectable (engine/connection) or database string URI or sqlite3 DBAPI2 connection. Other DBAPI2 objects are not tested. Please consider using SQLAlchemy.\n",
      "  distinct_values = pd.read_sql(\n",
      "/var/folders/d6/7jdh7rbj2f59v10kcc72rsym0000gn/T/ipykernel_19918/4072846926.py:29: UserWarning: pandas only supports SQLAlchemy connectable (engine/connection) or database string URI or sqlite3 DBAPI2 connection. Other DBAPI2 objects are not tested. Please consider using SQLAlchemy.\n",
      "  null_count = pd.read_sql(\n"
     ]
    },
    {
     "name": "stdout",
     "output_type": "stream",
     "text": [
      "Column: oii_3729_eqw, 804977 distinct val, 0 null values\n"
     ]
    },
    {
     "name": "stderr",
     "output_type": "stream",
     "text": [
      "/var/folders/d6/7jdh7rbj2f59v10kcc72rsym0000gn/T/ipykernel_19918/4072846926.py:6: UserWarning: pandas only supports SQLAlchemy connectable (engine/connection) or database string URI or sqlite3 DBAPI2 connection. Other DBAPI2 objects are not tested. Please consider using SQLAlchemy.\n",
      "  value = pd.read_sql(\n",
      "/var/folders/d6/7jdh7rbj2f59v10kcc72rsym0000gn/T/ipykernel_19918/4072846926.py:22: UserWarning: pandas only supports SQLAlchemy connectable (engine/connection) or database string URI or sqlite3 DBAPI2 connection. Other DBAPI2 objects are not tested. Please consider using SQLAlchemy.\n",
      "  item_count = pd.read_sql(\n",
      "/var/folders/d6/7jdh7rbj2f59v10kcc72rsym0000gn/T/ipykernel_19918/4072846926.py:26: UserWarning: pandas only supports SQLAlchemy connectable (engine/connection) or database string URI or sqlite3 DBAPI2 connection. Other DBAPI2 objects are not tested. Please consider using SQLAlchemy.\n",
      "  distinct_values = pd.read_sql(\n",
      "/var/folders/d6/7jdh7rbj2f59v10kcc72rsym0000gn/T/ipykernel_19918/4072846926.py:29: UserWarning: pandas only supports SQLAlchemy connectable (engine/connection) or database string URI or sqlite3 DBAPI2 connection. Other DBAPI2 objects are not tested. Please consider using SQLAlchemy.\n",
      "  null_count = pd.read_sql(\n"
     ]
    },
    {
     "name": "stdout",
     "output_type": "stream",
     "text": [
      "Column: oii_3729_eqw_err, 728931 distinct val, 0 null values\n"
     ]
    },
    {
     "name": "stderr",
     "output_type": "stream",
     "text": [
      "/var/folders/d6/7jdh7rbj2f59v10kcc72rsym0000gn/T/ipykernel_19918/4072846926.py:6: UserWarning: pandas only supports SQLAlchemy connectable (engine/connection) or database string URI or sqlite3 DBAPI2 connection. Other DBAPI2 objects are not tested. Please consider using SQLAlchemy.\n",
      "  value = pd.read_sql(\n",
      "/var/folders/d6/7jdh7rbj2f59v10kcc72rsym0000gn/T/ipykernel_19918/4072846926.py:22: UserWarning: pandas only supports SQLAlchemy connectable (engine/connection) or database string URI or sqlite3 DBAPI2 connection. Other DBAPI2 objects are not tested. Please consider using SQLAlchemy.\n",
      "  item_count = pd.read_sql(\n",
      "/var/folders/d6/7jdh7rbj2f59v10kcc72rsym0000gn/T/ipykernel_19918/4072846926.py:26: UserWarning: pandas only supports SQLAlchemy connectable (engine/connection) or database string URI or sqlite3 DBAPI2 connection. Other DBAPI2 objects are not tested. Please consider using SQLAlchemy.\n",
      "  distinct_values = pd.read_sql(\n",
      "/var/folders/d6/7jdh7rbj2f59v10kcc72rsym0000gn/T/ipykernel_19918/4072846926.py:29: UserWarning: pandas only supports SQLAlchemy connectable (engine/connection) or database string URI or sqlite3 DBAPI2 connection. Other DBAPI2 objects are not tested. Please consider using SQLAlchemy.\n",
      "  null_count = pd.read_sql(\n"
     ]
    },
    {
     "name": "stdout",
     "output_type": "stream",
     "text": [
      "Column: oii_3729_flux, 809122 distinct val, 0 null values\n"
     ]
    },
    {
     "name": "stderr",
     "output_type": "stream",
     "text": [
      "/var/folders/d6/7jdh7rbj2f59v10kcc72rsym0000gn/T/ipykernel_19918/4072846926.py:6: UserWarning: pandas only supports SQLAlchemy connectable (engine/connection) or database string URI or sqlite3 DBAPI2 connection. Other DBAPI2 objects are not tested. Please consider using SQLAlchemy.\n",
      "  value = pd.read_sql(\n",
      "/var/folders/d6/7jdh7rbj2f59v10kcc72rsym0000gn/T/ipykernel_19918/4072846926.py:22: UserWarning: pandas only supports SQLAlchemy connectable (engine/connection) or database string URI or sqlite3 DBAPI2 connection. Other DBAPI2 objects are not tested. Please consider using SQLAlchemy.\n",
      "  item_count = pd.read_sql(\n",
      "/var/folders/d6/7jdh7rbj2f59v10kcc72rsym0000gn/T/ipykernel_19918/4072846926.py:26: UserWarning: pandas only supports SQLAlchemy connectable (engine/connection) or database string URI or sqlite3 DBAPI2 connection. Other DBAPI2 objects are not tested. Please consider using SQLAlchemy.\n",
      "  distinct_values = pd.read_sql(\n",
      "/var/folders/d6/7jdh7rbj2f59v10kcc72rsym0000gn/T/ipykernel_19918/4072846926.py:29: UserWarning: pandas only supports SQLAlchemy connectable (engine/connection) or database string URI or sqlite3 DBAPI2 connection. Other DBAPI2 objects are not tested. Please consider using SQLAlchemy.\n",
      "  null_count = pd.read_sql(\n"
     ]
    },
    {
     "name": "stdout",
     "output_type": "stream",
     "text": [
      "Column: oii_3729_flux_err, 807363 distinct val, 0 null values\n"
     ]
    },
    {
     "name": "stderr",
     "output_type": "stream",
     "text": [
      "/var/folders/d6/7jdh7rbj2f59v10kcc72rsym0000gn/T/ipykernel_19918/4072846926.py:6: UserWarning: pandas only supports SQLAlchemy connectable (engine/connection) or database string URI or sqlite3 DBAPI2 connection. Other DBAPI2 objects are not tested. Please consider using SQLAlchemy.\n",
      "  value = pd.read_sql(\n",
      "/var/folders/d6/7jdh7rbj2f59v10kcc72rsym0000gn/T/ipykernel_19918/4072846926.py:22: UserWarning: pandas only supports SQLAlchemy connectable (engine/connection) or database string URI or sqlite3 DBAPI2 connection. Other DBAPI2 objects are not tested. Please consider using SQLAlchemy.\n",
      "  item_count = pd.read_sql(\n",
      "/var/folders/d6/7jdh7rbj2f59v10kcc72rsym0000gn/T/ipykernel_19918/4072846926.py:26: UserWarning: pandas only supports SQLAlchemy connectable (engine/connection) or database string URI or sqlite3 DBAPI2 connection. Other DBAPI2 objects are not tested. Please consider using SQLAlchemy.\n",
      "  distinct_values = pd.read_sql(\n",
      "/var/folders/d6/7jdh7rbj2f59v10kcc72rsym0000gn/T/ipykernel_19918/4072846926.py:29: UserWarning: pandas only supports SQLAlchemy connectable (engine/connection) or database string URI or sqlite3 DBAPI2 connection. Other DBAPI2 objects are not tested. Please consider using SQLAlchemy.\n",
      "  null_count = pd.read_sql(\n"
     ]
    },
    {
     "name": "stdout",
     "output_type": "stream",
     "text": [
      "Column: oii_3729_inst_res, 711358 distinct val, 0 null values\n"
     ]
    },
    {
     "name": "stderr",
     "output_type": "stream",
     "text": [
      "/var/folders/d6/7jdh7rbj2f59v10kcc72rsym0000gn/T/ipykernel_19918/4072846926.py:6: UserWarning: pandas only supports SQLAlchemy connectable (engine/connection) or database string URI or sqlite3 DBAPI2 connection. Other DBAPI2 objects are not tested. Please consider using SQLAlchemy.\n",
      "  value = pd.read_sql(\n",
      "/var/folders/d6/7jdh7rbj2f59v10kcc72rsym0000gn/T/ipykernel_19918/4072846926.py:22: UserWarning: pandas only supports SQLAlchemy connectable (engine/connection) or database string URI or sqlite3 DBAPI2 connection. Other DBAPI2 objects are not tested. Please consider using SQLAlchemy.\n",
      "  item_count = pd.read_sql(\n",
      "/var/folders/d6/7jdh7rbj2f59v10kcc72rsym0000gn/T/ipykernel_19918/4072846926.py:26: UserWarning: pandas only supports SQLAlchemy connectable (engine/connection) or database string URI or sqlite3 DBAPI2 connection. Other DBAPI2 objects are not tested. Please consider using SQLAlchemy.\n",
      "  distinct_values = pd.read_sql(\n",
      "/var/folders/d6/7jdh7rbj2f59v10kcc72rsym0000gn/T/ipykernel_19918/4072846926.py:29: UserWarning: pandas only supports SQLAlchemy connectable (engine/connection) or database string URI or sqlite3 DBAPI2 connection. Other DBAPI2 objects are not tested. Please consider using SQLAlchemy.\n",
      "  null_count = pd.read_sql(\n"
     ]
    },
    {
     "name": "stdout",
     "output_type": "stream",
     "text": [
      "Column: oii_3729_chisq, 771764 distinct val, 0 null values\n"
     ]
    },
    {
     "name": "stderr",
     "output_type": "stream",
     "text": [
      "/var/folders/d6/7jdh7rbj2f59v10kcc72rsym0000gn/T/ipykernel_19918/4072846926.py:6: UserWarning: pandas only supports SQLAlchemy connectable (engine/connection) or database string URI or sqlite3 DBAPI2 connection. Other DBAPI2 objects are not tested. Please consider using SQLAlchemy.\n",
      "  value = pd.read_sql(\n",
      "/var/folders/d6/7jdh7rbj2f59v10kcc72rsym0000gn/T/ipykernel_19918/4072846926.py:22: UserWarning: pandas only supports SQLAlchemy connectable (engine/connection) or database string URI or sqlite3 DBAPI2 connection. Other DBAPI2 objects are not tested. Please consider using SQLAlchemy.\n",
      "  item_count = pd.read_sql(\n",
      "/var/folders/d6/7jdh7rbj2f59v10kcc72rsym0000gn/T/ipykernel_19918/4072846926.py:26: UserWarning: pandas only supports SQLAlchemy connectable (engine/connection) or database string URI or sqlite3 DBAPI2 connection. Other DBAPI2 objects are not tested. Please consider using SQLAlchemy.\n",
      "  distinct_values = pd.read_sql(\n",
      "/var/folders/d6/7jdh7rbj2f59v10kcc72rsym0000gn/T/ipykernel_19918/4072846926.py:29: UserWarning: pandas only supports SQLAlchemy connectable (engine/connection) or database string URI or sqlite3 DBAPI2 connection. Other DBAPI2 objects are not tested. Please consider using SQLAlchemy.\n",
      "  null_count = pd.read_sql(\n"
     ]
    },
    {
     "name": "stdout",
     "output_type": "stream",
     "text": [
      "Column: neiii_3869_cont, 811048 distinct val, 0 null values\n"
     ]
    },
    {
     "name": "stderr",
     "output_type": "stream",
     "text": [
      "/var/folders/d6/7jdh7rbj2f59v10kcc72rsym0000gn/T/ipykernel_19918/4072846926.py:6: UserWarning: pandas only supports SQLAlchemy connectable (engine/connection) or database string URI or sqlite3 DBAPI2 connection. Other DBAPI2 objects are not tested. Please consider using SQLAlchemy.\n",
      "  value = pd.read_sql(\n",
      "/var/folders/d6/7jdh7rbj2f59v10kcc72rsym0000gn/T/ipykernel_19918/4072846926.py:22: UserWarning: pandas only supports SQLAlchemy connectable (engine/connection) or database string URI or sqlite3 DBAPI2 connection. Other DBAPI2 objects are not tested. Please consider using SQLAlchemy.\n",
      "  item_count = pd.read_sql(\n",
      "/var/folders/d6/7jdh7rbj2f59v10kcc72rsym0000gn/T/ipykernel_19918/4072846926.py:26: UserWarning: pandas only supports SQLAlchemy connectable (engine/connection) or database string URI or sqlite3 DBAPI2 connection. Other DBAPI2 objects are not tested. Please consider using SQLAlchemy.\n",
      "  distinct_values = pd.read_sql(\n",
      "/var/folders/d6/7jdh7rbj2f59v10kcc72rsym0000gn/T/ipykernel_19918/4072846926.py:29: UserWarning: pandas only supports SQLAlchemy connectable (engine/connection) or database string URI or sqlite3 DBAPI2 connection. Other DBAPI2 objects are not tested. Please consider using SQLAlchemy.\n",
      "  null_count = pd.read_sql(\n"
     ]
    },
    {
     "name": "stdout",
     "output_type": "stream",
     "text": [
      "Column: neiii_3869_cont_err, 698113 distinct val, 0 null values\n"
     ]
    },
    {
     "name": "stderr",
     "output_type": "stream",
     "text": [
      "/var/folders/d6/7jdh7rbj2f59v10kcc72rsym0000gn/T/ipykernel_19918/4072846926.py:6: UserWarning: pandas only supports SQLAlchemy connectable (engine/connection) or database string URI or sqlite3 DBAPI2 connection. Other DBAPI2 objects are not tested. Please consider using SQLAlchemy.\n",
      "  value = pd.read_sql(\n",
      "/var/folders/d6/7jdh7rbj2f59v10kcc72rsym0000gn/T/ipykernel_19918/4072846926.py:22: UserWarning: pandas only supports SQLAlchemy connectable (engine/connection) or database string URI or sqlite3 DBAPI2 connection. Other DBAPI2 objects are not tested. Please consider using SQLAlchemy.\n",
      "  item_count = pd.read_sql(\n",
      "/var/folders/d6/7jdh7rbj2f59v10kcc72rsym0000gn/T/ipykernel_19918/4072846926.py:26: UserWarning: pandas only supports SQLAlchemy connectable (engine/connection) or database string URI or sqlite3 DBAPI2 connection. Other DBAPI2 objects are not tested. Please consider using SQLAlchemy.\n",
      "  distinct_values = pd.read_sql(\n",
      "/var/folders/d6/7jdh7rbj2f59v10kcc72rsym0000gn/T/ipykernel_19918/4072846926.py:29: UserWarning: pandas only supports SQLAlchemy connectable (engine/connection) or database string URI or sqlite3 DBAPI2 connection. Other DBAPI2 objects are not tested. Please consider using SQLAlchemy.\n",
      "  null_count = pd.read_sql(\n"
     ]
    },
    {
     "name": "stdout",
     "output_type": "stream",
     "text": [
      "Column: neiii_3869_reqw, 819277 distinct val, 0 null values\n"
     ]
    },
    {
     "name": "stderr",
     "output_type": "stream",
     "text": [
      "/var/folders/d6/7jdh7rbj2f59v10kcc72rsym0000gn/T/ipykernel_19918/4072846926.py:6: UserWarning: pandas only supports SQLAlchemy connectable (engine/connection) or database string URI or sqlite3 DBAPI2 connection. Other DBAPI2 objects are not tested. Please consider using SQLAlchemy.\n",
      "  value = pd.read_sql(\n",
      "/var/folders/d6/7jdh7rbj2f59v10kcc72rsym0000gn/T/ipykernel_19918/4072846926.py:22: UserWarning: pandas only supports SQLAlchemy connectable (engine/connection) or database string URI or sqlite3 DBAPI2 connection. Other DBAPI2 objects are not tested. Please consider using SQLAlchemy.\n",
      "  item_count = pd.read_sql(\n",
      "/var/folders/d6/7jdh7rbj2f59v10kcc72rsym0000gn/T/ipykernel_19918/4072846926.py:26: UserWarning: pandas only supports SQLAlchemy connectable (engine/connection) or database string URI or sqlite3 DBAPI2 connection. Other DBAPI2 objects are not tested. Please consider using SQLAlchemy.\n",
      "  distinct_values = pd.read_sql(\n",
      "/var/folders/d6/7jdh7rbj2f59v10kcc72rsym0000gn/T/ipykernel_19918/4072846926.py:29: UserWarning: pandas only supports SQLAlchemy connectable (engine/connection) or database string URI or sqlite3 DBAPI2 connection. Other DBAPI2 objects are not tested. Please consider using SQLAlchemy.\n",
      "  null_count = pd.read_sql(\n"
     ]
    },
    {
     "name": "stdout",
     "output_type": "stream",
     "text": [
      "Column: neiii_3869_reqw_err, 775950 distinct val, 0 null values\n"
     ]
    },
    {
     "name": "stderr",
     "output_type": "stream",
     "text": [
      "/var/folders/d6/7jdh7rbj2f59v10kcc72rsym0000gn/T/ipykernel_19918/4072846926.py:6: UserWarning: pandas only supports SQLAlchemy connectable (engine/connection) or database string URI or sqlite3 DBAPI2 connection. Other DBAPI2 objects are not tested. Please consider using SQLAlchemy.\n",
      "  value = pd.read_sql(\n",
      "/var/folders/d6/7jdh7rbj2f59v10kcc72rsym0000gn/T/ipykernel_19918/4072846926.py:22: UserWarning: pandas only supports SQLAlchemy connectable (engine/connection) or database string URI or sqlite3 DBAPI2 connection. Other DBAPI2 objects are not tested. Please consider using SQLAlchemy.\n",
      "  item_count = pd.read_sql(\n",
      "/var/folders/d6/7jdh7rbj2f59v10kcc72rsym0000gn/T/ipykernel_19918/4072846926.py:26: UserWarning: pandas only supports SQLAlchemy connectable (engine/connection) or database string URI or sqlite3 DBAPI2 connection. Other DBAPI2 objects are not tested. Please consider using SQLAlchemy.\n",
      "  distinct_values = pd.read_sql(\n",
      "/var/folders/d6/7jdh7rbj2f59v10kcc72rsym0000gn/T/ipykernel_19918/4072846926.py:29: UserWarning: pandas only supports SQLAlchemy connectable (engine/connection) or database string URI or sqlite3 DBAPI2 connection. Other DBAPI2 objects are not tested. Please consider using SQLAlchemy.\n",
      "  null_count = pd.read_sql(\n"
     ]
    },
    {
     "name": "stdout",
     "output_type": "stream",
     "text": [
      "Column: neiii_3869_eqw, 827852 distinct val, 0 null values\n"
     ]
    },
    {
     "name": "stderr",
     "output_type": "stream",
     "text": [
      "/var/folders/d6/7jdh7rbj2f59v10kcc72rsym0000gn/T/ipykernel_19918/4072846926.py:6: UserWarning: pandas only supports SQLAlchemy connectable (engine/connection) or database string URI or sqlite3 DBAPI2 connection. Other DBAPI2 objects are not tested. Please consider using SQLAlchemy.\n",
      "  value = pd.read_sql(\n",
      "/var/folders/d6/7jdh7rbj2f59v10kcc72rsym0000gn/T/ipykernel_19918/4072846926.py:22: UserWarning: pandas only supports SQLAlchemy connectable (engine/connection) or database string URI or sqlite3 DBAPI2 connection. Other DBAPI2 objects are not tested. Please consider using SQLAlchemy.\n",
      "  item_count = pd.read_sql(\n",
      "/var/folders/d6/7jdh7rbj2f59v10kcc72rsym0000gn/T/ipykernel_19918/4072846926.py:26: UserWarning: pandas only supports SQLAlchemy connectable (engine/connection) or database string URI or sqlite3 DBAPI2 connection. Other DBAPI2 objects are not tested. Please consider using SQLAlchemy.\n",
      "  distinct_values = pd.read_sql(\n",
      "/var/folders/d6/7jdh7rbj2f59v10kcc72rsym0000gn/T/ipykernel_19918/4072846926.py:29: UserWarning: pandas only supports SQLAlchemy connectable (engine/connection) or database string URI or sqlite3 DBAPI2 connection. Other DBAPI2 objects are not tested. Please consider using SQLAlchemy.\n",
      "  null_count = pd.read_sql(\n"
     ]
    },
    {
     "name": "stdout",
     "output_type": "stream",
     "text": [
      "Column: neiii_3869_eqw_err, 775950 distinct val, 0 null values\n"
     ]
    },
    {
     "name": "stderr",
     "output_type": "stream",
     "text": [
      "/var/folders/d6/7jdh7rbj2f59v10kcc72rsym0000gn/T/ipykernel_19918/4072846926.py:6: UserWarning: pandas only supports SQLAlchemy connectable (engine/connection) or database string URI or sqlite3 DBAPI2 connection. Other DBAPI2 objects are not tested. Please consider using SQLAlchemy.\n",
      "  value = pd.read_sql(\n",
      "/var/folders/d6/7jdh7rbj2f59v10kcc72rsym0000gn/T/ipykernel_19918/4072846926.py:22: UserWarning: pandas only supports SQLAlchemy connectable (engine/connection) or database string URI or sqlite3 DBAPI2 connection. Other DBAPI2 objects are not tested. Please consider using SQLAlchemy.\n",
      "  item_count = pd.read_sql(\n",
      "/var/folders/d6/7jdh7rbj2f59v10kcc72rsym0000gn/T/ipykernel_19918/4072846926.py:26: UserWarning: pandas only supports SQLAlchemy connectable (engine/connection) or database string URI or sqlite3 DBAPI2 connection. Other DBAPI2 objects are not tested. Please consider using SQLAlchemy.\n",
      "  distinct_values = pd.read_sql(\n",
      "/var/folders/d6/7jdh7rbj2f59v10kcc72rsym0000gn/T/ipykernel_19918/4072846926.py:29: UserWarning: pandas only supports SQLAlchemy connectable (engine/connection) or database string URI or sqlite3 DBAPI2 connection. Other DBAPI2 objects are not tested. Please consider using SQLAlchemy.\n",
      "  null_count = pd.read_sql(\n"
     ]
    },
    {
     "name": "stdout",
     "output_type": "stream",
     "text": [
      "Column: neiii_3869_flux, 831305 distinct val, 0 null values\n"
     ]
    },
    {
     "name": "stderr",
     "output_type": "stream",
     "text": [
      "/var/folders/d6/7jdh7rbj2f59v10kcc72rsym0000gn/T/ipykernel_19918/4072846926.py:6: UserWarning: pandas only supports SQLAlchemy connectable (engine/connection) or database string URI or sqlite3 DBAPI2 connection. Other DBAPI2 objects are not tested. Please consider using SQLAlchemy.\n",
      "  value = pd.read_sql(\n",
      "/var/folders/d6/7jdh7rbj2f59v10kcc72rsym0000gn/T/ipykernel_19918/4072846926.py:22: UserWarning: pandas only supports SQLAlchemy connectable (engine/connection) or database string URI or sqlite3 DBAPI2 connection. Other DBAPI2 objects are not tested. Please consider using SQLAlchemy.\n",
      "  item_count = pd.read_sql(\n",
      "/var/folders/d6/7jdh7rbj2f59v10kcc72rsym0000gn/T/ipykernel_19918/4072846926.py:26: UserWarning: pandas only supports SQLAlchemy connectable (engine/connection) or database string URI or sqlite3 DBAPI2 connection. Other DBAPI2 objects are not tested. Please consider using SQLAlchemy.\n",
      "  distinct_values = pd.read_sql(\n",
      "/var/folders/d6/7jdh7rbj2f59v10kcc72rsym0000gn/T/ipykernel_19918/4072846926.py:29: UserWarning: pandas only supports SQLAlchemy connectable (engine/connection) or database string URI or sqlite3 DBAPI2 connection. Other DBAPI2 objects are not tested. Please consider using SQLAlchemy.\n",
      "  null_count = pd.read_sql(\n"
     ]
    },
    {
     "name": "stdout",
     "output_type": "stream",
     "text": [
      "Column: neiii_3869_flux_err, 760013 distinct val, 0 null values\n"
     ]
    },
    {
     "name": "stderr",
     "output_type": "stream",
     "text": [
      "/var/folders/d6/7jdh7rbj2f59v10kcc72rsym0000gn/T/ipykernel_19918/4072846926.py:6: UserWarning: pandas only supports SQLAlchemy connectable (engine/connection) or database string URI or sqlite3 DBAPI2 connection. Other DBAPI2 objects are not tested. Please consider using SQLAlchemy.\n",
      "  value = pd.read_sql(\n",
      "/var/folders/d6/7jdh7rbj2f59v10kcc72rsym0000gn/T/ipykernel_19918/4072846926.py:22: UserWarning: pandas only supports SQLAlchemy connectable (engine/connection) or database string URI or sqlite3 DBAPI2 connection. Other DBAPI2 objects are not tested. Please consider using SQLAlchemy.\n",
      "  item_count = pd.read_sql(\n",
      "/var/folders/d6/7jdh7rbj2f59v10kcc72rsym0000gn/T/ipykernel_19918/4072846926.py:26: UserWarning: pandas only supports SQLAlchemy connectable (engine/connection) or database string URI or sqlite3 DBAPI2 connection. Other DBAPI2 objects are not tested. Please consider using SQLAlchemy.\n",
      "  distinct_values = pd.read_sql(\n",
      "/var/folders/d6/7jdh7rbj2f59v10kcc72rsym0000gn/T/ipykernel_19918/4072846926.py:29: UserWarning: pandas only supports SQLAlchemy connectable (engine/connection) or database string URI or sqlite3 DBAPI2 connection. Other DBAPI2 objects are not tested. Please consider using SQLAlchemy.\n",
      "  null_count = pd.read_sql(\n"
     ]
    },
    {
     "name": "stdout",
     "output_type": "stream",
     "text": [
      "Column: neiii_3869_inst_res, 719231 distinct val, 0 null values\n"
     ]
    },
    {
     "name": "stderr",
     "output_type": "stream",
     "text": [
      "/var/folders/d6/7jdh7rbj2f59v10kcc72rsym0000gn/T/ipykernel_19918/4072846926.py:6: UserWarning: pandas only supports SQLAlchemy connectable (engine/connection) or database string URI or sqlite3 DBAPI2 connection. Other DBAPI2 objects are not tested. Please consider using SQLAlchemy.\n",
      "  value = pd.read_sql(\n",
      "/var/folders/d6/7jdh7rbj2f59v10kcc72rsym0000gn/T/ipykernel_19918/4072846926.py:22: UserWarning: pandas only supports SQLAlchemy connectable (engine/connection) or database string URI or sqlite3 DBAPI2 connection. Other DBAPI2 objects are not tested. Please consider using SQLAlchemy.\n",
      "  item_count = pd.read_sql(\n",
      "/var/folders/d6/7jdh7rbj2f59v10kcc72rsym0000gn/T/ipykernel_19918/4072846926.py:26: UserWarning: pandas only supports SQLAlchemy connectable (engine/connection) or database string URI or sqlite3 DBAPI2 connection. Other DBAPI2 objects are not tested. Please consider using SQLAlchemy.\n",
      "  distinct_values = pd.read_sql(\n",
      "/var/folders/d6/7jdh7rbj2f59v10kcc72rsym0000gn/T/ipykernel_19918/4072846926.py:29: UserWarning: pandas only supports SQLAlchemy connectable (engine/connection) or database string URI or sqlite3 DBAPI2 connection. Other DBAPI2 objects are not tested. Please consider using SQLAlchemy.\n",
      "  null_count = pd.read_sql(\n"
     ]
    },
    {
     "name": "stdout",
     "output_type": "stream",
     "text": [
      "Column: neiii_3869_chisq, 775414 distinct val, 0 null values\n"
     ]
    },
    {
     "name": "stderr",
     "output_type": "stream",
     "text": [
      "/var/folders/d6/7jdh7rbj2f59v10kcc72rsym0000gn/T/ipykernel_19918/4072846926.py:6: UserWarning: pandas only supports SQLAlchemy connectable (engine/connection) or database string URI or sqlite3 DBAPI2 connection. Other DBAPI2 objects are not tested. Please consider using SQLAlchemy.\n",
      "  value = pd.read_sql(\n",
      "/var/folders/d6/7jdh7rbj2f59v10kcc72rsym0000gn/T/ipykernel_19918/4072846926.py:22: UserWarning: pandas only supports SQLAlchemy connectable (engine/connection) or database string URI or sqlite3 DBAPI2 connection. Other DBAPI2 objects are not tested. Please consider using SQLAlchemy.\n",
      "  item_count = pd.read_sql(\n",
      "/var/folders/d6/7jdh7rbj2f59v10kcc72rsym0000gn/T/ipykernel_19918/4072846926.py:26: UserWarning: pandas only supports SQLAlchemy connectable (engine/connection) or database string URI or sqlite3 DBAPI2 connection. Other DBAPI2 objects are not tested. Please consider using SQLAlchemy.\n",
      "  distinct_values = pd.read_sql(\n",
      "/var/folders/d6/7jdh7rbj2f59v10kcc72rsym0000gn/T/ipykernel_19918/4072846926.py:29: UserWarning: pandas only supports SQLAlchemy connectable (engine/connection) or database string URI or sqlite3 DBAPI2 connection. Other DBAPI2 objects are not tested. Please consider using SQLAlchemy.\n",
      "  null_count = pd.read_sql(\n"
     ]
    },
    {
     "name": "stdout",
     "output_type": "stream",
     "text": [
      "Column: h_delta_cont, 801002 distinct val, 0 null values\n"
     ]
    },
    {
     "name": "stderr",
     "output_type": "stream",
     "text": [
      "/var/folders/d6/7jdh7rbj2f59v10kcc72rsym0000gn/T/ipykernel_19918/4072846926.py:6: UserWarning: pandas only supports SQLAlchemy connectable (engine/connection) or database string URI or sqlite3 DBAPI2 connection. Other DBAPI2 objects are not tested. Please consider using SQLAlchemy.\n",
      "  value = pd.read_sql(\n",
      "/var/folders/d6/7jdh7rbj2f59v10kcc72rsym0000gn/T/ipykernel_19918/4072846926.py:22: UserWarning: pandas only supports SQLAlchemy connectable (engine/connection) or database string URI or sqlite3 DBAPI2 connection. Other DBAPI2 objects are not tested. Please consider using SQLAlchemy.\n",
      "  item_count = pd.read_sql(\n",
      "/var/folders/d6/7jdh7rbj2f59v10kcc72rsym0000gn/T/ipykernel_19918/4072846926.py:26: UserWarning: pandas only supports SQLAlchemy connectable (engine/connection) or database string URI or sqlite3 DBAPI2 connection. Other DBAPI2 objects are not tested. Please consider using SQLAlchemy.\n",
      "  distinct_values = pd.read_sql(\n",
      "/var/folders/d6/7jdh7rbj2f59v10kcc72rsym0000gn/T/ipykernel_19918/4072846926.py:29: UserWarning: pandas only supports SQLAlchemy connectable (engine/connection) or database string URI or sqlite3 DBAPI2 connection. Other DBAPI2 objects are not tested. Please consider using SQLAlchemy.\n",
      "  null_count = pd.read_sql(\n"
     ]
    },
    {
     "name": "stdout",
     "output_type": "stream",
     "text": [
      "Column: h_delta_cont_err, 693120 distinct val, 0 null values\n"
     ]
    },
    {
     "name": "stderr",
     "output_type": "stream",
     "text": [
      "/var/folders/d6/7jdh7rbj2f59v10kcc72rsym0000gn/T/ipykernel_19918/4072846926.py:6: UserWarning: pandas only supports SQLAlchemy connectable (engine/connection) or database string URI or sqlite3 DBAPI2 connection. Other DBAPI2 objects are not tested. Please consider using SQLAlchemy.\n",
      "  value = pd.read_sql(\n",
      "/var/folders/d6/7jdh7rbj2f59v10kcc72rsym0000gn/T/ipykernel_19918/4072846926.py:22: UserWarning: pandas only supports SQLAlchemy connectable (engine/connection) or database string URI or sqlite3 DBAPI2 connection. Other DBAPI2 objects are not tested. Please consider using SQLAlchemy.\n",
      "  item_count = pd.read_sql(\n",
      "/var/folders/d6/7jdh7rbj2f59v10kcc72rsym0000gn/T/ipykernel_19918/4072846926.py:26: UserWarning: pandas only supports SQLAlchemy connectable (engine/connection) or database string URI or sqlite3 DBAPI2 connection. Other DBAPI2 objects are not tested. Please consider using SQLAlchemy.\n",
      "  distinct_values = pd.read_sql(\n",
      "/var/folders/d6/7jdh7rbj2f59v10kcc72rsym0000gn/T/ipykernel_19918/4072846926.py:29: UserWarning: pandas only supports SQLAlchemy connectable (engine/connection) or database string URI or sqlite3 DBAPI2 connection. Other DBAPI2 objects are not tested. Please consider using SQLAlchemy.\n",
      "  null_count = pd.read_sql(\n"
     ]
    },
    {
     "name": "stdout",
     "output_type": "stream",
     "text": [
      "Column: h_delta_reqw, 800778 distinct val, 0 null values\n"
     ]
    },
    {
     "name": "stderr",
     "output_type": "stream",
     "text": [
      "/var/folders/d6/7jdh7rbj2f59v10kcc72rsym0000gn/T/ipykernel_19918/4072846926.py:6: UserWarning: pandas only supports SQLAlchemy connectable (engine/connection) or database string URI or sqlite3 DBAPI2 connection. Other DBAPI2 objects are not tested. Please consider using SQLAlchemy.\n",
      "  value = pd.read_sql(\n",
      "/var/folders/d6/7jdh7rbj2f59v10kcc72rsym0000gn/T/ipykernel_19918/4072846926.py:22: UserWarning: pandas only supports SQLAlchemy connectable (engine/connection) or database string URI or sqlite3 DBAPI2 connection. Other DBAPI2 objects are not tested. Please consider using SQLAlchemy.\n",
      "  item_count = pd.read_sql(\n",
      "/var/folders/d6/7jdh7rbj2f59v10kcc72rsym0000gn/T/ipykernel_19918/4072846926.py:26: UserWarning: pandas only supports SQLAlchemy connectable (engine/connection) or database string URI or sqlite3 DBAPI2 connection. Other DBAPI2 objects are not tested. Please consider using SQLAlchemy.\n",
      "  distinct_values = pd.read_sql(\n",
      "/var/folders/d6/7jdh7rbj2f59v10kcc72rsym0000gn/T/ipykernel_19918/4072846926.py:29: UserWarning: pandas only supports SQLAlchemy connectable (engine/connection) or database string URI or sqlite3 DBAPI2 connection. Other DBAPI2 objects are not tested. Please consider using SQLAlchemy.\n",
      "  null_count = pd.read_sql(\n"
     ]
    },
    {
     "name": "stdout",
     "output_type": "stream",
     "text": [
      "Column: h_delta_reqw_err, 803618 distinct val, 0 null values\n"
     ]
    },
    {
     "name": "stderr",
     "output_type": "stream",
     "text": [
      "/var/folders/d6/7jdh7rbj2f59v10kcc72rsym0000gn/T/ipykernel_19918/4072846926.py:6: UserWarning: pandas only supports SQLAlchemy connectable (engine/connection) or database string URI or sqlite3 DBAPI2 connection. Other DBAPI2 objects are not tested. Please consider using SQLAlchemy.\n",
      "  value = pd.read_sql(\n",
      "/var/folders/d6/7jdh7rbj2f59v10kcc72rsym0000gn/T/ipykernel_19918/4072846926.py:22: UserWarning: pandas only supports SQLAlchemy connectable (engine/connection) or database string URI or sqlite3 DBAPI2 connection. Other DBAPI2 objects are not tested. Please consider using SQLAlchemy.\n",
      "  item_count = pd.read_sql(\n",
      "/var/folders/d6/7jdh7rbj2f59v10kcc72rsym0000gn/T/ipykernel_19918/4072846926.py:26: UserWarning: pandas only supports SQLAlchemy connectable (engine/connection) or database string URI or sqlite3 DBAPI2 connection. Other DBAPI2 objects are not tested. Please consider using SQLAlchemy.\n",
      "  distinct_values = pd.read_sql(\n",
      "/var/folders/d6/7jdh7rbj2f59v10kcc72rsym0000gn/T/ipykernel_19918/4072846926.py:29: UserWarning: pandas only supports SQLAlchemy connectable (engine/connection) or database string URI or sqlite3 DBAPI2 connection. Other DBAPI2 objects are not tested. Please consider using SQLAlchemy.\n",
      "  null_count = pd.read_sql(\n"
     ]
    },
    {
     "name": "stdout",
     "output_type": "stream",
     "text": [
      "Column: h_delta_eqw, 830706 distinct val, 0 null values\n"
     ]
    },
    {
     "name": "stderr",
     "output_type": "stream",
     "text": [
      "/var/folders/d6/7jdh7rbj2f59v10kcc72rsym0000gn/T/ipykernel_19918/4072846926.py:6: UserWarning: pandas only supports SQLAlchemy connectable (engine/connection) or database string URI or sqlite3 DBAPI2 connection. Other DBAPI2 objects are not tested. Please consider using SQLAlchemy.\n",
      "  value = pd.read_sql(\n",
      "/var/folders/d6/7jdh7rbj2f59v10kcc72rsym0000gn/T/ipykernel_19918/4072846926.py:22: UserWarning: pandas only supports SQLAlchemy connectable (engine/connection) or database string URI or sqlite3 DBAPI2 connection. Other DBAPI2 objects are not tested. Please consider using SQLAlchemy.\n",
      "  item_count = pd.read_sql(\n",
      "/var/folders/d6/7jdh7rbj2f59v10kcc72rsym0000gn/T/ipykernel_19918/4072846926.py:26: UserWarning: pandas only supports SQLAlchemy connectable (engine/connection) or database string URI or sqlite3 DBAPI2 connection. Other DBAPI2 objects are not tested. Please consider using SQLAlchemy.\n",
      "  distinct_values = pd.read_sql(\n",
      "/var/folders/d6/7jdh7rbj2f59v10kcc72rsym0000gn/T/ipykernel_19918/4072846926.py:29: UserWarning: pandas only supports SQLAlchemy connectable (engine/connection) or database string URI or sqlite3 DBAPI2 connection. Other DBAPI2 objects are not tested. Please consider using SQLAlchemy.\n",
      "  null_count = pd.read_sql(\n"
     ]
    },
    {
     "name": "stdout",
     "output_type": "stream",
     "text": [
      "Column: h_delta_eqw_err, 803618 distinct val, 0 null values\n"
     ]
    },
    {
     "name": "stderr",
     "output_type": "stream",
     "text": [
      "/var/folders/d6/7jdh7rbj2f59v10kcc72rsym0000gn/T/ipykernel_19918/4072846926.py:6: UserWarning: pandas only supports SQLAlchemy connectable (engine/connection) or database string URI or sqlite3 DBAPI2 connection. Other DBAPI2 objects are not tested. Please consider using SQLAlchemy.\n",
      "  value = pd.read_sql(\n",
      "/var/folders/d6/7jdh7rbj2f59v10kcc72rsym0000gn/T/ipykernel_19918/4072846926.py:22: UserWarning: pandas only supports SQLAlchemy connectable (engine/connection) or database string URI or sqlite3 DBAPI2 connection. Other DBAPI2 objects are not tested. Please consider using SQLAlchemy.\n",
      "  item_count = pd.read_sql(\n",
      "/var/folders/d6/7jdh7rbj2f59v10kcc72rsym0000gn/T/ipykernel_19918/4072846926.py:26: UserWarning: pandas only supports SQLAlchemy connectable (engine/connection) or database string URI or sqlite3 DBAPI2 connection. Other DBAPI2 objects are not tested. Please consider using SQLAlchemy.\n",
      "  distinct_values = pd.read_sql(\n",
      "/var/folders/d6/7jdh7rbj2f59v10kcc72rsym0000gn/T/ipykernel_19918/4072846926.py:29: UserWarning: pandas only supports SQLAlchemy connectable (engine/connection) or database string URI or sqlite3 DBAPI2 connection. Other DBAPI2 objects are not tested. Please consider using SQLAlchemy.\n",
      "  null_count = pd.read_sql(\n"
     ]
    },
    {
     "name": "stdout",
     "output_type": "stream",
     "text": [
      "Column: h_delta_flux, 832062 distinct val, 0 null values\n"
     ]
    },
    {
     "name": "stderr",
     "output_type": "stream",
     "text": [
      "/var/folders/d6/7jdh7rbj2f59v10kcc72rsym0000gn/T/ipykernel_19918/4072846926.py:6: UserWarning: pandas only supports SQLAlchemy connectable (engine/connection) or database string URI or sqlite3 DBAPI2 connection. Other DBAPI2 objects are not tested. Please consider using SQLAlchemy.\n",
      "  value = pd.read_sql(\n",
      "/var/folders/d6/7jdh7rbj2f59v10kcc72rsym0000gn/T/ipykernel_19918/4072846926.py:22: UserWarning: pandas only supports SQLAlchemy connectable (engine/connection) or database string URI or sqlite3 DBAPI2 connection. Other DBAPI2 objects are not tested. Please consider using SQLAlchemy.\n",
      "  item_count = pd.read_sql(\n",
      "/var/folders/d6/7jdh7rbj2f59v10kcc72rsym0000gn/T/ipykernel_19918/4072846926.py:26: UserWarning: pandas only supports SQLAlchemy connectable (engine/connection) or database string URI or sqlite3 DBAPI2 connection. Other DBAPI2 objects are not tested. Please consider using SQLAlchemy.\n",
      "  distinct_values = pd.read_sql(\n",
      "/var/folders/d6/7jdh7rbj2f59v10kcc72rsym0000gn/T/ipykernel_19918/4072846926.py:29: UserWarning: pandas only supports SQLAlchemy connectable (engine/connection) or database string URI or sqlite3 DBAPI2 connection. Other DBAPI2 objects are not tested. Please consider using SQLAlchemy.\n",
      "  null_count = pd.read_sql(\n"
     ]
    },
    {
     "name": "stdout",
     "output_type": "stream",
     "text": [
      "Column: h_delta_flux_err, 744626 distinct val, 0 null values\n"
     ]
    },
    {
     "name": "stderr",
     "output_type": "stream",
     "text": [
      "/var/folders/d6/7jdh7rbj2f59v10kcc72rsym0000gn/T/ipykernel_19918/4072846926.py:6: UserWarning: pandas only supports SQLAlchemy connectable (engine/connection) or database string URI or sqlite3 DBAPI2 connection. Other DBAPI2 objects are not tested. Please consider using SQLAlchemy.\n",
      "  value = pd.read_sql(\n",
      "/var/folders/d6/7jdh7rbj2f59v10kcc72rsym0000gn/T/ipykernel_19918/4072846926.py:22: UserWarning: pandas only supports SQLAlchemy connectable (engine/connection) or database string URI or sqlite3 DBAPI2 connection. Other DBAPI2 objects are not tested. Please consider using SQLAlchemy.\n",
      "  item_count = pd.read_sql(\n",
      "/var/folders/d6/7jdh7rbj2f59v10kcc72rsym0000gn/T/ipykernel_19918/4072846926.py:26: UserWarning: pandas only supports SQLAlchemy connectable (engine/connection) or database string URI or sqlite3 DBAPI2 connection. Other DBAPI2 objects are not tested. Please consider using SQLAlchemy.\n",
      "  distinct_values = pd.read_sql(\n",
      "/var/folders/d6/7jdh7rbj2f59v10kcc72rsym0000gn/T/ipykernel_19918/4072846926.py:29: UserWarning: pandas only supports SQLAlchemy connectable (engine/connection) or database string URI or sqlite3 DBAPI2 connection. Other DBAPI2 objects are not tested. Please consider using SQLAlchemy.\n",
      "  null_count = pd.read_sql(\n"
     ]
    },
    {
     "name": "stdout",
     "output_type": "stream",
     "text": [
      "Column: h_delta_inst_res, 708605 distinct val, 0 null values\n"
     ]
    },
    {
     "name": "stderr",
     "output_type": "stream",
     "text": [
      "/var/folders/d6/7jdh7rbj2f59v10kcc72rsym0000gn/T/ipykernel_19918/4072846926.py:6: UserWarning: pandas only supports SQLAlchemy connectable (engine/connection) or database string URI or sqlite3 DBAPI2 connection. Other DBAPI2 objects are not tested. Please consider using SQLAlchemy.\n",
      "  value = pd.read_sql(\n",
      "/var/folders/d6/7jdh7rbj2f59v10kcc72rsym0000gn/T/ipykernel_19918/4072846926.py:22: UserWarning: pandas only supports SQLAlchemy connectable (engine/connection) or database string URI or sqlite3 DBAPI2 connection. Other DBAPI2 objects are not tested. Please consider using SQLAlchemy.\n",
      "  item_count = pd.read_sql(\n",
      "/var/folders/d6/7jdh7rbj2f59v10kcc72rsym0000gn/T/ipykernel_19918/4072846926.py:26: UserWarning: pandas only supports SQLAlchemy connectable (engine/connection) or database string URI or sqlite3 DBAPI2 connection. Other DBAPI2 objects are not tested. Please consider using SQLAlchemy.\n",
      "  distinct_values = pd.read_sql(\n",
      "/var/folders/d6/7jdh7rbj2f59v10kcc72rsym0000gn/T/ipykernel_19918/4072846926.py:29: UserWarning: pandas only supports SQLAlchemy connectable (engine/connection) or database string URI or sqlite3 DBAPI2 connection. Other DBAPI2 objects are not tested. Please consider using SQLAlchemy.\n",
      "  null_count = pd.read_sql(\n"
     ]
    },
    {
     "name": "stdout",
     "output_type": "stream",
     "text": [
      "Column: h_delta_chisq, 777697 distinct val, 0 null values\n"
     ]
    },
    {
     "name": "stderr",
     "output_type": "stream",
     "text": [
      "/var/folders/d6/7jdh7rbj2f59v10kcc72rsym0000gn/T/ipykernel_19918/4072846926.py:6: UserWarning: pandas only supports SQLAlchemy connectable (engine/connection) or database string URI or sqlite3 DBAPI2 connection. Other DBAPI2 objects are not tested. Please consider using SQLAlchemy.\n",
      "  value = pd.read_sql(\n",
      "/var/folders/d6/7jdh7rbj2f59v10kcc72rsym0000gn/T/ipykernel_19918/4072846926.py:22: UserWarning: pandas only supports SQLAlchemy connectable (engine/connection) or database string URI or sqlite3 DBAPI2 connection. Other DBAPI2 objects are not tested. Please consider using SQLAlchemy.\n",
      "  item_count = pd.read_sql(\n",
      "/var/folders/d6/7jdh7rbj2f59v10kcc72rsym0000gn/T/ipykernel_19918/4072846926.py:26: UserWarning: pandas only supports SQLAlchemy connectable (engine/connection) or database string URI or sqlite3 DBAPI2 connection. Other DBAPI2 objects are not tested. Please consider using SQLAlchemy.\n",
      "  distinct_values = pd.read_sql(\n",
      "/var/folders/d6/7jdh7rbj2f59v10kcc72rsym0000gn/T/ipykernel_19918/4072846926.py:29: UserWarning: pandas only supports SQLAlchemy connectable (engine/connection) or database string URI or sqlite3 DBAPI2 connection. Other DBAPI2 objects are not tested. Please consider using SQLAlchemy.\n",
      "  null_count = pd.read_sql(\n"
     ]
    },
    {
     "name": "stdout",
     "output_type": "stream",
     "text": [
      "Column: h_gamma_cont, 796243 distinct val, 0 null values\n"
     ]
    },
    {
     "name": "stderr",
     "output_type": "stream",
     "text": [
      "/var/folders/d6/7jdh7rbj2f59v10kcc72rsym0000gn/T/ipykernel_19918/4072846926.py:6: UserWarning: pandas only supports SQLAlchemy connectable (engine/connection) or database string URI or sqlite3 DBAPI2 connection. Other DBAPI2 objects are not tested. Please consider using SQLAlchemy.\n",
      "  value = pd.read_sql(\n",
      "/var/folders/d6/7jdh7rbj2f59v10kcc72rsym0000gn/T/ipykernel_19918/4072846926.py:22: UserWarning: pandas only supports SQLAlchemy connectable (engine/connection) or database string URI or sqlite3 DBAPI2 connection. Other DBAPI2 objects are not tested. Please consider using SQLAlchemy.\n",
      "  item_count = pd.read_sql(\n",
      "/var/folders/d6/7jdh7rbj2f59v10kcc72rsym0000gn/T/ipykernel_19918/4072846926.py:26: UserWarning: pandas only supports SQLAlchemy connectable (engine/connection) or database string URI or sqlite3 DBAPI2 connection. Other DBAPI2 objects are not tested. Please consider using SQLAlchemy.\n",
      "  distinct_values = pd.read_sql(\n",
      "/var/folders/d6/7jdh7rbj2f59v10kcc72rsym0000gn/T/ipykernel_19918/4072846926.py:29: UserWarning: pandas only supports SQLAlchemy connectable (engine/connection) or database string URI or sqlite3 DBAPI2 connection. Other DBAPI2 objects are not tested. Please consider using SQLAlchemy.\n",
      "  null_count = pd.read_sql(\n"
     ]
    },
    {
     "name": "stdout",
     "output_type": "stream",
     "text": [
      "Column: h_gamma_cont_err, 725254 distinct val, 0 null values\n"
     ]
    },
    {
     "name": "stderr",
     "output_type": "stream",
     "text": [
      "/var/folders/d6/7jdh7rbj2f59v10kcc72rsym0000gn/T/ipykernel_19918/4072846926.py:6: UserWarning: pandas only supports SQLAlchemy connectable (engine/connection) or database string URI or sqlite3 DBAPI2 connection. Other DBAPI2 objects are not tested. Please consider using SQLAlchemy.\n",
      "  value = pd.read_sql(\n",
      "/var/folders/d6/7jdh7rbj2f59v10kcc72rsym0000gn/T/ipykernel_19918/4072846926.py:22: UserWarning: pandas only supports SQLAlchemy connectable (engine/connection) or database string URI or sqlite3 DBAPI2 connection. Other DBAPI2 objects are not tested. Please consider using SQLAlchemy.\n",
      "  item_count = pd.read_sql(\n",
      "/var/folders/d6/7jdh7rbj2f59v10kcc72rsym0000gn/T/ipykernel_19918/4072846926.py:26: UserWarning: pandas only supports SQLAlchemy connectable (engine/connection) or database string URI or sqlite3 DBAPI2 connection. Other DBAPI2 objects are not tested. Please consider using SQLAlchemy.\n",
      "  distinct_values = pd.read_sql(\n",
      "/var/folders/d6/7jdh7rbj2f59v10kcc72rsym0000gn/T/ipykernel_19918/4072846926.py:29: UserWarning: pandas only supports SQLAlchemy connectable (engine/connection) or database string URI or sqlite3 DBAPI2 connection. Other DBAPI2 objects are not tested. Please consider using SQLAlchemy.\n",
      "  null_count = pd.read_sql(\n"
     ]
    },
    {
     "name": "stdout",
     "output_type": "stream",
     "text": [
      "Column: h_gamma_reqw, 827189 distinct val, 0 null values\n"
     ]
    },
    {
     "name": "stderr",
     "output_type": "stream",
     "text": [
      "/var/folders/d6/7jdh7rbj2f59v10kcc72rsym0000gn/T/ipykernel_19918/4072846926.py:6: UserWarning: pandas only supports SQLAlchemy connectable (engine/connection) or database string URI or sqlite3 DBAPI2 connection. Other DBAPI2 objects are not tested. Please consider using SQLAlchemy.\n",
      "  value = pd.read_sql(\n",
      "/var/folders/d6/7jdh7rbj2f59v10kcc72rsym0000gn/T/ipykernel_19918/4072846926.py:22: UserWarning: pandas only supports SQLAlchemy connectable (engine/connection) or database string URI or sqlite3 DBAPI2 connection. Other DBAPI2 objects are not tested. Please consider using SQLAlchemy.\n",
      "  item_count = pd.read_sql(\n",
      "/var/folders/d6/7jdh7rbj2f59v10kcc72rsym0000gn/T/ipykernel_19918/4072846926.py:26: UserWarning: pandas only supports SQLAlchemy connectable (engine/connection) or database string URI or sqlite3 DBAPI2 connection. Other DBAPI2 objects are not tested. Please consider using SQLAlchemy.\n",
      "  distinct_values = pd.read_sql(\n",
      "/var/folders/d6/7jdh7rbj2f59v10kcc72rsym0000gn/T/ipykernel_19918/4072846926.py:29: UserWarning: pandas only supports SQLAlchemy connectable (engine/connection) or database string URI or sqlite3 DBAPI2 connection. Other DBAPI2 objects are not tested. Please consider using SQLAlchemy.\n",
      "  null_count = pd.read_sql(\n"
     ]
    },
    {
     "name": "stdout",
     "output_type": "stream",
     "text": [
      "Column: h_gamma_reqw_err, 801913 distinct val, 0 null values\n"
     ]
    },
    {
     "name": "stderr",
     "output_type": "stream",
     "text": [
      "/var/folders/d6/7jdh7rbj2f59v10kcc72rsym0000gn/T/ipykernel_19918/4072846926.py:6: UserWarning: pandas only supports SQLAlchemy connectable (engine/connection) or database string URI or sqlite3 DBAPI2 connection. Other DBAPI2 objects are not tested. Please consider using SQLAlchemy.\n",
      "  value = pd.read_sql(\n",
      "/var/folders/d6/7jdh7rbj2f59v10kcc72rsym0000gn/T/ipykernel_19918/4072846926.py:22: UserWarning: pandas only supports SQLAlchemy connectable (engine/connection) or database string URI or sqlite3 DBAPI2 connection. Other DBAPI2 objects are not tested. Please consider using SQLAlchemy.\n",
      "  item_count = pd.read_sql(\n",
      "/var/folders/d6/7jdh7rbj2f59v10kcc72rsym0000gn/T/ipykernel_19918/4072846926.py:26: UserWarning: pandas only supports SQLAlchemy connectable (engine/connection) or database string URI or sqlite3 DBAPI2 connection. Other DBAPI2 objects are not tested. Please consider using SQLAlchemy.\n",
      "  distinct_values = pd.read_sql(\n",
      "/var/folders/d6/7jdh7rbj2f59v10kcc72rsym0000gn/T/ipykernel_19918/4072846926.py:29: UserWarning: pandas only supports SQLAlchemy connectable (engine/connection) or database string URI or sqlite3 DBAPI2 connection. Other DBAPI2 objects are not tested. Please consider using SQLAlchemy.\n",
      "  null_count = pd.read_sql(\n"
     ]
    },
    {
     "name": "stdout",
     "output_type": "stream",
     "text": [
      "Column: h_gamma_eqw, 830647 distinct val, 0 null values\n"
     ]
    },
    {
     "name": "stderr",
     "output_type": "stream",
     "text": [
      "/var/folders/d6/7jdh7rbj2f59v10kcc72rsym0000gn/T/ipykernel_19918/4072846926.py:6: UserWarning: pandas only supports SQLAlchemy connectable (engine/connection) or database string URI or sqlite3 DBAPI2 connection. Other DBAPI2 objects are not tested. Please consider using SQLAlchemy.\n",
      "  value = pd.read_sql(\n",
      "/var/folders/d6/7jdh7rbj2f59v10kcc72rsym0000gn/T/ipykernel_19918/4072846926.py:22: UserWarning: pandas only supports SQLAlchemy connectable (engine/connection) or database string URI or sqlite3 DBAPI2 connection. Other DBAPI2 objects are not tested. Please consider using SQLAlchemy.\n",
      "  item_count = pd.read_sql(\n",
      "/var/folders/d6/7jdh7rbj2f59v10kcc72rsym0000gn/T/ipykernel_19918/4072846926.py:26: UserWarning: pandas only supports SQLAlchemy connectable (engine/connection) or database string URI or sqlite3 DBAPI2 connection. Other DBAPI2 objects are not tested. Please consider using SQLAlchemy.\n",
      "  distinct_values = pd.read_sql(\n",
      "/var/folders/d6/7jdh7rbj2f59v10kcc72rsym0000gn/T/ipykernel_19918/4072846926.py:29: UserWarning: pandas only supports SQLAlchemy connectable (engine/connection) or database string URI or sqlite3 DBAPI2 connection. Other DBAPI2 objects are not tested. Please consider using SQLAlchemy.\n",
      "  null_count = pd.read_sql(\n"
     ]
    },
    {
     "name": "stdout",
     "output_type": "stream",
     "text": [
      "Column: h_gamma_eqw_err, 801913 distinct val, 0 null values\n"
     ]
    },
    {
     "name": "stderr",
     "output_type": "stream",
     "text": [
      "/var/folders/d6/7jdh7rbj2f59v10kcc72rsym0000gn/T/ipykernel_19918/4072846926.py:6: UserWarning: pandas only supports SQLAlchemy connectable (engine/connection) or database string URI or sqlite3 DBAPI2 connection. Other DBAPI2 objects are not tested. Please consider using SQLAlchemy.\n",
      "  value = pd.read_sql(\n",
      "/var/folders/d6/7jdh7rbj2f59v10kcc72rsym0000gn/T/ipykernel_19918/4072846926.py:22: UserWarning: pandas only supports SQLAlchemy connectable (engine/connection) or database string URI or sqlite3 DBAPI2 connection. Other DBAPI2 objects are not tested. Please consider using SQLAlchemy.\n",
      "  item_count = pd.read_sql(\n",
      "/var/folders/d6/7jdh7rbj2f59v10kcc72rsym0000gn/T/ipykernel_19918/4072846926.py:26: UserWarning: pandas only supports SQLAlchemy connectable (engine/connection) or database string URI or sqlite3 DBAPI2 connection. Other DBAPI2 objects are not tested. Please consider using SQLAlchemy.\n",
      "  distinct_values = pd.read_sql(\n",
      "/var/folders/d6/7jdh7rbj2f59v10kcc72rsym0000gn/T/ipykernel_19918/4072846926.py:29: UserWarning: pandas only supports SQLAlchemy connectable (engine/connection) or database string URI or sqlite3 DBAPI2 connection. Other DBAPI2 objects are not tested. Please consider using SQLAlchemy.\n",
      "  null_count = pd.read_sql(\n"
     ]
    },
    {
     "name": "stdout",
     "output_type": "stream",
     "text": [
      "Column: h_gamma_flux, 829700 distinct val, 0 null values\n"
     ]
    },
    {
     "name": "stderr",
     "output_type": "stream",
     "text": [
      "/var/folders/d6/7jdh7rbj2f59v10kcc72rsym0000gn/T/ipykernel_19918/4072846926.py:6: UserWarning: pandas only supports SQLAlchemy connectable (engine/connection) or database string URI or sqlite3 DBAPI2 connection. Other DBAPI2 objects are not tested. Please consider using SQLAlchemy.\n",
      "  value = pd.read_sql(\n",
      "/var/folders/d6/7jdh7rbj2f59v10kcc72rsym0000gn/T/ipykernel_19918/4072846926.py:22: UserWarning: pandas only supports SQLAlchemy connectable (engine/connection) or database string URI or sqlite3 DBAPI2 connection. Other DBAPI2 objects are not tested. Please consider using SQLAlchemy.\n",
      "  item_count = pd.read_sql(\n",
      "/var/folders/d6/7jdh7rbj2f59v10kcc72rsym0000gn/T/ipykernel_19918/4072846926.py:26: UserWarning: pandas only supports SQLAlchemy connectable (engine/connection) or database string URI or sqlite3 DBAPI2 connection. Other DBAPI2 objects are not tested. Please consider using SQLAlchemy.\n",
      "  distinct_values = pd.read_sql(\n",
      "/var/folders/d6/7jdh7rbj2f59v10kcc72rsym0000gn/T/ipykernel_19918/4072846926.py:29: UserWarning: pandas only supports SQLAlchemy connectable (engine/connection) or database string URI or sqlite3 DBAPI2 connection. Other DBAPI2 objects are not tested. Please consider using SQLAlchemy.\n",
      "  null_count = pd.read_sql(\n"
     ]
    },
    {
     "name": "stdout",
     "output_type": "stream",
     "text": [
      "Column: h_gamma_flux_err, 739902 distinct val, 0 null values\n"
     ]
    },
    {
     "name": "stderr",
     "output_type": "stream",
     "text": [
      "/var/folders/d6/7jdh7rbj2f59v10kcc72rsym0000gn/T/ipykernel_19918/4072846926.py:6: UserWarning: pandas only supports SQLAlchemy connectable (engine/connection) or database string URI or sqlite3 DBAPI2 connection. Other DBAPI2 objects are not tested. Please consider using SQLAlchemy.\n",
      "  value = pd.read_sql(\n",
      "/var/folders/d6/7jdh7rbj2f59v10kcc72rsym0000gn/T/ipykernel_19918/4072846926.py:22: UserWarning: pandas only supports SQLAlchemy connectable (engine/connection) or database string URI or sqlite3 DBAPI2 connection. Other DBAPI2 objects are not tested. Please consider using SQLAlchemy.\n",
      "  item_count = pd.read_sql(\n",
      "/var/folders/d6/7jdh7rbj2f59v10kcc72rsym0000gn/T/ipykernel_19918/4072846926.py:26: UserWarning: pandas only supports SQLAlchemy connectable (engine/connection) or database string URI or sqlite3 DBAPI2 connection. Other DBAPI2 objects are not tested. Please consider using SQLAlchemy.\n",
      "  distinct_values = pd.read_sql(\n",
      "/var/folders/d6/7jdh7rbj2f59v10kcc72rsym0000gn/T/ipykernel_19918/4072846926.py:29: UserWarning: pandas only supports SQLAlchemy connectable (engine/connection) or database string URI or sqlite3 DBAPI2 connection. Other DBAPI2 objects are not tested. Please consider using SQLAlchemy.\n",
      "  null_count = pd.read_sql(\n"
     ]
    },
    {
     "name": "stdout",
     "output_type": "stream",
     "text": [
      "Column: h_gamma_inst_res, 693453 distinct val, 0 null values\n"
     ]
    },
    {
     "name": "stderr",
     "output_type": "stream",
     "text": [
      "/var/folders/d6/7jdh7rbj2f59v10kcc72rsym0000gn/T/ipykernel_19918/4072846926.py:6: UserWarning: pandas only supports SQLAlchemy connectable (engine/connection) or database string URI or sqlite3 DBAPI2 connection. Other DBAPI2 objects are not tested. Please consider using SQLAlchemy.\n",
      "  value = pd.read_sql(\n",
      "/var/folders/d6/7jdh7rbj2f59v10kcc72rsym0000gn/T/ipykernel_19918/4072846926.py:22: UserWarning: pandas only supports SQLAlchemy connectable (engine/connection) or database string URI or sqlite3 DBAPI2 connection. Other DBAPI2 objects are not tested. Please consider using SQLAlchemy.\n",
      "  item_count = pd.read_sql(\n",
      "/var/folders/d6/7jdh7rbj2f59v10kcc72rsym0000gn/T/ipykernel_19918/4072846926.py:26: UserWarning: pandas only supports SQLAlchemy connectable (engine/connection) or database string URI or sqlite3 DBAPI2 connection. Other DBAPI2 objects are not tested. Please consider using SQLAlchemy.\n",
      "  distinct_values = pd.read_sql(\n",
      "/var/folders/d6/7jdh7rbj2f59v10kcc72rsym0000gn/T/ipykernel_19918/4072846926.py:29: UserWarning: pandas only supports SQLAlchemy connectable (engine/connection) or database string URI or sqlite3 DBAPI2 connection. Other DBAPI2 objects are not tested. Please consider using SQLAlchemy.\n",
      "  null_count = pd.read_sql(\n"
     ]
    },
    {
     "name": "stdout",
     "output_type": "stream",
     "text": [
      "Column: h_gamma_chisq, 782637 distinct val, 0 null values\n"
     ]
    },
    {
     "name": "stderr",
     "output_type": "stream",
     "text": [
      "/var/folders/d6/7jdh7rbj2f59v10kcc72rsym0000gn/T/ipykernel_19918/4072846926.py:6: UserWarning: pandas only supports SQLAlchemy connectable (engine/connection) or database string URI or sqlite3 DBAPI2 connection. Other DBAPI2 objects are not tested. Please consider using SQLAlchemy.\n",
      "  value = pd.read_sql(\n",
      "/var/folders/d6/7jdh7rbj2f59v10kcc72rsym0000gn/T/ipykernel_19918/4072846926.py:22: UserWarning: pandas only supports SQLAlchemy connectable (engine/connection) or database string URI or sqlite3 DBAPI2 connection. Other DBAPI2 objects are not tested. Please consider using SQLAlchemy.\n",
      "  item_count = pd.read_sql(\n",
      "/var/folders/d6/7jdh7rbj2f59v10kcc72rsym0000gn/T/ipykernel_19918/4072846926.py:26: UserWarning: pandas only supports SQLAlchemy connectable (engine/connection) or database string URI or sqlite3 DBAPI2 connection. Other DBAPI2 objects are not tested. Please consider using SQLAlchemy.\n",
      "  distinct_values = pd.read_sql(\n",
      "/var/folders/d6/7jdh7rbj2f59v10kcc72rsym0000gn/T/ipykernel_19918/4072846926.py:29: UserWarning: pandas only supports SQLAlchemy connectable (engine/connection) or database string URI or sqlite3 DBAPI2 connection. Other DBAPI2 objects are not tested. Please consider using SQLAlchemy.\n",
      "  null_count = pd.read_sql(\n"
     ]
    },
    {
     "name": "stdout",
     "output_type": "stream",
     "text": [
      "Column: oiii_4363_cont, 793479 distinct val, 0 null values\n"
     ]
    },
    {
     "name": "stderr",
     "output_type": "stream",
     "text": [
      "/var/folders/d6/7jdh7rbj2f59v10kcc72rsym0000gn/T/ipykernel_19918/4072846926.py:6: UserWarning: pandas only supports SQLAlchemy connectable (engine/connection) or database string URI or sqlite3 DBAPI2 connection. Other DBAPI2 objects are not tested. Please consider using SQLAlchemy.\n",
      "  value = pd.read_sql(\n",
      "/var/folders/d6/7jdh7rbj2f59v10kcc72rsym0000gn/T/ipykernel_19918/4072846926.py:22: UserWarning: pandas only supports SQLAlchemy connectable (engine/connection) or database string URI or sqlite3 DBAPI2 connection. Other DBAPI2 objects are not tested. Please consider using SQLAlchemy.\n",
      "  item_count = pd.read_sql(\n",
      "/var/folders/d6/7jdh7rbj2f59v10kcc72rsym0000gn/T/ipykernel_19918/4072846926.py:26: UserWarning: pandas only supports SQLAlchemy connectable (engine/connection) or database string URI or sqlite3 DBAPI2 connection. Other DBAPI2 objects are not tested. Please consider using SQLAlchemy.\n",
      "  distinct_values = pd.read_sql(\n",
      "/var/folders/d6/7jdh7rbj2f59v10kcc72rsym0000gn/T/ipykernel_19918/4072846926.py:29: UserWarning: pandas only supports SQLAlchemy connectable (engine/connection) or database string URI or sqlite3 DBAPI2 connection. Other DBAPI2 objects are not tested. Please consider using SQLAlchemy.\n",
      "  null_count = pd.read_sql(\n"
     ]
    },
    {
     "name": "stdout",
     "output_type": "stream",
     "text": [
      "Column: oiii_4363_cont_err, 726977 distinct val, 0 null values\n"
     ]
    },
    {
     "name": "stderr",
     "output_type": "stream",
     "text": [
      "/var/folders/d6/7jdh7rbj2f59v10kcc72rsym0000gn/T/ipykernel_19918/4072846926.py:6: UserWarning: pandas only supports SQLAlchemy connectable (engine/connection) or database string URI or sqlite3 DBAPI2 connection. Other DBAPI2 objects are not tested. Please consider using SQLAlchemy.\n",
      "  value = pd.read_sql(\n",
      "/var/folders/d6/7jdh7rbj2f59v10kcc72rsym0000gn/T/ipykernel_19918/4072846926.py:22: UserWarning: pandas only supports SQLAlchemy connectable (engine/connection) or database string URI or sqlite3 DBAPI2 connection. Other DBAPI2 objects are not tested. Please consider using SQLAlchemy.\n",
      "  item_count = pd.read_sql(\n",
      "/var/folders/d6/7jdh7rbj2f59v10kcc72rsym0000gn/T/ipykernel_19918/4072846926.py:26: UserWarning: pandas only supports SQLAlchemy connectable (engine/connection) or database string URI or sqlite3 DBAPI2 connection. Other DBAPI2 objects are not tested. Please consider using SQLAlchemy.\n",
      "  distinct_values = pd.read_sql(\n",
      "/var/folders/d6/7jdh7rbj2f59v10kcc72rsym0000gn/T/ipykernel_19918/4072846926.py:29: UserWarning: pandas only supports SQLAlchemy connectable (engine/connection) or database string URI or sqlite3 DBAPI2 connection. Other DBAPI2 objects are not tested. Please consider using SQLAlchemy.\n",
      "  null_count = pd.read_sql(\n"
     ]
    },
    {
     "name": "stdout",
     "output_type": "stream",
     "text": [
      "Column: oiii_4363_reqw, 759767 distinct val, 0 null values\n"
     ]
    },
    {
     "name": "stderr",
     "output_type": "stream",
     "text": [
      "/var/folders/d6/7jdh7rbj2f59v10kcc72rsym0000gn/T/ipykernel_19918/4072846926.py:6: UserWarning: pandas only supports SQLAlchemy connectable (engine/connection) or database string URI or sqlite3 DBAPI2 connection. Other DBAPI2 objects are not tested. Please consider using SQLAlchemy.\n",
      "  value = pd.read_sql(\n",
      "/var/folders/d6/7jdh7rbj2f59v10kcc72rsym0000gn/T/ipykernel_19918/4072846926.py:22: UserWarning: pandas only supports SQLAlchemy connectable (engine/connection) or database string URI or sqlite3 DBAPI2 connection. Other DBAPI2 objects are not tested. Please consider using SQLAlchemy.\n",
      "  item_count = pd.read_sql(\n",
      "/var/folders/d6/7jdh7rbj2f59v10kcc72rsym0000gn/T/ipykernel_19918/4072846926.py:26: UserWarning: pandas only supports SQLAlchemy connectable (engine/connection) or database string URI or sqlite3 DBAPI2 connection. Other DBAPI2 objects are not tested. Please consider using SQLAlchemy.\n",
      "  distinct_values = pd.read_sql(\n",
      "/var/folders/d6/7jdh7rbj2f59v10kcc72rsym0000gn/T/ipykernel_19918/4072846926.py:29: UserWarning: pandas only supports SQLAlchemy connectable (engine/connection) or database string URI or sqlite3 DBAPI2 connection. Other DBAPI2 objects are not tested. Please consider using SQLAlchemy.\n",
      "  null_count = pd.read_sql(\n"
     ]
    },
    {
     "name": "stdout",
     "output_type": "stream",
     "text": [
      "Column: oiii_4363_reqw_err, 802965 distinct val, 0 null values\n"
     ]
    },
    {
     "name": "stderr",
     "output_type": "stream",
     "text": [
      "/var/folders/d6/7jdh7rbj2f59v10kcc72rsym0000gn/T/ipykernel_19918/4072846926.py:6: UserWarning: pandas only supports SQLAlchemy connectable (engine/connection) or database string URI or sqlite3 DBAPI2 connection. Other DBAPI2 objects are not tested. Please consider using SQLAlchemy.\n",
      "  value = pd.read_sql(\n",
      "/var/folders/d6/7jdh7rbj2f59v10kcc72rsym0000gn/T/ipykernel_19918/4072846926.py:22: UserWarning: pandas only supports SQLAlchemy connectable (engine/connection) or database string URI or sqlite3 DBAPI2 connection. Other DBAPI2 objects are not tested. Please consider using SQLAlchemy.\n",
      "  item_count = pd.read_sql(\n",
      "/var/folders/d6/7jdh7rbj2f59v10kcc72rsym0000gn/T/ipykernel_19918/4072846926.py:26: UserWarning: pandas only supports SQLAlchemy connectable (engine/connection) or database string URI or sqlite3 DBAPI2 connection. Other DBAPI2 objects are not tested. Please consider using SQLAlchemy.\n",
      "  distinct_values = pd.read_sql(\n",
      "/var/folders/d6/7jdh7rbj2f59v10kcc72rsym0000gn/T/ipykernel_19918/4072846926.py:29: UserWarning: pandas only supports SQLAlchemy connectable (engine/connection) or database string URI or sqlite3 DBAPI2 connection. Other DBAPI2 objects are not tested. Please consider using SQLAlchemy.\n",
      "  null_count = pd.read_sql(\n"
     ]
    },
    {
     "name": "stdout",
     "output_type": "stream",
     "text": [
      "Column: oiii_4363_eqw, 833993 distinct val, 0 null values\n"
     ]
    },
    {
     "name": "stderr",
     "output_type": "stream",
     "text": [
      "/var/folders/d6/7jdh7rbj2f59v10kcc72rsym0000gn/T/ipykernel_19918/4072846926.py:6: UserWarning: pandas only supports SQLAlchemy connectable (engine/connection) or database string URI or sqlite3 DBAPI2 connection. Other DBAPI2 objects are not tested. Please consider using SQLAlchemy.\n",
      "  value = pd.read_sql(\n",
      "/var/folders/d6/7jdh7rbj2f59v10kcc72rsym0000gn/T/ipykernel_19918/4072846926.py:22: UserWarning: pandas only supports SQLAlchemy connectable (engine/connection) or database string URI or sqlite3 DBAPI2 connection. Other DBAPI2 objects are not tested. Please consider using SQLAlchemy.\n",
      "  item_count = pd.read_sql(\n",
      "/var/folders/d6/7jdh7rbj2f59v10kcc72rsym0000gn/T/ipykernel_19918/4072846926.py:26: UserWarning: pandas only supports SQLAlchemy connectable (engine/connection) or database string URI or sqlite3 DBAPI2 connection. Other DBAPI2 objects are not tested. Please consider using SQLAlchemy.\n",
      "  distinct_values = pd.read_sql(\n",
      "/var/folders/d6/7jdh7rbj2f59v10kcc72rsym0000gn/T/ipykernel_19918/4072846926.py:29: UserWarning: pandas only supports SQLAlchemy connectable (engine/connection) or database string URI or sqlite3 DBAPI2 connection. Other DBAPI2 objects are not tested. Please consider using SQLAlchemy.\n",
      "  null_count = pd.read_sql(\n"
     ]
    },
    {
     "name": "stdout",
     "output_type": "stream",
     "text": [
      "Column: oiii_4363_eqw_err, 802965 distinct val, 0 null values\n"
     ]
    },
    {
     "name": "stderr",
     "output_type": "stream",
     "text": [
      "/var/folders/d6/7jdh7rbj2f59v10kcc72rsym0000gn/T/ipykernel_19918/4072846926.py:6: UserWarning: pandas only supports SQLAlchemy connectable (engine/connection) or database string URI or sqlite3 DBAPI2 connection. Other DBAPI2 objects are not tested. Please consider using SQLAlchemy.\n",
      "  value = pd.read_sql(\n",
      "/var/folders/d6/7jdh7rbj2f59v10kcc72rsym0000gn/T/ipykernel_19918/4072846926.py:22: UserWarning: pandas only supports SQLAlchemy connectable (engine/connection) or database string URI or sqlite3 DBAPI2 connection. Other DBAPI2 objects are not tested. Please consider using SQLAlchemy.\n",
      "  item_count = pd.read_sql(\n",
      "/var/folders/d6/7jdh7rbj2f59v10kcc72rsym0000gn/T/ipykernel_19918/4072846926.py:26: UserWarning: pandas only supports SQLAlchemy connectable (engine/connection) or database string URI or sqlite3 DBAPI2 connection. Other DBAPI2 objects are not tested. Please consider using SQLAlchemy.\n",
      "  distinct_values = pd.read_sql(\n",
      "/var/folders/d6/7jdh7rbj2f59v10kcc72rsym0000gn/T/ipykernel_19918/4072846926.py:29: UserWarning: pandas only supports SQLAlchemy connectable (engine/connection) or database string URI or sqlite3 DBAPI2 connection. Other DBAPI2 objects are not tested. Please consider using SQLAlchemy.\n",
      "  null_count = pd.read_sql(\n"
     ]
    },
    {
     "name": "stdout",
     "output_type": "stream",
     "text": [
      "Column: oiii_4363_flux, 831352 distinct val, 0 null values\n"
     ]
    },
    {
     "name": "stderr",
     "output_type": "stream",
     "text": [
      "/var/folders/d6/7jdh7rbj2f59v10kcc72rsym0000gn/T/ipykernel_19918/4072846926.py:6: UserWarning: pandas only supports SQLAlchemy connectable (engine/connection) or database string URI or sqlite3 DBAPI2 connection. Other DBAPI2 objects are not tested. Please consider using SQLAlchemy.\n",
      "  value = pd.read_sql(\n",
      "/var/folders/d6/7jdh7rbj2f59v10kcc72rsym0000gn/T/ipykernel_19918/4072846926.py:22: UserWarning: pandas only supports SQLAlchemy connectable (engine/connection) or database string URI or sqlite3 DBAPI2 connection. Other DBAPI2 objects are not tested. Please consider using SQLAlchemy.\n",
      "  item_count = pd.read_sql(\n",
      "/var/folders/d6/7jdh7rbj2f59v10kcc72rsym0000gn/T/ipykernel_19918/4072846926.py:26: UserWarning: pandas only supports SQLAlchemy connectable (engine/connection) or database string URI or sqlite3 DBAPI2 connection. Other DBAPI2 objects are not tested. Please consider using SQLAlchemy.\n",
      "  distinct_values = pd.read_sql(\n",
      "/var/folders/d6/7jdh7rbj2f59v10kcc72rsym0000gn/T/ipykernel_19918/4072846926.py:29: UserWarning: pandas only supports SQLAlchemy connectable (engine/connection) or database string URI or sqlite3 DBAPI2 connection. Other DBAPI2 objects are not tested. Please consider using SQLAlchemy.\n",
      "  null_count = pd.read_sql(\n"
     ]
    },
    {
     "name": "stdout",
     "output_type": "stream",
     "text": [
      "Column: oiii_4363_flux_err, 739171 distinct val, 0 null values\n"
     ]
    },
    {
     "name": "stderr",
     "output_type": "stream",
     "text": [
      "/var/folders/d6/7jdh7rbj2f59v10kcc72rsym0000gn/T/ipykernel_19918/4072846926.py:6: UserWarning: pandas only supports SQLAlchemy connectable (engine/connection) or database string URI or sqlite3 DBAPI2 connection. Other DBAPI2 objects are not tested. Please consider using SQLAlchemy.\n",
      "  value = pd.read_sql(\n",
      "/var/folders/d6/7jdh7rbj2f59v10kcc72rsym0000gn/T/ipykernel_19918/4072846926.py:22: UserWarning: pandas only supports SQLAlchemy connectable (engine/connection) or database string URI or sqlite3 DBAPI2 connection. Other DBAPI2 objects are not tested. Please consider using SQLAlchemy.\n",
      "  item_count = pd.read_sql(\n",
      "/var/folders/d6/7jdh7rbj2f59v10kcc72rsym0000gn/T/ipykernel_19918/4072846926.py:26: UserWarning: pandas only supports SQLAlchemy connectable (engine/connection) or database string URI or sqlite3 DBAPI2 connection. Other DBAPI2 objects are not tested. Please consider using SQLAlchemy.\n",
      "  distinct_values = pd.read_sql(\n",
      "/var/folders/d6/7jdh7rbj2f59v10kcc72rsym0000gn/T/ipykernel_19918/4072846926.py:29: UserWarning: pandas only supports SQLAlchemy connectable (engine/connection) or database string URI or sqlite3 DBAPI2 connection. Other DBAPI2 objects are not tested. Please consider using SQLAlchemy.\n",
      "  null_count = pd.read_sql(\n"
     ]
    },
    {
     "name": "stdout",
     "output_type": "stream",
     "text": [
      "Column: oiii_4363_inst_res, 691717 distinct val, 0 null values\n"
     ]
    },
    {
     "name": "stderr",
     "output_type": "stream",
     "text": [
      "/var/folders/d6/7jdh7rbj2f59v10kcc72rsym0000gn/T/ipykernel_19918/4072846926.py:6: UserWarning: pandas only supports SQLAlchemy connectable (engine/connection) or database string URI or sqlite3 DBAPI2 connection. Other DBAPI2 objects are not tested. Please consider using SQLAlchemy.\n",
      "  value = pd.read_sql(\n",
      "/var/folders/d6/7jdh7rbj2f59v10kcc72rsym0000gn/T/ipykernel_19918/4072846926.py:22: UserWarning: pandas only supports SQLAlchemy connectable (engine/connection) or database string URI or sqlite3 DBAPI2 connection. Other DBAPI2 objects are not tested. Please consider using SQLAlchemy.\n",
      "  item_count = pd.read_sql(\n",
      "/var/folders/d6/7jdh7rbj2f59v10kcc72rsym0000gn/T/ipykernel_19918/4072846926.py:26: UserWarning: pandas only supports SQLAlchemy connectable (engine/connection) or database string URI or sqlite3 DBAPI2 connection. Other DBAPI2 objects are not tested. Please consider using SQLAlchemy.\n",
      "  distinct_values = pd.read_sql(\n",
      "/var/folders/d6/7jdh7rbj2f59v10kcc72rsym0000gn/T/ipykernel_19918/4072846926.py:29: UserWarning: pandas only supports SQLAlchemy connectable (engine/connection) or database string URI or sqlite3 DBAPI2 connection. Other DBAPI2 objects are not tested. Please consider using SQLAlchemy.\n",
      "  null_count = pd.read_sql(\n"
     ]
    },
    {
     "name": "stdout",
     "output_type": "stream",
     "text": [
      "Column: oiii_4363_chisq, 784661 distinct val, 0 null values\n"
     ]
    },
    {
     "name": "stderr",
     "output_type": "stream",
     "text": [
      "/var/folders/d6/7jdh7rbj2f59v10kcc72rsym0000gn/T/ipykernel_19918/4072846926.py:6: UserWarning: pandas only supports SQLAlchemy connectable (engine/connection) or database string URI or sqlite3 DBAPI2 connection. Other DBAPI2 objects are not tested. Please consider using SQLAlchemy.\n",
      "  value = pd.read_sql(\n",
      "/var/folders/d6/7jdh7rbj2f59v10kcc72rsym0000gn/T/ipykernel_19918/4072846926.py:22: UserWarning: pandas only supports SQLAlchemy connectable (engine/connection) or database string URI or sqlite3 DBAPI2 connection. Other DBAPI2 objects are not tested. Please consider using SQLAlchemy.\n",
      "  item_count = pd.read_sql(\n",
      "/var/folders/d6/7jdh7rbj2f59v10kcc72rsym0000gn/T/ipykernel_19918/4072846926.py:26: UserWarning: pandas only supports SQLAlchemy connectable (engine/connection) or database string URI or sqlite3 DBAPI2 connection. Other DBAPI2 objects are not tested. Please consider using SQLAlchemy.\n",
      "  distinct_values = pd.read_sql(\n",
      "/var/folders/d6/7jdh7rbj2f59v10kcc72rsym0000gn/T/ipykernel_19918/4072846926.py:29: UserWarning: pandas only supports SQLAlchemy connectable (engine/connection) or database string URI or sqlite3 DBAPI2 connection. Other DBAPI2 objects are not tested. Please consider using SQLAlchemy.\n",
      "  null_count = pd.read_sql(\n"
     ]
    },
    {
     "name": "stdout",
     "output_type": "stream",
     "text": [
      "Column: h_beta_cont, 778005 distinct val, 0 null values\n"
     ]
    },
    {
     "name": "stderr",
     "output_type": "stream",
     "text": [
      "/var/folders/d6/7jdh7rbj2f59v10kcc72rsym0000gn/T/ipykernel_19918/4072846926.py:6: UserWarning: pandas only supports SQLAlchemy connectable (engine/connection) or database string URI or sqlite3 DBAPI2 connection. Other DBAPI2 objects are not tested. Please consider using SQLAlchemy.\n",
      "  value = pd.read_sql(\n",
      "/var/folders/d6/7jdh7rbj2f59v10kcc72rsym0000gn/T/ipykernel_19918/4072846926.py:22: UserWarning: pandas only supports SQLAlchemy connectable (engine/connection) or database string URI or sqlite3 DBAPI2 connection. Other DBAPI2 objects are not tested. Please consider using SQLAlchemy.\n",
      "  item_count = pd.read_sql(\n",
      "/var/folders/d6/7jdh7rbj2f59v10kcc72rsym0000gn/T/ipykernel_19918/4072846926.py:26: UserWarning: pandas only supports SQLAlchemy connectable (engine/connection) or database string URI or sqlite3 DBAPI2 connection. Other DBAPI2 objects are not tested. Please consider using SQLAlchemy.\n",
      "  distinct_values = pd.read_sql(\n",
      "/var/folders/d6/7jdh7rbj2f59v10kcc72rsym0000gn/T/ipykernel_19918/4072846926.py:29: UserWarning: pandas only supports SQLAlchemy connectable (engine/connection) or database string URI or sqlite3 DBAPI2 connection. Other DBAPI2 objects are not tested. Please consider using SQLAlchemy.\n",
      "  null_count = pd.read_sql(\n"
     ]
    },
    {
     "name": "stdout",
     "output_type": "stream",
     "text": [
      "Column: h_beta_cont_err, 766830 distinct val, 0 null values\n"
     ]
    },
    {
     "name": "stderr",
     "output_type": "stream",
     "text": [
      "/var/folders/d6/7jdh7rbj2f59v10kcc72rsym0000gn/T/ipykernel_19918/4072846926.py:6: UserWarning: pandas only supports SQLAlchemy connectable (engine/connection) or database string URI or sqlite3 DBAPI2 connection. Other DBAPI2 objects are not tested. Please consider using SQLAlchemy.\n",
      "  value = pd.read_sql(\n",
      "/var/folders/d6/7jdh7rbj2f59v10kcc72rsym0000gn/T/ipykernel_19918/4072846926.py:22: UserWarning: pandas only supports SQLAlchemy connectable (engine/connection) or database string URI or sqlite3 DBAPI2 connection. Other DBAPI2 objects are not tested. Please consider using SQLAlchemy.\n",
      "  item_count = pd.read_sql(\n",
      "/var/folders/d6/7jdh7rbj2f59v10kcc72rsym0000gn/T/ipykernel_19918/4072846926.py:26: UserWarning: pandas only supports SQLAlchemy connectable (engine/connection) or database string URI or sqlite3 DBAPI2 connection. Other DBAPI2 objects are not tested. Please consider using SQLAlchemy.\n",
      "  distinct_values = pd.read_sql(\n",
      "/var/folders/d6/7jdh7rbj2f59v10kcc72rsym0000gn/T/ipykernel_19918/4072846926.py:29: UserWarning: pandas only supports SQLAlchemy connectable (engine/connection) or database string URI or sqlite3 DBAPI2 connection. Other DBAPI2 objects are not tested. Please consider using SQLAlchemy.\n",
      "  null_count = pd.read_sql(\n"
     ]
    },
    {
     "name": "stdout",
     "output_type": "stream",
     "text": [
      "Column: h_beta_reqw, 784546 distinct val, 0 null values\n"
     ]
    },
    {
     "name": "stderr",
     "output_type": "stream",
     "text": [
      "/var/folders/d6/7jdh7rbj2f59v10kcc72rsym0000gn/T/ipykernel_19918/4072846926.py:6: UserWarning: pandas only supports SQLAlchemy connectable (engine/connection) or database string URI or sqlite3 DBAPI2 connection. Other DBAPI2 objects are not tested. Please consider using SQLAlchemy.\n",
      "  value = pd.read_sql(\n",
      "/var/folders/d6/7jdh7rbj2f59v10kcc72rsym0000gn/T/ipykernel_19918/4072846926.py:22: UserWarning: pandas only supports SQLAlchemy connectable (engine/connection) or database string URI or sqlite3 DBAPI2 connection. Other DBAPI2 objects are not tested. Please consider using SQLAlchemy.\n",
      "  item_count = pd.read_sql(\n",
      "/var/folders/d6/7jdh7rbj2f59v10kcc72rsym0000gn/T/ipykernel_19918/4072846926.py:26: UserWarning: pandas only supports SQLAlchemy connectable (engine/connection) or database string URI or sqlite3 DBAPI2 connection. Other DBAPI2 objects are not tested. Please consider using SQLAlchemy.\n",
      "  distinct_values = pd.read_sql(\n",
      "/var/folders/d6/7jdh7rbj2f59v10kcc72rsym0000gn/T/ipykernel_19918/4072846926.py:29: UserWarning: pandas only supports SQLAlchemy connectable (engine/connection) or database string URI or sqlite3 DBAPI2 connection. Other DBAPI2 objects are not tested. Please consider using SQLAlchemy.\n",
      "  null_count = pd.read_sql(\n"
     ]
    },
    {
     "name": "stdout",
     "output_type": "stream",
     "text": [
      "Column: h_beta_reqw_err, 792047 distinct val, 0 null values\n"
     ]
    },
    {
     "name": "stderr",
     "output_type": "stream",
     "text": [
      "/var/folders/d6/7jdh7rbj2f59v10kcc72rsym0000gn/T/ipykernel_19918/4072846926.py:6: UserWarning: pandas only supports SQLAlchemy connectable (engine/connection) or database string URI or sqlite3 DBAPI2 connection. Other DBAPI2 objects are not tested. Please consider using SQLAlchemy.\n",
      "  value = pd.read_sql(\n",
      "/var/folders/d6/7jdh7rbj2f59v10kcc72rsym0000gn/T/ipykernel_19918/4072846926.py:22: UserWarning: pandas only supports SQLAlchemy connectable (engine/connection) or database string URI or sqlite3 DBAPI2 connection. Other DBAPI2 objects are not tested. Please consider using SQLAlchemy.\n",
      "  item_count = pd.read_sql(\n",
      "/var/folders/d6/7jdh7rbj2f59v10kcc72rsym0000gn/T/ipykernel_19918/4072846926.py:26: UserWarning: pandas only supports SQLAlchemy connectable (engine/connection) or database string URI or sqlite3 DBAPI2 connection. Other DBAPI2 objects are not tested. Please consider using SQLAlchemy.\n",
      "  distinct_values = pd.read_sql(\n",
      "/var/folders/d6/7jdh7rbj2f59v10kcc72rsym0000gn/T/ipykernel_19918/4072846926.py:29: UserWarning: pandas only supports SQLAlchemy connectable (engine/connection) or database string URI or sqlite3 DBAPI2 connection. Other DBAPI2 objects are not tested. Please consider using SQLAlchemy.\n",
      "  null_count = pd.read_sql(\n"
     ]
    },
    {
     "name": "stdout",
     "output_type": "stream",
     "text": [
      "Column: h_beta_eqw, 834059 distinct val, 0 null values\n"
     ]
    },
    {
     "name": "stderr",
     "output_type": "stream",
     "text": [
      "/var/folders/d6/7jdh7rbj2f59v10kcc72rsym0000gn/T/ipykernel_19918/4072846926.py:6: UserWarning: pandas only supports SQLAlchemy connectable (engine/connection) or database string URI or sqlite3 DBAPI2 connection. Other DBAPI2 objects are not tested. Please consider using SQLAlchemy.\n",
      "  value = pd.read_sql(\n",
      "/var/folders/d6/7jdh7rbj2f59v10kcc72rsym0000gn/T/ipykernel_19918/4072846926.py:22: UserWarning: pandas only supports SQLAlchemy connectable (engine/connection) or database string URI or sqlite3 DBAPI2 connection. Other DBAPI2 objects are not tested. Please consider using SQLAlchemy.\n",
      "  item_count = pd.read_sql(\n",
      "/var/folders/d6/7jdh7rbj2f59v10kcc72rsym0000gn/T/ipykernel_19918/4072846926.py:26: UserWarning: pandas only supports SQLAlchemy connectable (engine/connection) or database string URI or sqlite3 DBAPI2 connection. Other DBAPI2 objects are not tested. Please consider using SQLAlchemy.\n",
      "  distinct_values = pd.read_sql(\n",
      "/var/folders/d6/7jdh7rbj2f59v10kcc72rsym0000gn/T/ipykernel_19918/4072846926.py:29: UserWarning: pandas only supports SQLAlchemy connectable (engine/connection) or database string URI or sqlite3 DBAPI2 connection. Other DBAPI2 objects are not tested. Please consider using SQLAlchemy.\n",
      "  null_count = pd.read_sql(\n"
     ]
    },
    {
     "name": "stdout",
     "output_type": "stream",
     "text": [
      "Column: h_beta_eqw_err, 792047 distinct val, 0 null values\n"
     ]
    },
    {
     "name": "stderr",
     "output_type": "stream",
     "text": [
      "/var/folders/d6/7jdh7rbj2f59v10kcc72rsym0000gn/T/ipykernel_19918/4072846926.py:6: UserWarning: pandas only supports SQLAlchemy connectable (engine/connection) or database string URI or sqlite3 DBAPI2 connection. Other DBAPI2 objects are not tested. Please consider using SQLAlchemy.\n",
      "  value = pd.read_sql(\n",
      "/var/folders/d6/7jdh7rbj2f59v10kcc72rsym0000gn/T/ipykernel_19918/4072846926.py:22: UserWarning: pandas only supports SQLAlchemy connectable (engine/connection) or database string URI or sqlite3 DBAPI2 connection. Other DBAPI2 objects are not tested. Please consider using SQLAlchemy.\n",
      "  item_count = pd.read_sql(\n",
      "/var/folders/d6/7jdh7rbj2f59v10kcc72rsym0000gn/T/ipykernel_19918/4072846926.py:26: UserWarning: pandas only supports SQLAlchemy connectable (engine/connection) or database string URI or sqlite3 DBAPI2 connection. Other DBAPI2 objects are not tested. Please consider using SQLAlchemy.\n",
      "  distinct_values = pd.read_sql(\n",
      "/var/folders/d6/7jdh7rbj2f59v10kcc72rsym0000gn/T/ipykernel_19918/4072846926.py:29: UserWarning: pandas only supports SQLAlchemy connectable (engine/connection) or database string URI or sqlite3 DBAPI2 connection. Other DBAPI2 objects are not tested. Please consider using SQLAlchemy.\n",
      "  null_count = pd.read_sql(\n"
     ]
    },
    {
     "name": "stdout",
     "output_type": "stream",
     "text": [
      "Column: h_beta_flux, 829535 distinct val, 0 null values\n"
     ]
    },
    {
     "name": "stderr",
     "output_type": "stream",
     "text": [
      "/var/folders/d6/7jdh7rbj2f59v10kcc72rsym0000gn/T/ipykernel_19918/4072846926.py:6: UserWarning: pandas only supports SQLAlchemy connectable (engine/connection) or database string URI or sqlite3 DBAPI2 connection. Other DBAPI2 objects are not tested. Please consider using SQLAlchemy.\n",
      "  value = pd.read_sql(\n",
      "/var/folders/d6/7jdh7rbj2f59v10kcc72rsym0000gn/T/ipykernel_19918/4072846926.py:22: UserWarning: pandas only supports SQLAlchemy connectable (engine/connection) or database string URI or sqlite3 DBAPI2 connection. Other DBAPI2 objects are not tested. Please consider using SQLAlchemy.\n",
      "  item_count = pd.read_sql(\n",
      "/var/folders/d6/7jdh7rbj2f59v10kcc72rsym0000gn/T/ipykernel_19918/4072846926.py:26: UserWarning: pandas only supports SQLAlchemy connectable (engine/connection) or database string URI or sqlite3 DBAPI2 connection. Other DBAPI2 objects are not tested. Please consider using SQLAlchemy.\n",
      "  distinct_values = pd.read_sql(\n",
      "/var/folders/d6/7jdh7rbj2f59v10kcc72rsym0000gn/T/ipykernel_19918/4072846926.py:29: UserWarning: pandas only supports SQLAlchemy connectable (engine/connection) or database string URI or sqlite3 DBAPI2 connection. Other DBAPI2 objects are not tested. Please consider using SQLAlchemy.\n",
      "  null_count = pd.read_sql(\n"
     ]
    },
    {
     "name": "stdout",
     "output_type": "stream",
     "text": [
      "Column: h_beta_flux_err, 756024 distinct val, 0 null values\n"
     ]
    },
    {
     "name": "stderr",
     "output_type": "stream",
     "text": [
      "/var/folders/d6/7jdh7rbj2f59v10kcc72rsym0000gn/T/ipykernel_19918/4072846926.py:6: UserWarning: pandas only supports SQLAlchemy connectable (engine/connection) or database string URI or sqlite3 DBAPI2 connection. Other DBAPI2 objects are not tested. Please consider using SQLAlchemy.\n",
      "  value = pd.read_sql(\n",
      "/var/folders/d6/7jdh7rbj2f59v10kcc72rsym0000gn/T/ipykernel_19918/4072846926.py:22: UserWarning: pandas only supports SQLAlchemy connectable (engine/connection) or database string URI or sqlite3 DBAPI2 connection. Other DBAPI2 objects are not tested. Please consider using SQLAlchemy.\n",
      "  item_count = pd.read_sql(\n",
      "/var/folders/d6/7jdh7rbj2f59v10kcc72rsym0000gn/T/ipykernel_19918/4072846926.py:26: UserWarning: pandas only supports SQLAlchemy connectable (engine/connection) or database string URI or sqlite3 DBAPI2 connection. Other DBAPI2 objects are not tested. Please consider using SQLAlchemy.\n",
      "  distinct_values = pd.read_sql(\n",
      "/var/folders/d6/7jdh7rbj2f59v10kcc72rsym0000gn/T/ipykernel_19918/4072846926.py:29: UserWarning: pandas only supports SQLAlchemy connectable (engine/connection) or database string URI or sqlite3 DBAPI2 connection. Other DBAPI2 objects are not tested. Please consider using SQLAlchemy.\n",
      "  null_count = pd.read_sql(\n"
     ]
    },
    {
     "name": "stdout",
     "output_type": "stream",
     "text": [
      "Column: h_beta_inst_res, 664196 distinct val, 0 null values\n"
     ]
    },
    {
     "name": "stderr",
     "output_type": "stream",
     "text": [
      "/var/folders/d6/7jdh7rbj2f59v10kcc72rsym0000gn/T/ipykernel_19918/4072846926.py:6: UserWarning: pandas only supports SQLAlchemy connectable (engine/connection) or database string URI or sqlite3 DBAPI2 connection. Other DBAPI2 objects are not tested. Please consider using SQLAlchemy.\n",
      "  value = pd.read_sql(\n",
      "/var/folders/d6/7jdh7rbj2f59v10kcc72rsym0000gn/T/ipykernel_19918/4072846926.py:22: UserWarning: pandas only supports SQLAlchemy connectable (engine/connection) or database string URI or sqlite3 DBAPI2 connection. Other DBAPI2 objects are not tested. Please consider using SQLAlchemy.\n",
      "  item_count = pd.read_sql(\n",
      "/var/folders/d6/7jdh7rbj2f59v10kcc72rsym0000gn/T/ipykernel_19918/4072846926.py:26: UserWarning: pandas only supports SQLAlchemy connectable (engine/connection) or database string URI or sqlite3 DBAPI2 connection. Other DBAPI2 objects are not tested. Please consider using SQLAlchemy.\n",
      "  distinct_values = pd.read_sql(\n",
      "/var/folders/d6/7jdh7rbj2f59v10kcc72rsym0000gn/T/ipykernel_19918/4072846926.py:29: UserWarning: pandas only supports SQLAlchemy connectable (engine/connection) or database string URI or sqlite3 DBAPI2 connection. Other DBAPI2 objects are not tested. Please consider using SQLAlchemy.\n",
      "  null_count = pd.read_sql(\n"
     ]
    },
    {
     "name": "stdout",
     "output_type": "stream",
     "text": [
      "Column: h_beta_chisq, 787935 distinct val, 0 null values\n"
     ]
    },
    {
     "name": "stderr",
     "output_type": "stream",
     "text": [
      "/var/folders/d6/7jdh7rbj2f59v10kcc72rsym0000gn/T/ipykernel_19918/4072846926.py:6: UserWarning: pandas only supports SQLAlchemy connectable (engine/connection) or database string URI or sqlite3 DBAPI2 connection. Other DBAPI2 objects are not tested. Please consider using SQLAlchemy.\n",
      "  value = pd.read_sql(\n",
      "/var/folders/d6/7jdh7rbj2f59v10kcc72rsym0000gn/T/ipykernel_19918/4072846926.py:22: UserWarning: pandas only supports SQLAlchemy connectable (engine/connection) or database string URI or sqlite3 DBAPI2 connection. Other DBAPI2 objects are not tested. Please consider using SQLAlchemy.\n",
      "  item_count = pd.read_sql(\n",
      "/var/folders/d6/7jdh7rbj2f59v10kcc72rsym0000gn/T/ipykernel_19918/4072846926.py:26: UserWarning: pandas only supports SQLAlchemy connectable (engine/connection) or database string URI or sqlite3 DBAPI2 connection. Other DBAPI2 objects are not tested. Please consider using SQLAlchemy.\n",
      "  distinct_values = pd.read_sql(\n",
      "/var/folders/d6/7jdh7rbj2f59v10kcc72rsym0000gn/T/ipykernel_19918/4072846926.py:29: UserWarning: pandas only supports SQLAlchemy connectable (engine/connection) or database string URI or sqlite3 DBAPI2 connection. Other DBAPI2 objects are not tested. Please consider using SQLAlchemy.\n",
      "  null_count = pd.read_sql(\n"
     ]
    },
    {
     "name": "stdout",
     "output_type": "stream",
     "text": [
      "Column: oiii_4959_cont, 775620 distinct val, 0 null values\n"
     ]
    },
    {
     "name": "stderr",
     "output_type": "stream",
     "text": [
      "/var/folders/d6/7jdh7rbj2f59v10kcc72rsym0000gn/T/ipykernel_19918/4072846926.py:6: UserWarning: pandas only supports SQLAlchemy connectable (engine/connection) or database string URI or sqlite3 DBAPI2 connection. Other DBAPI2 objects are not tested. Please consider using SQLAlchemy.\n",
      "  value = pd.read_sql(\n",
      "/var/folders/d6/7jdh7rbj2f59v10kcc72rsym0000gn/T/ipykernel_19918/4072846926.py:22: UserWarning: pandas only supports SQLAlchemy connectable (engine/connection) or database string URI or sqlite3 DBAPI2 connection. Other DBAPI2 objects are not tested. Please consider using SQLAlchemy.\n",
      "  item_count = pd.read_sql(\n",
      "/var/folders/d6/7jdh7rbj2f59v10kcc72rsym0000gn/T/ipykernel_19918/4072846926.py:26: UserWarning: pandas only supports SQLAlchemy connectable (engine/connection) or database string URI or sqlite3 DBAPI2 connection. Other DBAPI2 objects are not tested. Please consider using SQLAlchemy.\n",
      "  distinct_values = pd.read_sql(\n",
      "/var/folders/d6/7jdh7rbj2f59v10kcc72rsym0000gn/T/ipykernel_19918/4072846926.py:29: UserWarning: pandas only supports SQLAlchemy connectable (engine/connection) or database string URI or sqlite3 DBAPI2 connection. Other DBAPI2 objects are not tested. Please consider using SQLAlchemy.\n",
      "  null_count = pd.read_sql(\n"
     ]
    },
    {
     "name": "stdout",
     "output_type": "stream",
     "text": [
      "Column: oiii_4959_cont_err, 763011 distinct val, 0 null values\n"
     ]
    },
    {
     "name": "stderr",
     "output_type": "stream",
     "text": [
      "/var/folders/d6/7jdh7rbj2f59v10kcc72rsym0000gn/T/ipykernel_19918/4072846926.py:6: UserWarning: pandas only supports SQLAlchemy connectable (engine/connection) or database string URI or sqlite3 DBAPI2 connection. Other DBAPI2 objects are not tested. Please consider using SQLAlchemy.\n",
      "  value = pd.read_sql(\n",
      "/var/folders/d6/7jdh7rbj2f59v10kcc72rsym0000gn/T/ipykernel_19918/4072846926.py:22: UserWarning: pandas only supports SQLAlchemy connectable (engine/connection) or database string URI or sqlite3 DBAPI2 connection. Other DBAPI2 objects are not tested. Please consider using SQLAlchemy.\n",
      "  item_count = pd.read_sql(\n",
      "/var/folders/d6/7jdh7rbj2f59v10kcc72rsym0000gn/T/ipykernel_19918/4072846926.py:26: UserWarning: pandas only supports SQLAlchemy connectable (engine/connection) or database string URI or sqlite3 DBAPI2 connection. Other DBAPI2 objects are not tested. Please consider using SQLAlchemy.\n",
      "  distinct_values = pd.read_sql(\n",
      "/var/folders/d6/7jdh7rbj2f59v10kcc72rsym0000gn/T/ipykernel_19918/4072846926.py:29: UserWarning: pandas only supports SQLAlchemy connectable (engine/connection) or database string URI or sqlite3 DBAPI2 connection. Other DBAPI2 objects are not tested. Please consider using SQLAlchemy.\n",
      "  null_count = pd.read_sql(\n"
     ]
    },
    {
     "name": "stdout",
     "output_type": "stream",
     "text": [
      "Column: oiii_4959_reqw, 815366 distinct val, 0 null values\n"
     ]
    },
    {
     "name": "stderr",
     "output_type": "stream",
     "text": [
      "/var/folders/d6/7jdh7rbj2f59v10kcc72rsym0000gn/T/ipykernel_19918/4072846926.py:6: UserWarning: pandas only supports SQLAlchemy connectable (engine/connection) or database string URI or sqlite3 DBAPI2 connection. Other DBAPI2 objects are not tested. Please consider using SQLAlchemy.\n",
      "  value = pd.read_sql(\n",
      "/var/folders/d6/7jdh7rbj2f59v10kcc72rsym0000gn/T/ipykernel_19918/4072846926.py:22: UserWarning: pandas only supports SQLAlchemy connectable (engine/connection) or database string URI or sqlite3 DBAPI2 connection. Other DBAPI2 objects are not tested. Please consider using SQLAlchemy.\n",
      "  item_count = pd.read_sql(\n",
      "/var/folders/d6/7jdh7rbj2f59v10kcc72rsym0000gn/T/ipykernel_19918/4072846926.py:26: UserWarning: pandas only supports SQLAlchemy connectable (engine/connection) or database string URI or sqlite3 DBAPI2 connection. Other DBAPI2 objects are not tested. Please consider using SQLAlchemy.\n",
      "  distinct_values = pd.read_sql(\n",
      "/var/folders/d6/7jdh7rbj2f59v10kcc72rsym0000gn/T/ipykernel_19918/4072846926.py:29: UserWarning: pandas only supports SQLAlchemy connectable (engine/connection) or database string URI or sqlite3 DBAPI2 connection. Other DBAPI2 objects are not tested. Please consider using SQLAlchemy.\n",
      "  null_count = pd.read_sql(\n"
     ]
    },
    {
     "name": "stdout",
     "output_type": "stream",
     "text": [
      "Column: oiii_4959_reqw_err, 789481 distinct val, 0 null values\n"
     ]
    },
    {
     "name": "stderr",
     "output_type": "stream",
     "text": [
      "/var/folders/d6/7jdh7rbj2f59v10kcc72rsym0000gn/T/ipykernel_19918/4072846926.py:6: UserWarning: pandas only supports SQLAlchemy connectable (engine/connection) or database string URI or sqlite3 DBAPI2 connection. Other DBAPI2 objects are not tested. Please consider using SQLAlchemy.\n",
      "  value = pd.read_sql(\n",
      "/var/folders/d6/7jdh7rbj2f59v10kcc72rsym0000gn/T/ipykernel_19918/4072846926.py:22: UserWarning: pandas only supports SQLAlchemy connectable (engine/connection) or database string URI or sqlite3 DBAPI2 connection. Other DBAPI2 objects are not tested. Please consider using SQLAlchemy.\n",
      "  item_count = pd.read_sql(\n",
      "/var/folders/d6/7jdh7rbj2f59v10kcc72rsym0000gn/T/ipykernel_19918/4072846926.py:26: UserWarning: pandas only supports SQLAlchemy connectable (engine/connection) or database string URI or sqlite3 DBAPI2 connection. Other DBAPI2 objects are not tested. Please consider using SQLAlchemy.\n",
      "  distinct_values = pd.read_sql(\n",
      "/var/folders/d6/7jdh7rbj2f59v10kcc72rsym0000gn/T/ipykernel_19918/4072846926.py:29: UserWarning: pandas only supports SQLAlchemy connectable (engine/connection) or database string URI or sqlite3 DBAPI2 connection. Other DBAPI2 objects are not tested. Please consider using SQLAlchemy.\n",
      "  null_count = pd.read_sql(\n"
     ]
    },
    {
     "name": "stdout",
     "output_type": "stream",
     "text": [
      "Column: oiii_4959_eqw, 835125 distinct val, 0 null values\n"
     ]
    },
    {
     "name": "stderr",
     "output_type": "stream",
     "text": [
      "/var/folders/d6/7jdh7rbj2f59v10kcc72rsym0000gn/T/ipykernel_19918/4072846926.py:6: UserWarning: pandas only supports SQLAlchemy connectable (engine/connection) or database string URI or sqlite3 DBAPI2 connection. Other DBAPI2 objects are not tested. Please consider using SQLAlchemy.\n",
      "  value = pd.read_sql(\n",
      "/var/folders/d6/7jdh7rbj2f59v10kcc72rsym0000gn/T/ipykernel_19918/4072846926.py:22: UserWarning: pandas only supports SQLAlchemy connectable (engine/connection) or database string URI or sqlite3 DBAPI2 connection. Other DBAPI2 objects are not tested. Please consider using SQLAlchemy.\n",
      "  item_count = pd.read_sql(\n",
      "/var/folders/d6/7jdh7rbj2f59v10kcc72rsym0000gn/T/ipykernel_19918/4072846926.py:26: UserWarning: pandas only supports SQLAlchemy connectable (engine/connection) or database string URI or sqlite3 DBAPI2 connection. Other DBAPI2 objects are not tested. Please consider using SQLAlchemy.\n",
      "  distinct_values = pd.read_sql(\n",
      "/var/folders/d6/7jdh7rbj2f59v10kcc72rsym0000gn/T/ipykernel_19918/4072846926.py:29: UserWarning: pandas only supports SQLAlchemy connectable (engine/connection) or database string URI or sqlite3 DBAPI2 connection. Other DBAPI2 objects are not tested. Please consider using SQLAlchemy.\n",
      "  null_count = pd.read_sql(\n"
     ]
    },
    {
     "name": "stdout",
     "output_type": "stream",
     "text": [
      "Column: oiii_4959_eqw_err, 789481 distinct val, 0 null values\n"
     ]
    },
    {
     "name": "stderr",
     "output_type": "stream",
     "text": [
      "/var/folders/d6/7jdh7rbj2f59v10kcc72rsym0000gn/T/ipykernel_19918/4072846926.py:6: UserWarning: pandas only supports SQLAlchemy connectable (engine/connection) or database string URI or sqlite3 DBAPI2 connection. Other DBAPI2 objects are not tested. Please consider using SQLAlchemy.\n",
      "  value = pd.read_sql(\n",
      "/var/folders/d6/7jdh7rbj2f59v10kcc72rsym0000gn/T/ipykernel_19918/4072846926.py:22: UserWarning: pandas only supports SQLAlchemy connectable (engine/connection) or database string URI or sqlite3 DBAPI2 connection. Other DBAPI2 objects are not tested. Please consider using SQLAlchemy.\n",
      "  item_count = pd.read_sql(\n",
      "/var/folders/d6/7jdh7rbj2f59v10kcc72rsym0000gn/T/ipykernel_19918/4072846926.py:26: UserWarning: pandas only supports SQLAlchemy connectable (engine/connection) or database string URI or sqlite3 DBAPI2 connection. Other DBAPI2 objects are not tested. Please consider using SQLAlchemy.\n",
      "  distinct_values = pd.read_sql(\n",
      "/var/folders/d6/7jdh7rbj2f59v10kcc72rsym0000gn/T/ipykernel_19918/4072846926.py:29: UserWarning: pandas only supports SQLAlchemy connectable (engine/connection) or database string URI or sqlite3 DBAPI2 connection. Other DBAPI2 objects are not tested. Please consider using SQLAlchemy.\n",
      "  null_count = pd.read_sql(\n"
     ]
    },
    {
     "name": "stdout",
     "output_type": "stream",
     "text": [
      "Column: oiii_4959_flux, 832705 distinct val, 0 null values\n"
     ]
    },
    {
     "name": "stderr",
     "output_type": "stream",
     "text": [
      "/var/folders/d6/7jdh7rbj2f59v10kcc72rsym0000gn/T/ipykernel_19918/4072846926.py:6: UserWarning: pandas only supports SQLAlchemy connectable (engine/connection) or database string URI or sqlite3 DBAPI2 connection. Other DBAPI2 objects are not tested. Please consider using SQLAlchemy.\n",
      "  value = pd.read_sql(\n",
      "/var/folders/d6/7jdh7rbj2f59v10kcc72rsym0000gn/T/ipykernel_19918/4072846926.py:22: UserWarning: pandas only supports SQLAlchemy connectable (engine/connection) or database string URI or sqlite3 DBAPI2 connection. Other DBAPI2 objects are not tested. Please consider using SQLAlchemy.\n",
      "  item_count = pd.read_sql(\n",
      "/var/folders/d6/7jdh7rbj2f59v10kcc72rsym0000gn/T/ipykernel_19918/4072846926.py:26: UserWarning: pandas only supports SQLAlchemy connectable (engine/connection) or database string URI or sqlite3 DBAPI2 connection. Other DBAPI2 objects are not tested. Please consider using SQLAlchemy.\n",
      "  distinct_values = pd.read_sql(\n",
      "/var/folders/d6/7jdh7rbj2f59v10kcc72rsym0000gn/T/ipykernel_19918/4072846926.py:29: UserWarning: pandas only supports SQLAlchemy connectable (engine/connection) or database string URI or sqlite3 DBAPI2 connection. Other DBAPI2 objects are not tested. Please consider using SQLAlchemy.\n",
      "  null_count = pd.read_sql(\n"
     ]
    },
    {
     "name": "stdout",
     "output_type": "stream",
     "text": [
      "Column: oiii_4959_flux_err, 754497 distinct val, 0 null values\n"
     ]
    },
    {
     "name": "stderr",
     "output_type": "stream",
     "text": [
      "/var/folders/d6/7jdh7rbj2f59v10kcc72rsym0000gn/T/ipykernel_19918/4072846926.py:6: UserWarning: pandas only supports SQLAlchemy connectable (engine/connection) or database string URI or sqlite3 DBAPI2 connection. Other DBAPI2 objects are not tested. Please consider using SQLAlchemy.\n",
      "  value = pd.read_sql(\n",
      "/var/folders/d6/7jdh7rbj2f59v10kcc72rsym0000gn/T/ipykernel_19918/4072846926.py:22: UserWarning: pandas only supports SQLAlchemy connectable (engine/connection) or database string URI or sqlite3 DBAPI2 connection. Other DBAPI2 objects are not tested. Please consider using SQLAlchemy.\n",
      "  item_count = pd.read_sql(\n",
      "/var/folders/d6/7jdh7rbj2f59v10kcc72rsym0000gn/T/ipykernel_19918/4072846926.py:26: UserWarning: pandas only supports SQLAlchemy connectable (engine/connection) or database string URI or sqlite3 DBAPI2 connection. Other DBAPI2 objects are not tested. Please consider using SQLAlchemy.\n",
      "  distinct_values = pd.read_sql(\n",
      "/var/folders/d6/7jdh7rbj2f59v10kcc72rsym0000gn/T/ipykernel_19918/4072846926.py:29: UserWarning: pandas only supports SQLAlchemy connectable (engine/connection) or database string URI or sqlite3 DBAPI2 connection. Other DBAPI2 objects are not tested. Please consider using SQLAlchemy.\n",
      "  null_count = pd.read_sql(\n"
     ]
    },
    {
     "name": "stdout",
     "output_type": "stream",
     "text": [
      "Column: oiii_4959_inst_res, 661648 distinct val, 0 null values\n"
     ]
    },
    {
     "name": "stderr",
     "output_type": "stream",
     "text": [
      "/var/folders/d6/7jdh7rbj2f59v10kcc72rsym0000gn/T/ipykernel_19918/4072846926.py:6: UserWarning: pandas only supports SQLAlchemy connectable (engine/connection) or database string URI or sqlite3 DBAPI2 connection. Other DBAPI2 objects are not tested. Please consider using SQLAlchemy.\n",
      "  value = pd.read_sql(\n",
      "/var/folders/d6/7jdh7rbj2f59v10kcc72rsym0000gn/T/ipykernel_19918/4072846926.py:22: UserWarning: pandas only supports SQLAlchemy connectable (engine/connection) or database string URI or sqlite3 DBAPI2 connection. Other DBAPI2 objects are not tested. Please consider using SQLAlchemy.\n",
      "  item_count = pd.read_sql(\n",
      "/var/folders/d6/7jdh7rbj2f59v10kcc72rsym0000gn/T/ipykernel_19918/4072846926.py:26: UserWarning: pandas only supports SQLAlchemy connectable (engine/connection) or database string URI or sqlite3 DBAPI2 connection. Other DBAPI2 objects are not tested. Please consider using SQLAlchemy.\n",
      "  distinct_values = pd.read_sql(\n",
      "/var/folders/d6/7jdh7rbj2f59v10kcc72rsym0000gn/T/ipykernel_19918/4072846926.py:29: UserWarning: pandas only supports SQLAlchemy connectable (engine/connection) or database string URI or sqlite3 DBAPI2 connection. Other DBAPI2 objects are not tested. Please consider using SQLAlchemy.\n",
      "  null_count = pd.read_sql(\n"
     ]
    },
    {
     "name": "stdout",
     "output_type": "stream",
     "text": [
      "Column: oiii_4959_chisq, 787773 distinct val, 0 null values\n"
     ]
    },
    {
     "name": "stderr",
     "output_type": "stream",
     "text": [
      "/var/folders/d6/7jdh7rbj2f59v10kcc72rsym0000gn/T/ipykernel_19918/4072846926.py:6: UserWarning: pandas only supports SQLAlchemy connectable (engine/connection) or database string URI or sqlite3 DBAPI2 connection. Other DBAPI2 objects are not tested. Please consider using SQLAlchemy.\n",
      "  value = pd.read_sql(\n",
      "/var/folders/d6/7jdh7rbj2f59v10kcc72rsym0000gn/T/ipykernel_19918/4072846926.py:22: UserWarning: pandas only supports SQLAlchemy connectable (engine/connection) or database string URI or sqlite3 DBAPI2 connection. Other DBAPI2 objects are not tested. Please consider using SQLAlchemy.\n",
      "  item_count = pd.read_sql(\n",
      "/var/folders/d6/7jdh7rbj2f59v10kcc72rsym0000gn/T/ipykernel_19918/4072846926.py:26: UserWarning: pandas only supports SQLAlchemy connectable (engine/connection) or database string URI or sqlite3 DBAPI2 connection. Other DBAPI2 objects are not tested. Please consider using SQLAlchemy.\n",
      "  distinct_values = pd.read_sql(\n",
      "/var/folders/d6/7jdh7rbj2f59v10kcc72rsym0000gn/T/ipykernel_19918/4072846926.py:29: UserWarning: pandas only supports SQLAlchemy connectable (engine/connection) or database string URI or sqlite3 DBAPI2 connection. Other DBAPI2 objects are not tested. Please consider using SQLAlchemy.\n",
      "  null_count = pd.read_sql(\n"
     ]
    },
    {
     "name": "stdout",
     "output_type": "stream",
     "text": [
      "Column: oiii_5007_cont, 776321 distinct val, 0 null values\n"
     ]
    },
    {
     "name": "stderr",
     "output_type": "stream",
     "text": [
      "/var/folders/d6/7jdh7rbj2f59v10kcc72rsym0000gn/T/ipykernel_19918/4072846926.py:6: UserWarning: pandas only supports SQLAlchemy connectable (engine/connection) or database string URI or sqlite3 DBAPI2 connection. Other DBAPI2 objects are not tested. Please consider using SQLAlchemy.\n",
      "  value = pd.read_sql(\n",
      "/var/folders/d6/7jdh7rbj2f59v10kcc72rsym0000gn/T/ipykernel_19918/4072846926.py:22: UserWarning: pandas only supports SQLAlchemy connectable (engine/connection) or database string URI or sqlite3 DBAPI2 connection. Other DBAPI2 objects are not tested. Please consider using SQLAlchemy.\n",
      "  item_count = pd.read_sql(\n",
      "/var/folders/d6/7jdh7rbj2f59v10kcc72rsym0000gn/T/ipykernel_19918/4072846926.py:26: UserWarning: pandas only supports SQLAlchemy connectable (engine/connection) or database string URI or sqlite3 DBAPI2 connection. Other DBAPI2 objects are not tested. Please consider using SQLAlchemy.\n",
      "  distinct_values = pd.read_sql(\n",
      "/var/folders/d6/7jdh7rbj2f59v10kcc72rsym0000gn/T/ipykernel_19918/4072846926.py:29: UserWarning: pandas only supports SQLAlchemy connectable (engine/connection) or database string URI or sqlite3 DBAPI2 connection. Other DBAPI2 objects are not tested. Please consider using SQLAlchemy.\n",
      "  null_count = pd.read_sql(\n"
     ]
    },
    {
     "name": "stdout",
     "output_type": "stream",
     "text": [
      "Column: oiii_5007_cont_err, 763929 distinct val, 0 null values\n"
     ]
    },
    {
     "name": "stderr",
     "output_type": "stream",
     "text": [
      "/var/folders/d6/7jdh7rbj2f59v10kcc72rsym0000gn/T/ipykernel_19918/4072846926.py:6: UserWarning: pandas only supports SQLAlchemy connectable (engine/connection) or database string URI or sqlite3 DBAPI2 connection. Other DBAPI2 objects are not tested. Please consider using SQLAlchemy.\n",
      "  value = pd.read_sql(\n",
      "/var/folders/d6/7jdh7rbj2f59v10kcc72rsym0000gn/T/ipykernel_19918/4072846926.py:22: UserWarning: pandas only supports SQLAlchemy connectable (engine/connection) or database string URI or sqlite3 DBAPI2 connection. Other DBAPI2 objects are not tested. Please consider using SQLAlchemy.\n",
      "  item_count = pd.read_sql(\n",
      "/var/folders/d6/7jdh7rbj2f59v10kcc72rsym0000gn/T/ipykernel_19918/4072846926.py:26: UserWarning: pandas only supports SQLAlchemy connectable (engine/connection) or database string URI or sqlite3 DBAPI2 connection. Other DBAPI2 objects are not tested. Please consider using SQLAlchemy.\n",
      "  distinct_values = pd.read_sql(\n",
      "/var/folders/d6/7jdh7rbj2f59v10kcc72rsym0000gn/T/ipykernel_19918/4072846926.py:29: UserWarning: pandas only supports SQLAlchemy connectable (engine/connection) or database string URI or sqlite3 DBAPI2 connection. Other DBAPI2 objects are not tested. Please consider using SQLAlchemy.\n",
      "  null_count = pd.read_sql(\n"
     ]
    },
    {
     "name": "stdout",
     "output_type": "stream",
     "text": [
      "Column: oiii_5007_reqw, 835744 distinct val, 0 null values\n"
     ]
    },
    {
     "name": "stderr",
     "output_type": "stream",
     "text": [
      "/var/folders/d6/7jdh7rbj2f59v10kcc72rsym0000gn/T/ipykernel_19918/4072846926.py:6: UserWarning: pandas only supports SQLAlchemy connectable (engine/connection) or database string URI or sqlite3 DBAPI2 connection. Other DBAPI2 objects are not tested. Please consider using SQLAlchemy.\n",
      "  value = pd.read_sql(\n",
      "/var/folders/d6/7jdh7rbj2f59v10kcc72rsym0000gn/T/ipykernel_19918/4072846926.py:22: UserWarning: pandas only supports SQLAlchemy connectable (engine/connection) or database string URI or sqlite3 DBAPI2 connection. Other DBAPI2 objects are not tested. Please consider using SQLAlchemy.\n",
      "  item_count = pd.read_sql(\n",
      "/var/folders/d6/7jdh7rbj2f59v10kcc72rsym0000gn/T/ipykernel_19918/4072846926.py:26: UserWarning: pandas only supports SQLAlchemy connectable (engine/connection) or database string URI or sqlite3 DBAPI2 connection. Other DBAPI2 objects are not tested. Please consider using SQLAlchemy.\n",
      "  distinct_values = pd.read_sql(\n",
      "/var/folders/d6/7jdh7rbj2f59v10kcc72rsym0000gn/T/ipykernel_19918/4072846926.py:29: UserWarning: pandas only supports SQLAlchemy connectable (engine/connection) or database string URI or sqlite3 DBAPI2 connection. Other DBAPI2 objects are not tested. Please consider using SQLAlchemy.\n",
      "  null_count = pd.read_sql(\n"
     ]
    },
    {
     "name": "stdout",
     "output_type": "stream",
     "text": [
      "Column: oiii_5007_reqw_err, 791491 distinct val, 0 null values\n"
     ]
    },
    {
     "name": "stderr",
     "output_type": "stream",
     "text": [
      "/var/folders/d6/7jdh7rbj2f59v10kcc72rsym0000gn/T/ipykernel_19918/4072846926.py:6: UserWarning: pandas only supports SQLAlchemy connectable (engine/connection) or database string URI or sqlite3 DBAPI2 connection. Other DBAPI2 objects are not tested. Please consider using SQLAlchemy.\n",
      "  value = pd.read_sql(\n",
      "/var/folders/d6/7jdh7rbj2f59v10kcc72rsym0000gn/T/ipykernel_19918/4072846926.py:22: UserWarning: pandas only supports SQLAlchemy connectable (engine/connection) or database string URI or sqlite3 DBAPI2 connection. Other DBAPI2 objects are not tested. Please consider using SQLAlchemy.\n",
      "  item_count = pd.read_sql(\n",
      "/var/folders/d6/7jdh7rbj2f59v10kcc72rsym0000gn/T/ipykernel_19918/4072846926.py:26: UserWarning: pandas only supports SQLAlchemy connectable (engine/connection) or database string URI or sqlite3 DBAPI2 connection. Other DBAPI2 objects are not tested. Please consider using SQLAlchemy.\n",
      "  distinct_values = pd.read_sql(\n",
      "/var/folders/d6/7jdh7rbj2f59v10kcc72rsym0000gn/T/ipykernel_19918/4072846926.py:29: UserWarning: pandas only supports SQLAlchemy connectable (engine/connection) or database string URI or sqlite3 DBAPI2 connection. Other DBAPI2 objects are not tested. Please consider using SQLAlchemy.\n",
      "  null_count = pd.read_sql(\n"
     ]
    },
    {
     "name": "stdout",
     "output_type": "stream",
     "text": [
      "Column: oiii_5007_eqw, 822152 distinct val, 0 null values\n"
     ]
    },
    {
     "name": "stderr",
     "output_type": "stream",
     "text": [
      "/var/folders/d6/7jdh7rbj2f59v10kcc72rsym0000gn/T/ipykernel_19918/4072846926.py:6: UserWarning: pandas only supports SQLAlchemy connectable (engine/connection) or database string URI or sqlite3 DBAPI2 connection. Other DBAPI2 objects are not tested. Please consider using SQLAlchemy.\n",
      "  value = pd.read_sql(\n",
      "/var/folders/d6/7jdh7rbj2f59v10kcc72rsym0000gn/T/ipykernel_19918/4072846926.py:22: UserWarning: pandas only supports SQLAlchemy connectable (engine/connection) or database string URI or sqlite3 DBAPI2 connection. Other DBAPI2 objects are not tested. Please consider using SQLAlchemy.\n",
      "  item_count = pd.read_sql(\n",
      "/var/folders/d6/7jdh7rbj2f59v10kcc72rsym0000gn/T/ipykernel_19918/4072846926.py:26: UserWarning: pandas only supports SQLAlchemy connectable (engine/connection) or database string URI or sqlite3 DBAPI2 connection. Other DBAPI2 objects are not tested. Please consider using SQLAlchemy.\n",
      "  distinct_values = pd.read_sql(\n",
      "/var/folders/d6/7jdh7rbj2f59v10kcc72rsym0000gn/T/ipykernel_19918/4072846926.py:29: UserWarning: pandas only supports SQLAlchemy connectable (engine/connection) or database string URI or sqlite3 DBAPI2 connection. Other DBAPI2 objects are not tested. Please consider using SQLAlchemy.\n",
      "  null_count = pd.read_sql(\n"
     ]
    },
    {
     "name": "stdout",
     "output_type": "stream",
     "text": [
      "Column: oiii_5007_eqw_err, 791491 distinct val, 0 null values\n"
     ]
    },
    {
     "name": "stderr",
     "output_type": "stream",
     "text": [
      "/var/folders/d6/7jdh7rbj2f59v10kcc72rsym0000gn/T/ipykernel_19918/4072846926.py:6: UserWarning: pandas only supports SQLAlchemy connectable (engine/connection) or database string URI or sqlite3 DBAPI2 connection. Other DBAPI2 objects are not tested. Please consider using SQLAlchemy.\n",
      "  value = pd.read_sql(\n",
      "/var/folders/d6/7jdh7rbj2f59v10kcc72rsym0000gn/T/ipykernel_19918/4072846926.py:22: UserWarning: pandas only supports SQLAlchemy connectable (engine/connection) or database string URI or sqlite3 DBAPI2 connection. Other DBAPI2 objects are not tested. Please consider using SQLAlchemy.\n",
      "  item_count = pd.read_sql(\n",
      "/var/folders/d6/7jdh7rbj2f59v10kcc72rsym0000gn/T/ipykernel_19918/4072846926.py:26: UserWarning: pandas only supports SQLAlchemy connectable (engine/connection) or database string URI or sqlite3 DBAPI2 connection. Other DBAPI2 objects are not tested. Please consider using SQLAlchemy.\n",
      "  distinct_values = pd.read_sql(\n",
      "/var/folders/d6/7jdh7rbj2f59v10kcc72rsym0000gn/T/ipykernel_19918/4072846926.py:29: UserWarning: pandas only supports SQLAlchemy connectable (engine/connection) or database string URI or sqlite3 DBAPI2 connection. Other DBAPI2 objects are not tested. Please consider using SQLAlchemy.\n",
      "  null_count = pd.read_sql(\n"
     ]
    },
    {
     "name": "stdout",
     "output_type": "stream",
     "text": [
      "Column: oiii_5007_flux, 822092 distinct val, 0 null values\n"
     ]
    },
    {
     "name": "stderr",
     "output_type": "stream",
     "text": [
      "/var/folders/d6/7jdh7rbj2f59v10kcc72rsym0000gn/T/ipykernel_19918/4072846926.py:6: UserWarning: pandas only supports SQLAlchemy connectable (engine/connection) or database string URI or sqlite3 DBAPI2 connection. Other DBAPI2 objects are not tested. Please consider using SQLAlchemy.\n",
      "  value = pd.read_sql(\n",
      "/var/folders/d6/7jdh7rbj2f59v10kcc72rsym0000gn/T/ipykernel_19918/4072846926.py:22: UserWarning: pandas only supports SQLAlchemy connectable (engine/connection) or database string URI or sqlite3 DBAPI2 connection. Other DBAPI2 objects are not tested. Please consider using SQLAlchemy.\n",
      "  item_count = pd.read_sql(\n",
      "/var/folders/d6/7jdh7rbj2f59v10kcc72rsym0000gn/T/ipykernel_19918/4072846926.py:26: UserWarning: pandas only supports SQLAlchemy connectable (engine/connection) or database string URI or sqlite3 DBAPI2 connection. Other DBAPI2 objects are not tested. Please consider using SQLAlchemy.\n",
      "  distinct_values = pd.read_sql(\n",
      "/var/folders/d6/7jdh7rbj2f59v10kcc72rsym0000gn/T/ipykernel_19918/4072846926.py:29: UserWarning: pandas only supports SQLAlchemy connectable (engine/connection) or database string URI or sqlite3 DBAPI2 connection. Other DBAPI2 objects are not tested. Please consider using SQLAlchemy.\n",
      "  null_count = pd.read_sql(\n"
     ]
    },
    {
     "name": "stdout",
     "output_type": "stream",
     "text": [
      "Column: oiii_5007_flux_err, 761939 distinct val, 0 null values\n"
     ]
    },
    {
     "name": "stderr",
     "output_type": "stream",
     "text": [
      "/var/folders/d6/7jdh7rbj2f59v10kcc72rsym0000gn/T/ipykernel_19918/4072846926.py:6: UserWarning: pandas only supports SQLAlchemy connectable (engine/connection) or database string URI or sqlite3 DBAPI2 connection. Other DBAPI2 objects are not tested. Please consider using SQLAlchemy.\n",
      "  value = pd.read_sql(\n",
      "/var/folders/d6/7jdh7rbj2f59v10kcc72rsym0000gn/T/ipykernel_19918/4072846926.py:22: UserWarning: pandas only supports SQLAlchemy connectable (engine/connection) or database string URI or sqlite3 DBAPI2 connection. Other DBAPI2 objects are not tested. Please consider using SQLAlchemy.\n",
      "  item_count = pd.read_sql(\n",
      "/var/folders/d6/7jdh7rbj2f59v10kcc72rsym0000gn/T/ipykernel_19918/4072846926.py:26: UserWarning: pandas only supports SQLAlchemy connectable (engine/connection) or database string URI or sqlite3 DBAPI2 connection. Other DBAPI2 objects are not tested. Please consider using SQLAlchemy.\n",
      "  distinct_values = pd.read_sql(\n",
      "/var/folders/d6/7jdh7rbj2f59v10kcc72rsym0000gn/T/ipykernel_19918/4072846926.py:29: UserWarning: pandas only supports SQLAlchemy connectable (engine/connection) or database string URI or sqlite3 DBAPI2 connection. Other DBAPI2 objects are not tested. Please consider using SQLAlchemy.\n",
      "  null_count = pd.read_sql(\n"
     ]
    },
    {
     "name": "stdout",
     "output_type": "stream",
     "text": [
      "Column: oiii_5007_inst_res, 661238 distinct val, 0 null values\n"
     ]
    },
    {
     "name": "stderr",
     "output_type": "stream",
     "text": [
      "/var/folders/d6/7jdh7rbj2f59v10kcc72rsym0000gn/T/ipykernel_19918/4072846926.py:6: UserWarning: pandas only supports SQLAlchemy connectable (engine/connection) or database string URI or sqlite3 DBAPI2 connection. Other DBAPI2 objects are not tested. Please consider using SQLAlchemy.\n",
      "  value = pd.read_sql(\n",
      "/var/folders/d6/7jdh7rbj2f59v10kcc72rsym0000gn/T/ipykernel_19918/4072846926.py:22: UserWarning: pandas only supports SQLAlchemy connectable (engine/connection) or database string URI or sqlite3 DBAPI2 connection. Other DBAPI2 objects are not tested. Please consider using SQLAlchemy.\n",
      "  item_count = pd.read_sql(\n",
      "/var/folders/d6/7jdh7rbj2f59v10kcc72rsym0000gn/T/ipykernel_19918/4072846926.py:26: UserWarning: pandas only supports SQLAlchemy connectable (engine/connection) or database string URI or sqlite3 DBAPI2 connection. Other DBAPI2 objects are not tested. Please consider using SQLAlchemy.\n",
      "  distinct_values = pd.read_sql(\n",
      "/var/folders/d6/7jdh7rbj2f59v10kcc72rsym0000gn/T/ipykernel_19918/4072846926.py:29: UserWarning: pandas only supports SQLAlchemy connectable (engine/connection) or database string URI or sqlite3 DBAPI2 connection. Other DBAPI2 objects are not tested. Please consider using SQLAlchemy.\n",
      "  null_count = pd.read_sql(\n"
     ]
    },
    {
     "name": "stdout",
     "output_type": "stream",
     "text": [
      "Column: oiii_5007_chisq, 791660 distinct val, 0 null values\n"
     ]
    },
    {
     "name": "stderr",
     "output_type": "stream",
     "text": [
      "/var/folders/d6/7jdh7rbj2f59v10kcc72rsym0000gn/T/ipykernel_19918/4072846926.py:6: UserWarning: pandas only supports SQLAlchemy connectable (engine/connection) or database string URI or sqlite3 DBAPI2 connection. Other DBAPI2 objects are not tested. Please consider using SQLAlchemy.\n",
      "  value = pd.read_sql(\n",
      "/var/folders/d6/7jdh7rbj2f59v10kcc72rsym0000gn/T/ipykernel_19918/4072846926.py:22: UserWarning: pandas only supports SQLAlchemy connectable (engine/connection) or database string URI or sqlite3 DBAPI2 connection. Other DBAPI2 objects are not tested. Please consider using SQLAlchemy.\n",
      "  item_count = pd.read_sql(\n",
      "/var/folders/d6/7jdh7rbj2f59v10kcc72rsym0000gn/T/ipykernel_19918/4072846926.py:26: UserWarning: pandas only supports SQLAlchemy connectable (engine/connection) or database string URI or sqlite3 DBAPI2 connection. Other DBAPI2 objects are not tested. Please consider using SQLAlchemy.\n",
      "  distinct_values = pd.read_sql(\n",
      "/var/folders/d6/7jdh7rbj2f59v10kcc72rsym0000gn/T/ipykernel_19918/4072846926.py:29: UserWarning: pandas only supports SQLAlchemy connectable (engine/connection) or database string URI or sqlite3 DBAPI2 connection. Other DBAPI2 objects are not tested. Please consider using SQLAlchemy.\n",
      "  null_count = pd.read_sql(\n"
     ]
    },
    {
     "name": "stdout",
     "output_type": "stream",
     "text": [
      "Column: hei_5876_cont, 772275 distinct val, 0 null values\n"
     ]
    },
    {
     "name": "stderr",
     "output_type": "stream",
     "text": [
      "/var/folders/d6/7jdh7rbj2f59v10kcc72rsym0000gn/T/ipykernel_19918/4072846926.py:6: UserWarning: pandas only supports SQLAlchemy connectable (engine/connection) or database string URI or sqlite3 DBAPI2 connection. Other DBAPI2 objects are not tested. Please consider using SQLAlchemy.\n",
      "  value = pd.read_sql(\n",
      "/var/folders/d6/7jdh7rbj2f59v10kcc72rsym0000gn/T/ipykernel_19918/4072846926.py:22: UserWarning: pandas only supports SQLAlchemy connectable (engine/connection) or database string URI or sqlite3 DBAPI2 connection. Other DBAPI2 objects are not tested. Please consider using SQLAlchemy.\n",
      "  item_count = pd.read_sql(\n",
      "/var/folders/d6/7jdh7rbj2f59v10kcc72rsym0000gn/T/ipykernel_19918/4072846926.py:26: UserWarning: pandas only supports SQLAlchemy connectable (engine/connection) or database string URI or sqlite3 DBAPI2 connection. Other DBAPI2 objects are not tested. Please consider using SQLAlchemy.\n",
      "  distinct_values = pd.read_sql(\n",
      "/var/folders/d6/7jdh7rbj2f59v10kcc72rsym0000gn/T/ipykernel_19918/4072846926.py:29: UserWarning: pandas only supports SQLAlchemy connectable (engine/connection) or database string URI or sqlite3 DBAPI2 connection. Other DBAPI2 objects are not tested. Please consider using SQLAlchemy.\n",
      "  null_count = pd.read_sql(\n"
     ]
    },
    {
     "name": "stdout",
     "output_type": "stream",
     "text": [
      "Column: hei_5876_cont_err, 785320 distinct val, 0 null values\n"
     ]
    },
    {
     "name": "stderr",
     "output_type": "stream",
     "text": [
      "/var/folders/d6/7jdh7rbj2f59v10kcc72rsym0000gn/T/ipykernel_19918/4072846926.py:6: UserWarning: pandas only supports SQLAlchemy connectable (engine/connection) or database string URI or sqlite3 DBAPI2 connection. Other DBAPI2 objects are not tested. Please consider using SQLAlchemy.\n",
      "  value = pd.read_sql(\n",
      "/var/folders/d6/7jdh7rbj2f59v10kcc72rsym0000gn/T/ipykernel_19918/4072846926.py:22: UserWarning: pandas only supports SQLAlchemy connectable (engine/connection) or database string URI or sqlite3 DBAPI2 connection. Other DBAPI2 objects are not tested. Please consider using SQLAlchemy.\n",
      "  item_count = pd.read_sql(\n",
      "/var/folders/d6/7jdh7rbj2f59v10kcc72rsym0000gn/T/ipykernel_19918/4072846926.py:26: UserWarning: pandas only supports SQLAlchemy connectable (engine/connection) or database string URI or sqlite3 DBAPI2 connection. Other DBAPI2 objects are not tested. Please consider using SQLAlchemy.\n",
      "  distinct_values = pd.read_sql(\n",
      "/var/folders/d6/7jdh7rbj2f59v10kcc72rsym0000gn/T/ipykernel_19918/4072846926.py:29: UserWarning: pandas only supports SQLAlchemy connectable (engine/connection) or database string URI or sqlite3 DBAPI2 connection. Other DBAPI2 objects are not tested. Please consider using SQLAlchemy.\n",
      "  null_count = pd.read_sql(\n"
     ]
    },
    {
     "name": "stdout",
     "output_type": "stream",
     "text": [
      "Column: hei_5876_reqw, 833044 distinct val, 0 null values\n"
     ]
    },
    {
     "name": "stderr",
     "output_type": "stream",
     "text": [
      "/var/folders/d6/7jdh7rbj2f59v10kcc72rsym0000gn/T/ipykernel_19918/4072846926.py:6: UserWarning: pandas only supports SQLAlchemy connectable (engine/connection) or database string URI or sqlite3 DBAPI2 connection. Other DBAPI2 objects are not tested. Please consider using SQLAlchemy.\n",
      "  value = pd.read_sql(\n",
      "/var/folders/d6/7jdh7rbj2f59v10kcc72rsym0000gn/T/ipykernel_19918/4072846926.py:22: UserWarning: pandas only supports SQLAlchemy connectable (engine/connection) or database string URI or sqlite3 DBAPI2 connection. Other DBAPI2 objects are not tested. Please consider using SQLAlchemy.\n",
      "  item_count = pd.read_sql(\n",
      "/var/folders/d6/7jdh7rbj2f59v10kcc72rsym0000gn/T/ipykernel_19918/4072846926.py:26: UserWarning: pandas only supports SQLAlchemy connectable (engine/connection) or database string URI or sqlite3 DBAPI2 connection. Other DBAPI2 objects are not tested. Please consider using SQLAlchemy.\n",
      "  distinct_values = pd.read_sql(\n",
      "/var/folders/d6/7jdh7rbj2f59v10kcc72rsym0000gn/T/ipykernel_19918/4072846926.py:29: UserWarning: pandas only supports SQLAlchemy connectable (engine/connection) or database string URI or sqlite3 DBAPI2 connection. Other DBAPI2 objects are not tested. Please consider using SQLAlchemy.\n",
      "  null_count = pd.read_sql(\n"
     ]
    },
    {
     "name": "stdout",
     "output_type": "stream",
     "text": [
      "Column: hei_5876_reqw_err, 770957 distinct val, 0 null values\n"
     ]
    },
    {
     "name": "stderr",
     "output_type": "stream",
     "text": [
      "/var/folders/d6/7jdh7rbj2f59v10kcc72rsym0000gn/T/ipykernel_19918/4072846926.py:6: UserWarning: pandas only supports SQLAlchemy connectable (engine/connection) or database string URI or sqlite3 DBAPI2 connection. Other DBAPI2 objects are not tested. Please consider using SQLAlchemy.\n",
      "  value = pd.read_sql(\n",
      "/var/folders/d6/7jdh7rbj2f59v10kcc72rsym0000gn/T/ipykernel_19918/4072846926.py:22: UserWarning: pandas only supports SQLAlchemy connectable (engine/connection) or database string URI or sqlite3 DBAPI2 connection. Other DBAPI2 objects are not tested. Please consider using SQLAlchemy.\n",
      "  item_count = pd.read_sql(\n",
      "/var/folders/d6/7jdh7rbj2f59v10kcc72rsym0000gn/T/ipykernel_19918/4072846926.py:26: UserWarning: pandas only supports SQLAlchemy connectable (engine/connection) or database string URI or sqlite3 DBAPI2 connection. Other DBAPI2 objects are not tested. Please consider using SQLAlchemy.\n",
      "  distinct_values = pd.read_sql(\n",
      "/var/folders/d6/7jdh7rbj2f59v10kcc72rsym0000gn/T/ipykernel_19918/4072846926.py:29: UserWarning: pandas only supports SQLAlchemy connectable (engine/connection) or database string URI or sqlite3 DBAPI2 connection. Other DBAPI2 objects are not tested. Please consider using SQLAlchemy.\n",
      "  null_count = pd.read_sql(\n"
     ]
    },
    {
     "name": "stdout",
     "output_type": "stream",
     "text": [
      "Column: hei_5876_eqw, 832524 distinct val, 0 null values\n"
     ]
    },
    {
     "name": "stderr",
     "output_type": "stream",
     "text": [
      "/var/folders/d6/7jdh7rbj2f59v10kcc72rsym0000gn/T/ipykernel_19918/4072846926.py:6: UserWarning: pandas only supports SQLAlchemy connectable (engine/connection) or database string URI or sqlite3 DBAPI2 connection. Other DBAPI2 objects are not tested. Please consider using SQLAlchemy.\n",
      "  value = pd.read_sql(\n",
      "/var/folders/d6/7jdh7rbj2f59v10kcc72rsym0000gn/T/ipykernel_19918/4072846926.py:22: UserWarning: pandas only supports SQLAlchemy connectable (engine/connection) or database string URI or sqlite3 DBAPI2 connection. Other DBAPI2 objects are not tested. Please consider using SQLAlchemy.\n",
      "  item_count = pd.read_sql(\n",
      "/var/folders/d6/7jdh7rbj2f59v10kcc72rsym0000gn/T/ipykernel_19918/4072846926.py:26: UserWarning: pandas only supports SQLAlchemy connectable (engine/connection) or database string URI or sqlite3 DBAPI2 connection. Other DBAPI2 objects are not tested. Please consider using SQLAlchemy.\n",
      "  distinct_values = pd.read_sql(\n",
      "/var/folders/d6/7jdh7rbj2f59v10kcc72rsym0000gn/T/ipykernel_19918/4072846926.py:29: UserWarning: pandas only supports SQLAlchemy connectable (engine/connection) or database string URI or sqlite3 DBAPI2 connection. Other DBAPI2 objects are not tested. Please consider using SQLAlchemy.\n",
      "  null_count = pd.read_sql(\n"
     ]
    },
    {
     "name": "stdout",
     "output_type": "stream",
     "text": [
      "Column: hei_5876_eqw_err, 770957 distinct val, 0 null values\n"
     ]
    },
    {
     "name": "stderr",
     "output_type": "stream",
     "text": [
      "/var/folders/d6/7jdh7rbj2f59v10kcc72rsym0000gn/T/ipykernel_19918/4072846926.py:6: UserWarning: pandas only supports SQLAlchemy connectable (engine/connection) or database string URI or sqlite3 DBAPI2 connection. Other DBAPI2 objects are not tested. Please consider using SQLAlchemy.\n",
      "  value = pd.read_sql(\n",
      "/var/folders/d6/7jdh7rbj2f59v10kcc72rsym0000gn/T/ipykernel_19918/4072846926.py:22: UserWarning: pandas only supports SQLAlchemy connectable (engine/connection) or database string URI or sqlite3 DBAPI2 connection. Other DBAPI2 objects are not tested. Please consider using SQLAlchemy.\n",
      "  item_count = pd.read_sql(\n",
      "/var/folders/d6/7jdh7rbj2f59v10kcc72rsym0000gn/T/ipykernel_19918/4072846926.py:26: UserWarning: pandas only supports SQLAlchemy connectable (engine/connection) or database string URI or sqlite3 DBAPI2 connection. Other DBAPI2 objects are not tested. Please consider using SQLAlchemy.\n",
      "  distinct_values = pd.read_sql(\n",
      "/var/folders/d6/7jdh7rbj2f59v10kcc72rsym0000gn/T/ipykernel_19918/4072846926.py:29: UserWarning: pandas only supports SQLAlchemy connectable (engine/connection) or database string URI or sqlite3 DBAPI2 connection. Other DBAPI2 objects are not tested. Please consider using SQLAlchemy.\n",
      "  null_count = pd.read_sql(\n"
     ]
    },
    {
     "name": "stdout",
     "output_type": "stream",
     "text": [
      "Column: hei_5876_flux, 831349 distinct val, 0 null values\n"
     ]
    },
    {
     "name": "stderr",
     "output_type": "stream",
     "text": [
      "/var/folders/d6/7jdh7rbj2f59v10kcc72rsym0000gn/T/ipykernel_19918/4072846926.py:6: UserWarning: pandas only supports SQLAlchemy connectable (engine/connection) or database string URI or sqlite3 DBAPI2 connection. Other DBAPI2 objects are not tested. Please consider using SQLAlchemy.\n",
      "  value = pd.read_sql(\n",
      "/var/folders/d6/7jdh7rbj2f59v10kcc72rsym0000gn/T/ipykernel_19918/4072846926.py:22: UserWarning: pandas only supports SQLAlchemy connectable (engine/connection) or database string URI or sqlite3 DBAPI2 connection. Other DBAPI2 objects are not tested. Please consider using SQLAlchemy.\n",
      "  item_count = pd.read_sql(\n",
      "/var/folders/d6/7jdh7rbj2f59v10kcc72rsym0000gn/T/ipykernel_19918/4072846926.py:26: UserWarning: pandas only supports SQLAlchemy connectable (engine/connection) or database string URI or sqlite3 DBAPI2 connection. Other DBAPI2 objects are not tested. Please consider using SQLAlchemy.\n",
      "  distinct_values = pd.read_sql(\n",
      "/var/folders/d6/7jdh7rbj2f59v10kcc72rsym0000gn/T/ipykernel_19918/4072846926.py:29: UserWarning: pandas only supports SQLAlchemy connectable (engine/connection) or database string URI or sqlite3 DBAPI2 connection. Other DBAPI2 objects are not tested. Please consider using SQLAlchemy.\n",
      "  null_count = pd.read_sql(\n"
     ]
    },
    {
     "name": "stdout",
     "output_type": "stream",
     "text": [
      "Column: hei_5876_flux_err, 738073 distinct val, 0 null values\n"
     ]
    },
    {
     "name": "stderr",
     "output_type": "stream",
     "text": [
      "/var/folders/d6/7jdh7rbj2f59v10kcc72rsym0000gn/T/ipykernel_19918/4072846926.py:6: UserWarning: pandas only supports SQLAlchemy connectable (engine/connection) or database string URI or sqlite3 DBAPI2 connection. Other DBAPI2 objects are not tested. Please consider using SQLAlchemy.\n",
      "  value = pd.read_sql(\n",
      "/var/folders/d6/7jdh7rbj2f59v10kcc72rsym0000gn/T/ipykernel_19918/4072846926.py:22: UserWarning: pandas only supports SQLAlchemy connectable (engine/connection) or database string URI or sqlite3 DBAPI2 connection. Other DBAPI2 objects are not tested. Please consider using SQLAlchemy.\n",
      "  item_count = pd.read_sql(\n",
      "/var/folders/d6/7jdh7rbj2f59v10kcc72rsym0000gn/T/ipykernel_19918/4072846926.py:26: UserWarning: pandas only supports SQLAlchemy connectable (engine/connection) or database string URI or sqlite3 DBAPI2 connection. Other DBAPI2 objects are not tested. Please consider using SQLAlchemy.\n",
      "  distinct_values = pd.read_sql(\n",
      "/var/folders/d6/7jdh7rbj2f59v10kcc72rsym0000gn/T/ipykernel_19918/4072846926.py:29: UserWarning: pandas only supports SQLAlchemy connectable (engine/connection) or database string URI or sqlite3 DBAPI2 connection. Other DBAPI2 objects are not tested. Please consider using SQLAlchemy.\n",
      "  null_count = pd.read_sql(\n"
     ]
    },
    {
     "name": "stdout",
     "output_type": "stream",
     "text": [
      "Column: hei_5876_inst_res, 669497 distinct val, 0 null values\n"
     ]
    },
    {
     "name": "stderr",
     "output_type": "stream",
     "text": [
      "/var/folders/d6/7jdh7rbj2f59v10kcc72rsym0000gn/T/ipykernel_19918/4072846926.py:6: UserWarning: pandas only supports SQLAlchemy connectable (engine/connection) or database string URI or sqlite3 DBAPI2 connection. Other DBAPI2 objects are not tested. Please consider using SQLAlchemy.\n",
      "  value = pd.read_sql(\n",
      "/var/folders/d6/7jdh7rbj2f59v10kcc72rsym0000gn/T/ipykernel_19918/4072846926.py:22: UserWarning: pandas only supports SQLAlchemy connectable (engine/connection) or database string URI or sqlite3 DBAPI2 connection. Other DBAPI2 objects are not tested. Please consider using SQLAlchemy.\n",
      "  item_count = pd.read_sql(\n",
      "/var/folders/d6/7jdh7rbj2f59v10kcc72rsym0000gn/T/ipykernel_19918/4072846926.py:26: UserWarning: pandas only supports SQLAlchemy connectable (engine/connection) or database string URI or sqlite3 DBAPI2 connection. Other DBAPI2 objects are not tested. Please consider using SQLAlchemy.\n",
      "  distinct_values = pd.read_sql(\n",
      "/var/folders/d6/7jdh7rbj2f59v10kcc72rsym0000gn/T/ipykernel_19918/4072846926.py:29: UserWarning: pandas only supports SQLAlchemy connectable (engine/connection) or database string URI or sqlite3 DBAPI2 connection. Other DBAPI2 objects are not tested. Please consider using SQLAlchemy.\n",
      "  null_count = pd.read_sql(\n"
     ]
    },
    {
     "name": "stdout",
     "output_type": "stream",
     "text": [
      "Column: hei_5876_chisq, 784379 distinct val, 0 null values\n"
     ]
    },
    {
     "name": "stderr",
     "output_type": "stream",
     "text": [
      "/var/folders/d6/7jdh7rbj2f59v10kcc72rsym0000gn/T/ipykernel_19918/4072846926.py:6: UserWarning: pandas only supports SQLAlchemy connectable (engine/connection) or database string URI or sqlite3 DBAPI2 connection. Other DBAPI2 objects are not tested. Please consider using SQLAlchemy.\n",
      "  value = pd.read_sql(\n",
      "/var/folders/d6/7jdh7rbj2f59v10kcc72rsym0000gn/T/ipykernel_19918/4072846926.py:22: UserWarning: pandas only supports SQLAlchemy connectable (engine/connection) or database string URI or sqlite3 DBAPI2 connection. Other DBAPI2 objects are not tested. Please consider using SQLAlchemy.\n",
      "  item_count = pd.read_sql(\n",
      "/var/folders/d6/7jdh7rbj2f59v10kcc72rsym0000gn/T/ipykernel_19918/4072846926.py:26: UserWarning: pandas only supports SQLAlchemy connectable (engine/connection) or database string URI or sqlite3 DBAPI2 connection. Other DBAPI2 objects are not tested. Please consider using SQLAlchemy.\n",
      "  distinct_values = pd.read_sql(\n",
      "/var/folders/d6/7jdh7rbj2f59v10kcc72rsym0000gn/T/ipykernel_19918/4072846926.py:29: UserWarning: pandas only supports SQLAlchemy connectable (engine/connection) or database string URI or sqlite3 DBAPI2 connection. Other DBAPI2 objects are not tested. Please consider using SQLAlchemy.\n",
      "  null_count = pd.read_sql(\n"
     ]
    },
    {
     "name": "stdout",
     "output_type": "stream",
     "text": [
      "Column: oi_6300_cont, 763138 distinct val, 0 null values\n"
     ]
    },
    {
     "name": "stderr",
     "output_type": "stream",
     "text": [
      "/var/folders/d6/7jdh7rbj2f59v10kcc72rsym0000gn/T/ipykernel_19918/4072846926.py:6: UserWarning: pandas only supports SQLAlchemy connectable (engine/connection) or database string URI or sqlite3 DBAPI2 connection. Other DBAPI2 objects are not tested. Please consider using SQLAlchemy.\n",
      "  value = pd.read_sql(\n",
      "/var/folders/d6/7jdh7rbj2f59v10kcc72rsym0000gn/T/ipykernel_19918/4072846926.py:22: UserWarning: pandas only supports SQLAlchemy connectable (engine/connection) or database string URI or sqlite3 DBAPI2 connection. Other DBAPI2 objects are not tested. Please consider using SQLAlchemy.\n",
      "  item_count = pd.read_sql(\n",
      "/var/folders/d6/7jdh7rbj2f59v10kcc72rsym0000gn/T/ipykernel_19918/4072846926.py:26: UserWarning: pandas only supports SQLAlchemy connectable (engine/connection) or database string URI or sqlite3 DBAPI2 connection. Other DBAPI2 objects are not tested. Please consider using SQLAlchemy.\n",
      "  distinct_values = pd.read_sql(\n",
      "/var/folders/d6/7jdh7rbj2f59v10kcc72rsym0000gn/T/ipykernel_19918/4072846926.py:29: UserWarning: pandas only supports SQLAlchemy connectable (engine/connection) or database string URI or sqlite3 DBAPI2 connection. Other DBAPI2 objects are not tested. Please consider using SQLAlchemy.\n",
      "  null_count = pd.read_sql(\n"
     ]
    },
    {
     "name": "stdout",
     "output_type": "stream",
     "text": [
      "Column: oi_6300_cont_err, 775534 distinct val, 0 null values\n"
     ]
    },
    {
     "name": "stderr",
     "output_type": "stream",
     "text": [
      "/var/folders/d6/7jdh7rbj2f59v10kcc72rsym0000gn/T/ipykernel_19918/4072846926.py:6: UserWarning: pandas only supports SQLAlchemy connectable (engine/connection) or database string URI or sqlite3 DBAPI2 connection. Other DBAPI2 objects are not tested. Please consider using SQLAlchemy.\n",
      "  value = pd.read_sql(\n",
      "/var/folders/d6/7jdh7rbj2f59v10kcc72rsym0000gn/T/ipykernel_19918/4072846926.py:22: UserWarning: pandas only supports SQLAlchemy connectable (engine/connection) or database string URI or sqlite3 DBAPI2 connection. Other DBAPI2 objects are not tested. Please consider using SQLAlchemy.\n",
      "  item_count = pd.read_sql(\n",
      "/var/folders/d6/7jdh7rbj2f59v10kcc72rsym0000gn/T/ipykernel_19918/4072846926.py:26: UserWarning: pandas only supports SQLAlchemy connectable (engine/connection) or database string URI or sqlite3 DBAPI2 connection. Other DBAPI2 objects are not tested. Please consider using SQLAlchemy.\n",
      "  distinct_values = pd.read_sql(\n",
      "/var/folders/d6/7jdh7rbj2f59v10kcc72rsym0000gn/T/ipykernel_19918/4072846926.py:29: UserWarning: pandas only supports SQLAlchemy connectable (engine/connection) or database string URI or sqlite3 DBAPI2 connection. Other DBAPI2 objects are not tested. Please consider using SQLAlchemy.\n",
      "  null_count = pd.read_sql(\n"
     ]
    },
    {
     "name": "stdout",
     "output_type": "stream",
     "text": [
      "Column: oi_6300_reqw, 812856 distinct val, 0 null values\n"
     ]
    },
    {
     "name": "stderr",
     "output_type": "stream",
     "text": [
      "/var/folders/d6/7jdh7rbj2f59v10kcc72rsym0000gn/T/ipykernel_19918/4072846926.py:6: UserWarning: pandas only supports SQLAlchemy connectable (engine/connection) or database string URI or sqlite3 DBAPI2 connection. Other DBAPI2 objects are not tested. Please consider using SQLAlchemy.\n",
      "  value = pd.read_sql(\n",
      "/var/folders/d6/7jdh7rbj2f59v10kcc72rsym0000gn/T/ipykernel_19918/4072846926.py:22: UserWarning: pandas only supports SQLAlchemy connectable (engine/connection) or database string URI or sqlite3 DBAPI2 connection. Other DBAPI2 objects are not tested. Please consider using SQLAlchemy.\n",
      "  item_count = pd.read_sql(\n",
      "/var/folders/d6/7jdh7rbj2f59v10kcc72rsym0000gn/T/ipykernel_19918/4072846926.py:26: UserWarning: pandas only supports SQLAlchemy connectable (engine/connection) or database string URI or sqlite3 DBAPI2 connection. Other DBAPI2 objects are not tested. Please consider using SQLAlchemy.\n",
      "  distinct_values = pd.read_sql(\n",
      "/var/folders/d6/7jdh7rbj2f59v10kcc72rsym0000gn/T/ipykernel_19918/4072846926.py:29: UserWarning: pandas only supports SQLAlchemy connectable (engine/connection) or database string URI or sqlite3 DBAPI2 connection. Other DBAPI2 objects are not tested. Please consider using SQLAlchemy.\n",
      "  null_count = pd.read_sql(\n"
     ]
    },
    {
     "name": "stdout",
     "output_type": "stream",
     "text": [
      "Column: oi_6300_reqw_err, 765807 distinct val, 0 null values\n"
     ]
    },
    {
     "name": "stderr",
     "output_type": "stream",
     "text": [
      "/var/folders/d6/7jdh7rbj2f59v10kcc72rsym0000gn/T/ipykernel_19918/4072846926.py:6: UserWarning: pandas only supports SQLAlchemy connectable (engine/connection) or database string URI or sqlite3 DBAPI2 connection. Other DBAPI2 objects are not tested. Please consider using SQLAlchemy.\n",
      "  value = pd.read_sql(\n",
      "/var/folders/d6/7jdh7rbj2f59v10kcc72rsym0000gn/T/ipykernel_19918/4072846926.py:22: UserWarning: pandas only supports SQLAlchemy connectable (engine/connection) or database string URI or sqlite3 DBAPI2 connection. Other DBAPI2 objects are not tested. Please consider using SQLAlchemy.\n",
      "  item_count = pd.read_sql(\n",
      "/var/folders/d6/7jdh7rbj2f59v10kcc72rsym0000gn/T/ipykernel_19918/4072846926.py:26: UserWarning: pandas only supports SQLAlchemy connectable (engine/connection) or database string URI or sqlite3 DBAPI2 connection. Other DBAPI2 objects are not tested. Please consider using SQLAlchemy.\n",
      "  distinct_values = pd.read_sql(\n",
      "/var/folders/d6/7jdh7rbj2f59v10kcc72rsym0000gn/T/ipykernel_19918/4072846926.py:29: UserWarning: pandas only supports SQLAlchemy connectable (engine/connection) or database string URI or sqlite3 DBAPI2 connection. Other DBAPI2 objects are not tested. Please consider using SQLAlchemy.\n",
      "  null_count = pd.read_sql(\n"
     ]
    },
    {
     "name": "stdout",
     "output_type": "stream",
     "text": [
      "Column: oi_6300_eqw, 817136 distinct val, 0 null values\n"
     ]
    },
    {
     "name": "stderr",
     "output_type": "stream",
     "text": [
      "/var/folders/d6/7jdh7rbj2f59v10kcc72rsym0000gn/T/ipykernel_19918/4072846926.py:6: UserWarning: pandas only supports SQLAlchemy connectable (engine/connection) or database string URI or sqlite3 DBAPI2 connection. Other DBAPI2 objects are not tested. Please consider using SQLAlchemy.\n",
      "  value = pd.read_sql(\n",
      "/var/folders/d6/7jdh7rbj2f59v10kcc72rsym0000gn/T/ipykernel_19918/4072846926.py:22: UserWarning: pandas only supports SQLAlchemy connectable (engine/connection) or database string URI or sqlite3 DBAPI2 connection. Other DBAPI2 objects are not tested. Please consider using SQLAlchemy.\n",
      "  item_count = pd.read_sql(\n",
      "/var/folders/d6/7jdh7rbj2f59v10kcc72rsym0000gn/T/ipykernel_19918/4072846926.py:26: UserWarning: pandas only supports SQLAlchemy connectable (engine/connection) or database string URI or sqlite3 DBAPI2 connection. Other DBAPI2 objects are not tested. Please consider using SQLAlchemy.\n",
      "  distinct_values = pd.read_sql(\n",
      "/var/folders/d6/7jdh7rbj2f59v10kcc72rsym0000gn/T/ipykernel_19918/4072846926.py:29: UserWarning: pandas only supports SQLAlchemy connectable (engine/connection) or database string URI or sqlite3 DBAPI2 connection. Other DBAPI2 objects are not tested. Please consider using SQLAlchemy.\n",
      "  null_count = pd.read_sql(\n"
     ]
    },
    {
     "name": "stdout",
     "output_type": "stream",
     "text": [
      "Column: oi_6300_eqw_err, 765807 distinct val, 0 null values\n"
     ]
    },
    {
     "name": "stderr",
     "output_type": "stream",
     "text": [
      "/var/folders/d6/7jdh7rbj2f59v10kcc72rsym0000gn/T/ipykernel_19918/4072846926.py:6: UserWarning: pandas only supports SQLAlchemy connectable (engine/connection) or database string URI or sqlite3 DBAPI2 connection. Other DBAPI2 objects are not tested. Please consider using SQLAlchemy.\n",
      "  value = pd.read_sql(\n",
      "/var/folders/d6/7jdh7rbj2f59v10kcc72rsym0000gn/T/ipykernel_19918/4072846926.py:22: UserWarning: pandas only supports SQLAlchemy connectable (engine/connection) or database string URI or sqlite3 DBAPI2 connection. Other DBAPI2 objects are not tested. Please consider using SQLAlchemy.\n",
      "  item_count = pd.read_sql(\n",
      "/var/folders/d6/7jdh7rbj2f59v10kcc72rsym0000gn/T/ipykernel_19918/4072846926.py:26: UserWarning: pandas only supports SQLAlchemy connectable (engine/connection) or database string URI or sqlite3 DBAPI2 connection. Other DBAPI2 objects are not tested. Please consider using SQLAlchemy.\n",
      "  distinct_values = pd.read_sql(\n",
      "/var/folders/d6/7jdh7rbj2f59v10kcc72rsym0000gn/T/ipykernel_19918/4072846926.py:29: UserWarning: pandas only supports SQLAlchemy connectable (engine/connection) or database string URI or sqlite3 DBAPI2 connection. Other DBAPI2 objects are not tested. Please consider using SQLAlchemy.\n",
      "  null_count = pd.read_sql(\n"
     ]
    },
    {
     "name": "stdout",
     "output_type": "stream",
     "text": [
      "Column: oi_6300_flux, 814502 distinct val, 0 null values\n"
     ]
    },
    {
     "name": "stderr",
     "output_type": "stream",
     "text": [
      "/var/folders/d6/7jdh7rbj2f59v10kcc72rsym0000gn/T/ipykernel_19918/4072846926.py:6: UserWarning: pandas only supports SQLAlchemy connectable (engine/connection) or database string URI or sqlite3 DBAPI2 connection. Other DBAPI2 objects are not tested. Please consider using SQLAlchemy.\n",
      "  value = pd.read_sql(\n",
      "/var/folders/d6/7jdh7rbj2f59v10kcc72rsym0000gn/T/ipykernel_19918/4072846926.py:22: UserWarning: pandas only supports SQLAlchemy connectable (engine/connection) or database string URI or sqlite3 DBAPI2 connection. Other DBAPI2 objects are not tested. Please consider using SQLAlchemy.\n",
      "  item_count = pd.read_sql(\n",
      "/var/folders/d6/7jdh7rbj2f59v10kcc72rsym0000gn/T/ipykernel_19918/4072846926.py:26: UserWarning: pandas only supports SQLAlchemy connectable (engine/connection) or database string URI or sqlite3 DBAPI2 connection. Other DBAPI2 objects are not tested. Please consider using SQLAlchemy.\n",
      "  distinct_values = pd.read_sql(\n",
      "/var/folders/d6/7jdh7rbj2f59v10kcc72rsym0000gn/T/ipykernel_19918/4072846926.py:29: UserWarning: pandas only supports SQLAlchemy connectable (engine/connection) or database string URI or sqlite3 DBAPI2 connection. Other DBAPI2 objects are not tested. Please consider using SQLAlchemy.\n",
      "  null_count = pd.read_sql(\n"
     ]
    },
    {
     "name": "stdout",
     "output_type": "stream",
     "text": [
      "Column: oi_6300_flux_err, 754965 distinct val, 0 null values\n"
     ]
    },
    {
     "name": "stderr",
     "output_type": "stream",
     "text": [
      "/var/folders/d6/7jdh7rbj2f59v10kcc72rsym0000gn/T/ipykernel_19918/4072846926.py:6: UserWarning: pandas only supports SQLAlchemy connectable (engine/connection) or database string URI or sqlite3 DBAPI2 connection. Other DBAPI2 objects are not tested. Please consider using SQLAlchemy.\n",
      "  value = pd.read_sql(\n",
      "/var/folders/d6/7jdh7rbj2f59v10kcc72rsym0000gn/T/ipykernel_19918/4072846926.py:22: UserWarning: pandas only supports SQLAlchemy connectable (engine/connection) or database string URI or sqlite3 DBAPI2 connection. Other DBAPI2 objects are not tested. Please consider using SQLAlchemy.\n",
      "  item_count = pd.read_sql(\n",
      "/var/folders/d6/7jdh7rbj2f59v10kcc72rsym0000gn/T/ipykernel_19918/4072846926.py:26: UserWarning: pandas only supports SQLAlchemy connectable (engine/connection) or database string URI or sqlite3 DBAPI2 connection. Other DBAPI2 objects are not tested. Please consider using SQLAlchemy.\n",
      "  distinct_values = pd.read_sql(\n",
      "/var/folders/d6/7jdh7rbj2f59v10kcc72rsym0000gn/T/ipykernel_19918/4072846926.py:29: UserWarning: pandas only supports SQLAlchemy connectable (engine/connection) or database string URI or sqlite3 DBAPI2 connection. Other DBAPI2 objects are not tested. Please consider using SQLAlchemy.\n",
      "  null_count = pd.read_sql(\n"
     ]
    },
    {
     "name": "stdout",
     "output_type": "stream",
     "text": [
      "Column: oi_6300_inst_res, 662291 distinct val, 0 null values\n"
     ]
    },
    {
     "name": "stderr",
     "output_type": "stream",
     "text": [
      "/var/folders/d6/7jdh7rbj2f59v10kcc72rsym0000gn/T/ipykernel_19918/4072846926.py:6: UserWarning: pandas only supports SQLAlchemy connectable (engine/connection) or database string URI or sqlite3 DBAPI2 connection. Other DBAPI2 objects are not tested. Please consider using SQLAlchemy.\n",
      "  value = pd.read_sql(\n",
      "/var/folders/d6/7jdh7rbj2f59v10kcc72rsym0000gn/T/ipykernel_19918/4072846926.py:22: UserWarning: pandas only supports SQLAlchemy connectable (engine/connection) or database string URI or sqlite3 DBAPI2 connection. Other DBAPI2 objects are not tested. Please consider using SQLAlchemy.\n",
      "  item_count = pd.read_sql(\n",
      "/var/folders/d6/7jdh7rbj2f59v10kcc72rsym0000gn/T/ipykernel_19918/4072846926.py:26: UserWarning: pandas only supports SQLAlchemy connectable (engine/connection) or database string URI or sqlite3 DBAPI2 connection. Other DBAPI2 objects are not tested. Please consider using SQLAlchemy.\n",
      "  distinct_values = pd.read_sql(\n",
      "/var/folders/d6/7jdh7rbj2f59v10kcc72rsym0000gn/T/ipykernel_19918/4072846926.py:29: UserWarning: pandas only supports SQLAlchemy connectable (engine/connection) or database string URI or sqlite3 DBAPI2 connection. Other DBAPI2 objects are not tested. Please consider using SQLAlchemy.\n",
      "  null_count = pd.read_sql(\n"
     ]
    },
    {
     "name": "stdout",
     "output_type": "stream",
     "text": [
      "Column: oi_6300_chisq, 779446 distinct val, 0 null values\n"
     ]
    },
    {
     "name": "stderr",
     "output_type": "stream",
     "text": [
      "/var/folders/d6/7jdh7rbj2f59v10kcc72rsym0000gn/T/ipykernel_19918/4072846926.py:6: UserWarning: pandas only supports SQLAlchemy connectable (engine/connection) or database string URI or sqlite3 DBAPI2 connection. Other DBAPI2 objects are not tested. Please consider using SQLAlchemy.\n",
      "  value = pd.read_sql(\n",
      "/var/folders/d6/7jdh7rbj2f59v10kcc72rsym0000gn/T/ipykernel_19918/4072846926.py:22: UserWarning: pandas only supports SQLAlchemy connectable (engine/connection) or database string URI or sqlite3 DBAPI2 connection. Other DBAPI2 objects are not tested. Please consider using SQLAlchemy.\n",
      "  item_count = pd.read_sql(\n",
      "/var/folders/d6/7jdh7rbj2f59v10kcc72rsym0000gn/T/ipykernel_19918/4072846926.py:26: UserWarning: pandas only supports SQLAlchemy connectable (engine/connection) or database string URI or sqlite3 DBAPI2 connection. Other DBAPI2 objects are not tested. Please consider using SQLAlchemy.\n",
      "  distinct_values = pd.read_sql(\n",
      "/var/folders/d6/7jdh7rbj2f59v10kcc72rsym0000gn/T/ipykernel_19918/4072846926.py:29: UserWarning: pandas only supports SQLAlchemy connectable (engine/connection) or database string URI or sqlite3 DBAPI2 connection. Other DBAPI2 objects are not tested. Please consider using SQLAlchemy.\n",
      "  null_count = pd.read_sql(\n"
     ]
    },
    {
     "name": "stdout",
     "output_type": "stream",
     "text": [
      "Column: nii_6548_cont, 744819 distinct val, 0 null values\n"
     ]
    },
    {
     "name": "stderr",
     "output_type": "stream",
     "text": [
      "/var/folders/d6/7jdh7rbj2f59v10kcc72rsym0000gn/T/ipykernel_19918/4072846926.py:6: UserWarning: pandas only supports SQLAlchemy connectable (engine/connection) or database string URI or sqlite3 DBAPI2 connection. Other DBAPI2 objects are not tested. Please consider using SQLAlchemy.\n",
      "  value = pd.read_sql(\n",
      "/var/folders/d6/7jdh7rbj2f59v10kcc72rsym0000gn/T/ipykernel_19918/4072846926.py:22: UserWarning: pandas only supports SQLAlchemy connectable (engine/connection) or database string URI or sqlite3 DBAPI2 connection. Other DBAPI2 objects are not tested. Please consider using SQLAlchemy.\n",
      "  item_count = pd.read_sql(\n",
      "/var/folders/d6/7jdh7rbj2f59v10kcc72rsym0000gn/T/ipykernel_19918/4072846926.py:26: UserWarning: pandas only supports SQLAlchemy connectable (engine/connection) or database string URI or sqlite3 DBAPI2 connection. Other DBAPI2 objects are not tested. Please consider using SQLAlchemy.\n",
      "  distinct_values = pd.read_sql(\n",
      "/var/folders/d6/7jdh7rbj2f59v10kcc72rsym0000gn/T/ipykernel_19918/4072846926.py:29: UserWarning: pandas only supports SQLAlchemy connectable (engine/connection) or database string URI or sqlite3 DBAPI2 connection. Other DBAPI2 objects are not tested. Please consider using SQLAlchemy.\n",
      "  null_count = pd.read_sql(\n"
     ]
    },
    {
     "name": "stdout",
     "output_type": "stream",
     "text": [
      "Column: nii_6548_cont_err, 759118 distinct val, 0 null values\n"
     ]
    },
    {
     "name": "stderr",
     "output_type": "stream",
     "text": [
      "/var/folders/d6/7jdh7rbj2f59v10kcc72rsym0000gn/T/ipykernel_19918/4072846926.py:6: UserWarning: pandas only supports SQLAlchemy connectable (engine/connection) or database string URI or sqlite3 DBAPI2 connection. Other DBAPI2 objects are not tested. Please consider using SQLAlchemy.\n",
      "  value = pd.read_sql(\n",
      "/var/folders/d6/7jdh7rbj2f59v10kcc72rsym0000gn/T/ipykernel_19918/4072846926.py:22: UserWarning: pandas only supports SQLAlchemy connectable (engine/connection) or database string URI or sqlite3 DBAPI2 connection. Other DBAPI2 objects are not tested. Please consider using SQLAlchemy.\n",
      "  item_count = pd.read_sql(\n",
      "/var/folders/d6/7jdh7rbj2f59v10kcc72rsym0000gn/T/ipykernel_19918/4072846926.py:26: UserWarning: pandas only supports SQLAlchemy connectable (engine/connection) or database string URI or sqlite3 DBAPI2 connection. Other DBAPI2 objects are not tested. Please consider using SQLAlchemy.\n",
      "  distinct_values = pd.read_sql(\n",
      "/var/folders/d6/7jdh7rbj2f59v10kcc72rsym0000gn/T/ipykernel_19918/4072846926.py:29: UserWarning: pandas only supports SQLAlchemy connectable (engine/connection) or database string URI or sqlite3 DBAPI2 connection. Other DBAPI2 objects are not tested. Please consider using SQLAlchemy.\n",
      "  null_count = pd.read_sql(\n"
     ]
    },
    {
     "name": "stdout",
     "output_type": "stream",
     "text": [
      "Column: nii_6548_reqw, 784584 distinct val, 0 null values\n"
     ]
    },
    {
     "name": "stderr",
     "output_type": "stream",
     "text": [
      "/var/folders/d6/7jdh7rbj2f59v10kcc72rsym0000gn/T/ipykernel_19918/4072846926.py:6: UserWarning: pandas only supports SQLAlchemy connectable (engine/connection) or database string URI or sqlite3 DBAPI2 connection. Other DBAPI2 objects are not tested. Please consider using SQLAlchemy.\n",
      "  value = pd.read_sql(\n",
      "/var/folders/d6/7jdh7rbj2f59v10kcc72rsym0000gn/T/ipykernel_19918/4072846926.py:22: UserWarning: pandas only supports SQLAlchemy connectable (engine/connection) or database string URI or sqlite3 DBAPI2 connection. Other DBAPI2 objects are not tested. Please consider using SQLAlchemy.\n",
      "  item_count = pd.read_sql(\n",
      "/var/folders/d6/7jdh7rbj2f59v10kcc72rsym0000gn/T/ipykernel_19918/4072846926.py:26: UserWarning: pandas only supports SQLAlchemy connectable (engine/connection) or database string URI or sqlite3 DBAPI2 connection. Other DBAPI2 objects are not tested. Please consider using SQLAlchemy.\n",
      "  distinct_values = pd.read_sql(\n",
      "/var/folders/d6/7jdh7rbj2f59v10kcc72rsym0000gn/T/ipykernel_19918/4072846926.py:29: UserWarning: pandas only supports SQLAlchemy connectable (engine/connection) or database string URI or sqlite3 DBAPI2 connection. Other DBAPI2 objects are not tested. Please consider using SQLAlchemy.\n",
      "  null_count = pd.read_sql(\n"
     ]
    },
    {
     "name": "stdout",
     "output_type": "stream",
     "text": [
      "Column: nii_6548_reqw_err, 753740 distinct val, 0 null values\n"
     ]
    },
    {
     "name": "stderr",
     "output_type": "stream",
     "text": [
      "/var/folders/d6/7jdh7rbj2f59v10kcc72rsym0000gn/T/ipykernel_19918/4072846926.py:6: UserWarning: pandas only supports SQLAlchemy connectable (engine/connection) or database string URI or sqlite3 DBAPI2 connection. Other DBAPI2 objects are not tested. Please consider using SQLAlchemy.\n",
      "  value = pd.read_sql(\n",
      "/var/folders/d6/7jdh7rbj2f59v10kcc72rsym0000gn/T/ipykernel_19918/4072846926.py:22: UserWarning: pandas only supports SQLAlchemy connectable (engine/connection) or database string URI or sqlite3 DBAPI2 connection. Other DBAPI2 objects are not tested. Please consider using SQLAlchemy.\n",
      "  item_count = pd.read_sql(\n",
      "/var/folders/d6/7jdh7rbj2f59v10kcc72rsym0000gn/T/ipykernel_19918/4072846926.py:26: UserWarning: pandas only supports SQLAlchemy connectable (engine/connection) or database string URI or sqlite3 DBAPI2 connection. Other DBAPI2 objects are not tested. Please consider using SQLAlchemy.\n",
      "  distinct_values = pd.read_sql(\n",
      "/var/folders/d6/7jdh7rbj2f59v10kcc72rsym0000gn/T/ipykernel_19918/4072846926.py:29: UserWarning: pandas only supports SQLAlchemy connectable (engine/connection) or database string URI or sqlite3 DBAPI2 connection. Other DBAPI2 objects are not tested. Please consider using SQLAlchemy.\n",
      "  null_count = pd.read_sql(\n"
     ]
    },
    {
     "name": "stdout",
     "output_type": "stream",
     "text": [
      "Column: nii_6548_eqw, 792073 distinct val, 0 null values\n"
     ]
    },
    {
     "name": "stderr",
     "output_type": "stream",
     "text": [
      "/var/folders/d6/7jdh7rbj2f59v10kcc72rsym0000gn/T/ipykernel_19918/4072846926.py:6: UserWarning: pandas only supports SQLAlchemy connectable (engine/connection) or database string URI or sqlite3 DBAPI2 connection. Other DBAPI2 objects are not tested. Please consider using SQLAlchemy.\n",
      "  value = pd.read_sql(\n",
      "/var/folders/d6/7jdh7rbj2f59v10kcc72rsym0000gn/T/ipykernel_19918/4072846926.py:22: UserWarning: pandas only supports SQLAlchemy connectable (engine/connection) or database string URI or sqlite3 DBAPI2 connection. Other DBAPI2 objects are not tested. Please consider using SQLAlchemy.\n",
      "  item_count = pd.read_sql(\n",
      "/var/folders/d6/7jdh7rbj2f59v10kcc72rsym0000gn/T/ipykernel_19918/4072846926.py:26: UserWarning: pandas only supports SQLAlchemy connectable (engine/connection) or database string URI or sqlite3 DBAPI2 connection. Other DBAPI2 objects are not tested. Please consider using SQLAlchemy.\n",
      "  distinct_values = pd.read_sql(\n",
      "/var/folders/d6/7jdh7rbj2f59v10kcc72rsym0000gn/T/ipykernel_19918/4072846926.py:29: UserWarning: pandas only supports SQLAlchemy connectable (engine/connection) or database string URI or sqlite3 DBAPI2 connection. Other DBAPI2 objects are not tested. Please consider using SQLAlchemy.\n",
      "  null_count = pd.read_sql(\n"
     ]
    },
    {
     "name": "stdout",
     "output_type": "stream",
     "text": [
      "Column: nii_6548_eqw_err, 753740 distinct val, 0 null values\n"
     ]
    },
    {
     "name": "stderr",
     "output_type": "stream",
     "text": [
      "/var/folders/d6/7jdh7rbj2f59v10kcc72rsym0000gn/T/ipykernel_19918/4072846926.py:6: UserWarning: pandas only supports SQLAlchemy connectable (engine/connection) or database string URI or sqlite3 DBAPI2 connection. Other DBAPI2 objects are not tested. Please consider using SQLAlchemy.\n",
      "  value = pd.read_sql(\n",
      "/var/folders/d6/7jdh7rbj2f59v10kcc72rsym0000gn/T/ipykernel_19918/4072846926.py:22: UserWarning: pandas only supports SQLAlchemy connectable (engine/connection) or database string URI or sqlite3 DBAPI2 connection. Other DBAPI2 objects are not tested. Please consider using SQLAlchemy.\n",
      "  item_count = pd.read_sql(\n",
      "/var/folders/d6/7jdh7rbj2f59v10kcc72rsym0000gn/T/ipykernel_19918/4072846926.py:26: UserWarning: pandas only supports SQLAlchemy connectable (engine/connection) or database string URI or sqlite3 DBAPI2 connection. Other DBAPI2 objects are not tested. Please consider using SQLAlchemy.\n",
      "  distinct_values = pd.read_sql(\n",
      "/var/folders/d6/7jdh7rbj2f59v10kcc72rsym0000gn/T/ipykernel_19918/4072846926.py:29: UserWarning: pandas only supports SQLAlchemy connectable (engine/connection) or database string URI or sqlite3 DBAPI2 connection. Other DBAPI2 objects are not tested. Please consider using SQLAlchemy.\n",
      "  null_count = pd.read_sql(\n"
     ]
    },
    {
     "name": "stdout",
     "output_type": "stream",
     "text": [
      "Column: nii_6548_flux, 793079 distinct val, 0 null values\n"
     ]
    },
    {
     "name": "stderr",
     "output_type": "stream",
     "text": [
      "/var/folders/d6/7jdh7rbj2f59v10kcc72rsym0000gn/T/ipykernel_19918/4072846926.py:6: UserWarning: pandas only supports SQLAlchemy connectable (engine/connection) or database string URI or sqlite3 DBAPI2 connection. Other DBAPI2 objects are not tested. Please consider using SQLAlchemy.\n",
      "  value = pd.read_sql(\n",
      "/var/folders/d6/7jdh7rbj2f59v10kcc72rsym0000gn/T/ipykernel_19918/4072846926.py:22: UserWarning: pandas only supports SQLAlchemy connectable (engine/connection) or database string URI or sqlite3 DBAPI2 connection. Other DBAPI2 objects are not tested. Please consider using SQLAlchemy.\n",
      "  item_count = pd.read_sql(\n",
      "/var/folders/d6/7jdh7rbj2f59v10kcc72rsym0000gn/T/ipykernel_19918/4072846926.py:26: UserWarning: pandas only supports SQLAlchemy connectable (engine/connection) or database string URI or sqlite3 DBAPI2 connection. Other DBAPI2 objects are not tested. Please consider using SQLAlchemy.\n",
      "  distinct_values = pd.read_sql(\n",
      "/var/folders/d6/7jdh7rbj2f59v10kcc72rsym0000gn/T/ipykernel_19918/4072846926.py:29: UserWarning: pandas only supports SQLAlchemy connectable (engine/connection) or database string URI or sqlite3 DBAPI2 connection. Other DBAPI2 objects are not tested. Please consider using SQLAlchemy.\n",
      "  null_count = pd.read_sql(\n"
     ]
    },
    {
     "name": "stdout",
     "output_type": "stream",
     "text": [
      "Column: nii_6548_flux_err, 783701 distinct val, 0 null values\n"
     ]
    },
    {
     "name": "stderr",
     "output_type": "stream",
     "text": [
      "/var/folders/d6/7jdh7rbj2f59v10kcc72rsym0000gn/T/ipykernel_19918/4072846926.py:6: UserWarning: pandas only supports SQLAlchemy connectable (engine/connection) or database string URI or sqlite3 DBAPI2 connection. Other DBAPI2 objects are not tested. Please consider using SQLAlchemy.\n",
      "  value = pd.read_sql(\n",
      "/var/folders/d6/7jdh7rbj2f59v10kcc72rsym0000gn/T/ipykernel_19918/4072846926.py:22: UserWarning: pandas only supports SQLAlchemy connectable (engine/connection) or database string URI or sqlite3 DBAPI2 connection. Other DBAPI2 objects are not tested. Please consider using SQLAlchemy.\n",
      "  item_count = pd.read_sql(\n",
      "/var/folders/d6/7jdh7rbj2f59v10kcc72rsym0000gn/T/ipykernel_19918/4072846926.py:26: UserWarning: pandas only supports SQLAlchemy connectable (engine/connection) or database string URI or sqlite3 DBAPI2 connection. Other DBAPI2 objects are not tested. Please consider using SQLAlchemy.\n",
      "  distinct_values = pd.read_sql(\n",
      "/var/folders/d6/7jdh7rbj2f59v10kcc72rsym0000gn/T/ipykernel_19918/4072846926.py:29: UserWarning: pandas only supports SQLAlchemy connectable (engine/connection) or database string URI or sqlite3 DBAPI2 connection. Other DBAPI2 objects are not tested. Please consider using SQLAlchemy.\n",
      "  null_count = pd.read_sql(\n"
     ]
    },
    {
     "name": "stdout",
     "output_type": "stream",
     "text": [
      "Column: nii_6548_inst_res, 636757 distinct val, 0 null values\n"
     ]
    },
    {
     "name": "stderr",
     "output_type": "stream",
     "text": [
      "/var/folders/d6/7jdh7rbj2f59v10kcc72rsym0000gn/T/ipykernel_19918/4072846926.py:6: UserWarning: pandas only supports SQLAlchemy connectable (engine/connection) or database string URI or sqlite3 DBAPI2 connection. Other DBAPI2 objects are not tested. Please consider using SQLAlchemy.\n",
      "  value = pd.read_sql(\n",
      "/var/folders/d6/7jdh7rbj2f59v10kcc72rsym0000gn/T/ipykernel_19918/4072846926.py:22: UserWarning: pandas only supports SQLAlchemy connectable (engine/connection) or database string URI or sqlite3 DBAPI2 connection. Other DBAPI2 objects are not tested. Please consider using SQLAlchemy.\n",
      "  item_count = pd.read_sql(\n",
      "/var/folders/d6/7jdh7rbj2f59v10kcc72rsym0000gn/T/ipykernel_19918/4072846926.py:26: UserWarning: pandas only supports SQLAlchemy connectable (engine/connection) or database string URI or sqlite3 DBAPI2 connection. Other DBAPI2 objects are not tested. Please consider using SQLAlchemy.\n",
      "  distinct_values = pd.read_sql(\n",
      "/var/folders/d6/7jdh7rbj2f59v10kcc72rsym0000gn/T/ipykernel_19918/4072846926.py:29: UserWarning: pandas only supports SQLAlchemy connectable (engine/connection) or database string URI or sqlite3 DBAPI2 connection. Other DBAPI2 objects are not tested. Please consider using SQLAlchemy.\n",
      "  null_count = pd.read_sql(\n"
     ]
    },
    {
     "name": "stdout",
     "output_type": "stream",
     "text": [
      "Column: nii_6548_chisq, 753481 distinct val, 0 null values\n"
     ]
    },
    {
     "name": "stderr",
     "output_type": "stream",
     "text": [
      "/var/folders/d6/7jdh7rbj2f59v10kcc72rsym0000gn/T/ipykernel_19918/4072846926.py:6: UserWarning: pandas only supports SQLAlchemy connectable (engine/connection) or database string URI or sqlite3 DBAPI2 connection. Other DBAPI2 objects are not tested. Please consider using SQLAlchemy.\n",
      "  value = pd.read_sql(\n",
      "/var/folders/d6/7jdh7rbj2f59v10kcc72rsym0000gn/T/ipykernel_19918/4072846926.py:22: UserWarning: pandas only supports SQLAlchemy connectable (engine/connection) or database string URI or sqlite3 DBAPI2 connection. Other DBAPI2 objects are not tested. Please consider using SQLAlchemy.\n",
      "  item_count = pd.read_sql(\n",
      "/var/folders/d6/7jdh7rbj2f59v10kcc72rsym0000gn/T/ipykernel_19918/4072846926.py:26: UserWarning: pandas only supports SQLAlchemy connectable (engine/connection) or database string URI or sqlite3 DBAPI2 connection. Other DBAPI2 objects are not tested. Please consider using SQLAlchemy.\n",
      "  distinct_values = pd.read_sql(\n",
      "/var/folders/d6/7jdh7rbj2f59v10kcc72rsym0000gn/T/ipykernel_19918/4072846926.py:29: UserWarning: pandas only supports SQLAlchemy connectable (engine/connection) or database string URI or sqlite3 DBAPI2 connection. Other DBAPI2 objects are not tested. Please consider using SQLAlchemy.\n",
      "  null_count = pd.read_sql(\n"
     ]
    },
    {
     "name": "stdout",
     "output_type": "stream",
     "text": [
      "Column: h_alpha_cont, 743445 distinct val, 0 null values\n"
     ]
    },
    {
     "name": "stderr",
     "output_type": "stream",
     "text": [
      "/var/folders/d6/7jdh7rbj2f59v10kcc72rsym0000gn/T/ipykernel_19918/4072846926.py:6: UserWarning: pandas only supports SQLAlchemy connectable (engine/connection) or database string URI or sqlite3 DBAPI2 connection. Other DBAPI2 objects are not tested. Please consider using SQLAlchemy.\n",
      "  value = pd.read_sql(\n",
      "/var/folders/d6/7jdh7rbj2f59v10kcc72rsym0000gn/T/ipykernel_19918/4072846926.py:22: UserWarning: pandas only supports SQLAlchemy connectable (engine/connection) or database string URI or sqlite3 DBAPI2 connection. Other DBAPI2 objects are not tested. Please consider using SQLAlchemy.\n",
      "  item_count = pd.read_sql(\n",
      "/var/folders/d6/7jdh7rbj2f59v10kcc72rsym0000gn/T/ipykernel_19918/4072846926.py:26: UserWarning: pandas only supports SQLAlchemy connectable (engine/connection) or database string URI or sqlite3 DBAPI2 connection. Other DBAPI2 objects are not tested. Please consider using SQLAlchemy.\n",
      "  distinct_values = pd.read_sql(\n",
      "/var/folders/d6/7jdh7rbj2f59v10kcc72rsym0000gn/T/ipykernel_19918/4072846926.py:29: UserWarning: pandas only supports SQLAlchemy connectable (engine/connection) or database string URI or sqlite3 DBAPI2 connection. Other DBAPI2 objects are not tested. Please consider using SQLAlchemy.\n",
      "  null_count = pd.read_sql(\n"
     ]
    },
    {
     "name": "stdout",
     "output_type": "stream",
     "text": [
      "Column: h_alpha_cont_err, 757619 distinct val, 0 null values\n"
     ]
    },
    {
     "name": "stderr",
     "output_type": "stream",
     "text": [
      "/var/folders/d6/7jdh7rbj2f59v10kcc72rsym0000gn/T/ipykernel_19918/4072846926.py:6: UserWarning: pandas only supports SQLAlchemy connectable (engine/connection) or database string URI or sqlite3 DBAPI2 connection. Other DBAPI2 objects are not tested. Please consider using SQLAlchemy.\n",
      "  value = pd.read_sql(\n",
      "/var/folders/d6/7jdh7rbj2f59v10kcc72rsym0000gn/T/ipykernel_19918/4072846926.py:22: UserWarning: pandas only supports SQLAlchemy connectable (engine/connection) or database string URI or sqlite3 DBAPI2 connection. Other DBAPI2 objects are not tested. Please consider using SQLAlchemy.\n",
      "  item_count = pd.read_sql(\n",
      "/var/folders/d6/7jdh7rbj2f59v10kcc72rsym0000gn/T/ipykernel_19918/4072846926.py:26: UserWarning: pandas only supports SQLAlchemy connectable (engine/connection) or database string URI or sqlite3 DBAPI2 connection. Other DBAPI2 objects are not tested. Please consider using SQLAlchemy.\n",
      "  distinct_values = pd.read_sql(\n",
      "/var/folders/d6/7jdh7rbj2f59v10kcc72rsym0000gn/T/ipykernel_19918/4072846926.py:29: UserWarning: pandas only supports SQLAlchemy connectable (engine/connection) or database string URI or sqlite3 DBAPI2 connection. Other DBAPI2 objects are not tested. Please consider using SQLAlchemy.\n",
      "  null_count = pd.read_sql(\n"
     ]
    },
    {
     "name": "stdout",
     "output_type": "stream",
     "text": [
      "Column: h_alpha_reqw, 791107 distinct val, 0 null values\n"
     ]
    },
    {
     "name": "stderr",
     "output_type": "stream",
     "text": [
      "/var/folders/d6/7jdh7rbj2f59v10kcc72rsym0000gn/T/ipykernel_19918/4072846926.py:6: UserWarning: pandas only supports SQLAlchemy connectable (engine/connection) or database string URI or sqlite3 DBAPI2 connection. Other DBAPI2 objects are not tested. Please consider using SQLAlchemy.\n",
      "  value = pd.read_sql(\n",
      "/var/folders/d6/7jdh7rbj2f59v10kcc72rsym0000gn/T/ipykernel_19918/4072846926.py:22: UserWarning: pandas only supports SQLAlchemy connectable (engine/connection) or database string URI or sqlite3 DBAPI2 connection. Other DBAPI2 objects are not tested. Please consider using SQLAlchemy.\n",
      "  item_count = pd.read_sql(\n",
      "/var/folders/d6/7jdh7rbj2f59v10kcc72rsym0000gn/T/ipykernel_19918/4072846926.py:26: UserWarning: pandas only supports SQLAlchemy connectable (engine/connection) or database string URI or sqlite3 DBAPI2 connection. Other DBAPI2 objects are not tested. Please consider using SQLAlchemy.\n",
      "  distinct_values = pd.read_sql(\n",
      "/var/folders/d6/7jdh7rbj2f59v10kcc72rsym0000gn/T/ipykernel_19918/4072846926.py:29: UserWarning: pandas only supports SQLAlchemy connectable (engine/connection) or database string URI or sqlite3 DBAPI2 connection. Other DBAPI2 objects are not tested. Please consider using SQLAlchemy.\n",
      "  null_count = pd.read_sql(\n"
     ]
    },
    {
     "name": "stdout",
     "output_type": "stream",
     "text": [
      "Column: h_alpha_reqw_err, 764714 distinct val, 0 null values\n"
     ]
    },
    {
     "name": "stderr",
     "output_type": "stream",
     "text": [
      "/var/folders/d6/7jdh7rbj2f59v10kcc72rsym0000gn/T/ipykernel_19918/4072846926.py:6: UserWarning: pandas only supports SQLAlchemy connectable (engine/connection) or database string URI or sqlite3 DBAPI2 connection. Other DBAPI2 objects are not tested. Please consider using SQLAlchemy.\n",
      "  value = pd.read_sql(\n",
      "/var/folders/d6/7jdh7rbj2f59v10kcc72rsym0000gn/T/ipykernel_19918/4072846926.py:22: UserWarning: pandas only supports SQLAlchemy connectable (engine/connection) or database string URI or sqlite3 DBAPI2 connection. Other DBAPI2 objects are not tested. Please consider using SQLAlchemy.\n",
      "  item_count = pd.read_sql(\n",
      "/var/folders/d6/7jdh7rbj2f59v10kcc72rsym0000gn/T/ipykernel_19918/4072846926.py:26: UserWarning: pandas only supports SQLAlchemy connectable (engine/connection) or database string URI or sqlite3 DBAPI2 connection. Other DBAPI2 objects are not tested. Please consider using SQLAlchemy.\n",
      "  distinct_values = pd.read_sql(\n",
      "/var/folders/d6/7jdh7rbj2f59v10kcc72rsym0000gn/T/ipykernel_19918/4072846926.py:29: UserWarning: pandas only supports SQLAlchemy connectable (engine/connection) or database string URI or sqlite3 DBAPI2 connection. Other DBAPI2 objects are not tested. Please consider using SQLAlchemy.\n",
      "  null_count = pd.read_sql(\n"
     ]
    },
    {
     "name": "stdout",
     "output_type": "stream",
     "text": [
      "Column: h_alpha_eqw, 794474 distinct val, 0 null values\n"
     ]
    },
    {
     "name": "stderr",
     "output_type": "stream",
     "text": [
      "/var/folders/d6/7jdh7rbj2f59v10kcc72rsym0000gn/T/ipykernel_19918/4072846926.py:6: UserWarning: pandas only supports SQLAlchemy connectable (engine/connection) or database string URI or sqlite3 DBAPI2 connection. Other DBAPI2 objects are not tested. Please consider using SQLAlchemy.\n",
      "  value = pd.read_sql(\n",
      "/var/folders/d6/7jdh7rbj2f59v10kcc72rsym0000gn/T/ipykernel_19918/4072846926.py:22: UserWarning: pandas only supports SQLAlchemy connectable (engine/connection) or database string URI or sqlite3 DBAPI2 connection. Other DBAPI2 objects are not tested. Please consider using SQLAlchemy.\n",
      "  item_count = pd.read_sql(\n",
      "/var/folders/d6/7jdh7rbj2f59v10kcc72rsym0000gn/T/ipykernel_19918/4072846926.py:26: UserWarning: pandas only supports SQLAlchemy connectable (engine/connection) or database string URI or sqlite3 DBAPI2 connection. Other DBAPI2 objects are not tested. Please consider using SQLAlchemy.\n",
      "  distinct_values = pd.read_sql(\n",
      "/var/folders/d6/7jdh7rbj2f59v10kcc72rsym0000gn/T/ipykernel_19918/4072846926.py:29: UserWarning: pandas only supports SQLAlchemy connectable (engine/connection) or database string URI or sqlite3 DBAPI2 connection. Other DBAPI2 objects are not tested. Please consider using SQLAlchemy.\n",
      "  null_count = pd.read_sql(\n"
     ]
    },
    {
     "name": "stdout",
     "output_type": "stream",
     "text": [
      "Column: h_alpha_eqw_err, 764714 distinct val, 0 null values\n"
     ]
    },
    {
     "name": "stderr",
     "output_type": "stream",
     "text": [
      "/var/folders/d6/7jdh7rbj2f59v10kcc72rsym0000gn/T/ipykernel_19918/4072846926.py:6: UserWarning: pandas only supports SQLAlchemy connectable (engine/connection) or database string URI or sqlite3 DBAPI2 connection. Other DBAPI2 objects are not tested. Please consider using SQLAlchemy.\n",
      "  value = pd.read_sql(\n",
      "/var/folders/d6/7jdh7rbj2f59v10kcc72rsym0000gn/T/ipykernel_19918/4072846926.py:22: UserWarning: pandas only supports SQLAlchemy connectable (engine/connection) or database string URI or sqlite3 DBAPI2 connection. Other DBAPI2 objects are not tested. Please consider using SQLAlchemy.\n",
      "  item_count = pd.read_sql(\n",
      "/var/folders/d6/7jdh7rbj2f59v10kcc72rsym0000gn/T/ipykernel_19918/4072846926.py:26: UserWarning: pandas only supports SQLAlchemy connectable (engine/connection) or database string URI or sqlite3 DBAPI2 connection. Other DBAPI2 objects are not tested. Please consider using SQLAlchemy.\n",
      "  distinct_values = pd.read_sql(\n",
      "/var/folders/d6/7jdh7rbj2f59v10kcc72rsym0000gn/T/ipykernel_19918/4072846926.py:29: UserWarning: pandas only supports SQLAlchemy connectable (engine/connection) or database string URI or sqlite3 DBAPI2 connection. Other DBAPI2 objects are not tested. Please consider using SQLAlchemy.\n",
      "  null_count = pd.read_sql(\n"
     ]
    },
    {
     "name": "stdout",
     "output_type": "stream",
     "text": [
      "Column: h_alpha_flux, 793530 distinct val, 0 null values\n"
     ]
    },
    {
     "name": "stderr",
     "output_type": "stream",
     "text": [
      "/var/folders/d6/7jdh7rbj2f59v10kcc72rsym0000gn/T/ipykernel_19918/4072846926.py:6: UserWarning: pandas only supports SQLAlchemy connectable (engine/connection) or database string URI or sqlite3 DBAPI2 connection. Other DBAPI2 objects are not tested. Please consider using SQLAlchemy.\n",
      "  value = pd.read_sql(\n",
      "/var/folders/d6/7jdh7rbj2f59v10kcc72rsym0000gn/T/ipykernel_19918/4072846926.py:22: UserWarning: pandas only supports SQLAlchemy connectable (engine/connection) or database string URI or sqlite3 DBAPI2 connection. Other DBAPI2 objects are not tested. Please consider using SQLAlchemy.\n",
      "  item_count = pd.read_sql(\n",
      "/var/folders/d6/7jdh7rbj2f59v10kcc72rsym0000gn/T/ipykernel_19918/4072846926.py:26: UserWarning: pandas only supports SQLAlchemy connectable (engine/connection) or database string URI or sqlite3 DBAPI2 connection. Other DBAPI2 objects are not tested. Please consider using SQLAlchemy.\n",
      "  distinct_values = pd.read_sql(\n",
      "/var/folders/d6/7jdh7rbj2f59v10kcc72rsym0000gn/T/ipykernel_19918/4072846926.py:29: UserWarning: pandas only supports SQLAlchemy connectable (engine/connection) or database string URI or sqlite3 DBAPI2 connection. Other DBAPI2 objects are not tested. Please consider using SQLAlchemy.\n",
      "  null_count = pd.read_sql(\n"
     ]
    },
    {
     "name": "stdout",
     "output_type": "stream",
     "text": [
      "Column: h_alpha_flux_err, 797208 distinct val, 0 null values\n"
     ]
    },
    {
     "name": "stderr",
     "output_type": "stream",
     "text": [
      "/var/folders/d6/7jdh7rbj2f59v10kcc72rsym0000gn/T/ipykernel_19918/4072846926.py:6: UserWarning: pandas only supports SQLAlchemy connectable (engine/connection) or database string URI or sqlite3 DBAPI2 connection. Other DBAPI2 objects are not tested. Please consider using SQLAlchemy.\n",
      "  value = pd.read_sql(\n",
      "/var/folders/d6/7jdh7rbj2f59v10kcc72rsym0000gn/T/ipykernel_19918/4072846926.py:22: UserWarning: pandas only supports SQLAlchemy connectable (engine/connection) or database string URI or sqlite3 DBAPI2 connection. Other DBAPI2 objects are not tested. Please consider using SQLAlchemy.\n",
      "  item_count = pd.read_sql(\n",
      "/var/folders/d6/7jdh7rbj2f59v10kcc72rsym0000gn/T/ipykernel_19918/4072846926.py:26: UserWarning: pandas only supports SQLAlchemy connectable (engine/connection) or database string URI or sqlite3 DBAPI2 connection. Other DBAPI2 objects are not tested. Please consider using SQLAlchemy.\n",
      "  distinct_values = pd.read_sql(\n",
      "/var/folders/d6/7jdh7rbj2f59v10kcc72rsym0000gn/T/ipykernel_19918/4072846926.py:29: UserWarning: pandas only supports SQLAlchemy connectable (engine/connection) or database string URI or sqlite3 DBAPI2 connection. Other DBAPI2 objects are not tested. Please consider using SQLAlchemy.\n",
      "  null_count = pd.read_sql(\n"
     ]
    },
    {
     "name": "stdout",
     "output_type": "stream",
     "text": [
      "Column: h_alpha_inst_res, 634235 distinct val, 0 null values\n"
     ]
    },
    {
     "name": "stderr",
     "output_type": "stream",
     "text": [
      "/var/folders/d6/7jdh7rbj2f59v10kcc72rsym0000gn/T/ipykernel_19918/4072846926.py:6: UserWarning: pandas only supports SQLAlchemy connectable (engine/connection) or database string URI or sqlite3 DBAPI2 connection. Other DBAPI2 objects are not tested. Please consider using SQLAlchemy.\n",
      "  value = pd.read_sql(\n",
      "/var/folders/d6/7jdh7rbj2f59v10kcc72rsym0000gn/T/ipykernel_19918/4072846926.py:22: UserWarning: pandas only supports SQLAlchemy connectable (engine/connection) or database string URI or sqlite3 DBAPI2 connection. Other DBAPI2 objects are not tested. Please consider using SQLAlchemy.\n",
      "  item_count = pd.read_sql(\n",
      "/var/folders/d6/7jdh7rbj2f59v10kcc72rsym0000gn/T/ipykernel_19918/4072846926.py:26: UserWarning: pandas only supports SQLAlchemy connectable (engine/connection) or database string URI or sqlite3 DBAPI2 connection. Other DBAPI2 objects are not tested. Please consider using SQLAlchemy.\n",
      "  distinct_values = pd.read_sql(\n",
      "/var/folders/d6/7jdh7rbj2f59v10kcc72rsym0000gn/T/ipykernel_19918/4072846926.py:29: UserWarning: pandas only supports SQLAlchemy connectable (engine/connection) or database string URI or sqlite3 DBAPI2 connection. Other DBAPI2 objects are not tested. Please consider using SQLAlchemy.\n",
      "  null_count = pd.read_sql(\n"
     ]
    },
    {
     "name": "stdout",
     "output_type": "stream",
     "text": [
      "Column: h_alpha_chisq, 772411 distinct val, 0 null values\n"
     ]
    },
    {
     "name": "stderr",
     "output_type": "stream",
     "text": [
      "/var/folders/d6/7jdh7rbj2f59v10kcc72rsym0000gn/T/ipykernel_19918/4072846926.py:6: UserWarning: pandas only supports SQLAlchemy connectable (engine/connection) or database string URI or sqlite3 DBAPI2 connection. Other DBAPI2 objects are not tested. Please consider using SQLAlchemy.\n",
      "  value = pd.read_sql(\n",
      "/var/folders/d6/7jdh7rbj2f59v10kcc72rsym0000gn/T/ipykernel_19918/4072846926.py:22: UserWarning: pandas only supports SQLAlchemy connectable (engine/connection) or database string URI or sqlite3 DBAPI2 connection. Other DBAPI2 objects are not tested. Please consider using SQLAlchemy.\n",
      "  item_count = pd.read_sql(\n",
      "/var/folders/d6/7jdh7rbj2f59v10kcc72rsym0000gn/T/ipykernel_19918/4072846926.py:26: UserWarning: pandas only supports SQLAlchemy connectable (engine/connection) or database string URI or sqlite3 DBAPI2 connection. Other DBAPI2 objects are not tested. Please consider using SQLAlchemy.\n",
      "  distinct_values = pd.read_sql(\n",
      "/var/folders/d6/7jdh7rbj2f59v10kcc72rsym0000gn/T/ipykernel_19918/4072846926.py:29: UserWarning: pandas only supports SQLAlchemy connectable (engine/connection) or database string URI or sqlite3 DBAPI2 connection. Other DBAPI2 objects are not tested. Please consider using SQLAlchemy.\n",
      "  null_count = pd.read_sql(\n"
     ]
    },
    {
     "name": "stdout",
     "output_type": "stream",
     "text": [
      "Column: nii_6584_cont, 741627 distinct val, 0 null values\n"
     ]
    },
    {
     "name": "stderr",
     "output_type": "stream",
     "text": [
      "/var/folders/d6/7jdh7rbj2f59v10kcc72rsym0000gn/T/ipykernel_19918/4072846926.py:6: UserWarning: pandas only supports SQLAlchemy connectable (engine/connection) or database string URI or sqlite3 DBAPI2 connection. Other DBAPI2 objects are not tested. Please consider using SQLAlchemy.\n",
      "  value = pd.read_sql(\n",
      "/var/folders/d6/7jdh7rbj2f59v10kcc72rsym0000gn/T/ipykernel_19918/4072846926.py:22: UserWarning: pandas only supports SQLAlchemy connectable (engine/connection) or database string URI or sqlite3 DBAPI2 connection. Other DBAPI2 objects are not tested. Please consider using SQLAlchemy.\n",
      "  item_count = pd.read_sql(\n",
      "/var/folders/d6/7jdh7rbj2f59v10kcc72rsym0000gn/T/ipykernel_19918/4072846926.py:26: UserWarning: pandas only supports SQLAlchemy connectable (engine/connection) or database string URI or sqlite3 DBAPI2 connection. Other DBAPI2 objects are not tested. Please consider using SQLAlchemy.\n",
      "  distinct_values = pd.read_sql(\n",
      "/var/folders/d6/7jdh7rbj2f59v10kcc72rsym0000gn/T/ipykernel_19918/4072846926.py:29: UserWarning: pandas only supports SQLAlchemy connectable (engine/connection) or database string URI or sqlite3 DBAPI2 connection. Other DBAPI2 objects are not tested. Please consider using SQLAlchemy.\n",
      "  null_count = pd.read_sql(\n"
     ]
    },
    {
     "name": "stdout",
     "output_type": "stream",
     "text": [
      "Column: nii_6584_cont_err, 755155 distinct val, 0 null values\n"
     ]
    },
    {
     "name": "stderr",
     "output_type": "stream",
     "text": [
      "/var/folders/d6/7jdh7rbj2f59v10kcc72rsym0000gn/T/ipykernel_19918/4072846926.py:6: UserWarning: pandas only supports SQLAlchemy connectable (engine/connection) or database string URI or sqlite3 DBAPI2 connection. Other DBAPI2 objects are not tested. Please consider using SQLAlchemy.\n",
      "  value = pd.read_sql(\n",
      "/var/folders/d6/7jdh7rbj2f59v10kcc72rsym0000gn/T/ipykernel_19918/4072846926.py:22: UserWarning: pandas only supports SQLAlchemy connectable (engine/connection) or database string URI or sqlite3 DBAPI2 connection. Other DBAPI2 objects are not tested. Please consider using SQLAlchemy.\n",
      "  item_count = pd.read_sql(\n",
      "/var/folders/d6/7jdh7rbj2f59v10kcc72rsym0000gn/T/ipykernel_19918/4072846926.py:26: UserWarning: pandas only supports SQLAlchemy connectable (engine/connection) or database string URI or sqlite3 DBAPI2 connection. Other DBAPI2 objects are not tested. Please consider using SQLAlchemy.\n",
      "  distinct_values = pd.read_sql(\n",
      "/var/folders/d6/7jdh7rbj2f59v10kcc72rsym0000gn/T/ipykernel_19918/4072846926.py:29: UserWarning: pandas only supports SQLAlchemy connectable (engine/connection) or database string URI or sqlite3 DBAPI2 connection. Other DBAPI2 objects are not tested. Please consider using SQLAlchemy.\n",
      "  null_count = pd.read_sql(\n"
     ]
    },
    {
     "name": "stdout",
     "output_type": "stream",
     "text": [
      "Column: nii_6584_reqw, 791916 distinct val, 0 null values\n"
     ]
    },
    {
     "name": "stderr",
     "output_type": "stream",
     "text": [
      "/var/folders/d6/7jdh7rbj2f59v10kcc72rsym0000gn/T/ipykernel_19918/4072846926.py:6: UserWarning: pandas only supports SQLAlchemy connectable (engine/connection) or database string URI or sqlite3 DBAPI2 connection. Other DBAPI2 objects are not tested. Please consider using SQLAlchemy.\n",
      "  value = pd.read_sql(\n",
      "/var/folders/d6/7jdh7rbj2f59v10kcc72rsym0000gn/T/ipykernel_19918/4072846926.py:22: UserWarning: pandas only supports SQLAlchemy connectable (engine/connection) or database string URI or sqlite3 DBAPI2 connection. Other DBAPI2 objects are not tested. Please consider using SQLAlchemy.\n",
      "  item_count = pd.read_sql(\n",
      "/var/folders/d6/7jdh7rbj2f59v10kcc72rsym0000gn/T/ipykernel_19918/4072846926.py:26: UserWarning: pandas only supports SQLAlchemy connectable (engine/connection) or database string URI or sqlite3 DBAPI2 connection. Other DBAPI2 objects are not tested. Please consider using SQLAlchemy.\n",
      "  distinct_values = pd.read_sql(\n",
      "/var/folders/d6/7jdh7rbj2f59v10kcc72rsym0000gn/T/ipykernel_19918/4072846926.py:29: UserWarning: pandas only supports SQLAlchemy connectable (engine/connection) or database string URI or sqlite3 DBAPI2 connection. Other DBAPI2 objects are not tested. Please consider using SQLAlchemy.\n",
      "  null_count = pd.read_sql(\n"
     ]
    },
    {
     "name": "stdout",
     "output_type": "stream",
     "text": [
      "Column: nii_6584_reqw_err, 754188 distinct val, 0 null values\n"
     ]
    },
    {
     "name": "stderr",
     "output_type": "stream",
     "text": [
      "/var/folders/d6/7jdh7rbj2f59v10kcc72rsym0000gn/T/ipykernel_19918/4072846926.py:6: UserWarning: pandas only supports SQLAlchemy connectable (engine/connection) or database string URI or sqlite3 DBAPI2 connection. Other DBAPI2 objects are not tested. Please consider using SQLAlchemy.\n",
      "  value = pd.read_sql(\n",
      "/var/folders/d6/7jdh7rbj2f59v10kcc72rsym0000gn/T/ipykernel_19918/4072846926.py:22: UserWarning: pandas only supports SQLAlchemy connectable (engine/connection) or database string URI or sqlite3 DBAPI2 connection. Other DBAPI2 objects are not tested. Please consider using SQLAlchemy.\n",
      "  item_count = pd.read_sql(\n",
      "/var/folders/d6/7jdh7rbj2f59v10kcc72rsym0000gn/T/ipykernel_19918/4072846926.py:26: UserWarning: pandas only supports SQLAlchemy connectable (engine/connection) or database string URI or sqlite3 DBAPI2 connection. Other DBAPI2 objects are not tested. Please consider using SQLAlchemy.\n",
      "  distinct_values = pd.read_sql(\n",
      "/var/folders/d6/7jdh7rbj2f59v10kcc72rsym0000gn/T/ipykernel_19918/4072846926.py:29: UserWarning: pandas only supports SQLAlchemy connectable (engine/connection) or database string URI or sqlite3 DBAPI2 connection. Other DBAPI2 objects are not tested. Please consider using SQLAlchemy.\n",
      "  null_count = pd.read_sql(\n"
     ]
    },
    {
     "name": "stdout",
     "output_type": "stream",
     "text": [
      "Column: nii_6584_eqw, 791614 distinct val, 0 null values\n"
     ]
    },
    {
     "name": "stderr",
     "output_type": "stream",
     "text": [
      "/var/folders/d6/7jdh7rbj2f59v10kcc72rsym0000gn/T/ipykernel_19918/4072846926.py:6: UserWarning: pandas only supports SQLAlchemy connectable (engine/connection) or database string URI or sqlite3 DBAPI2 connection. Other DBAPI2 objects are not tested. Please consider using SQLAlchemy.\n",
      "  value = pd.read_sql(\n",
      "/var/folders/d6/7jdh7rbj2f59v10kcc72rsym0000gn/T/ipykernel_19918/4072846926.py:22: UserWarning: pandas only supports SQLAlchemy connectable (engine/connection) or database string URI or sqlite3 DBAPI2 connection. Other DBAPI2 objects are not tested. Please consider using SQLAlchemy.\n",
      "  item_count = pd.read_sql(\n",
      "/var/folders/d6/7jdh7rbj2f59v10kcc72rsym0000gn/T/ipykernel_19918/4072846926.py:26: UserWarning: pandas only supports SQLAlchemy connectable (engine/connection) or database string URI or sqlite3 DBAPI2 connection. Other DBAPI2 objects are not tested. Please consider using SQLAlchemy.\n",
      "  distinct_values = pd.read_sql(\n",
      "/var/folders/d6/7jdh7rbj2f59v10kcc72rsym0000gn/T/ipykernel_19918/4072846926.py:29: UserWarning: pandas only supports SQLAlchemy connectable (engine/connection) or database string URI or sqlite3 DBAPI2 connection. Other DBAPI2 objects are not tested. Please consider using SQLAlchemy.\n",
      "  null_count = pd.read_sql(\n"
     ]
    },
    {
     "name": "stdout",
     "output_type": "stream",
     "text": [
      "Column: nii_6584_eqw_err, 754188 distinct val, 0 null values\n"
     ]
    },
    {
     "name": "stderr",
     "output_type": "stream",
     "text": [
      "/var/folders/d6/7jdh7rbj2f59v10kcc72rsym0000gn/T/ipykernel_19918/4072846926.py:6: UserWarning: pandas only supports SQLAlchemy connectable (engine/connection) or database string URI or sqlite3 DBAPI2 connection. Other DBAPI2 objects are not tested. Please consider using SQLAlchemy.\n",
      "  value = pd.read_sql(\n",
      "/var/folders/d6/7jdh7rbj2f59v10kcc72rsym0000gn/T/ipykernel_19918/4072846926.py:22: UserWarning: pandas only supports SQLAlchemy connectable (engine/connection) or database string URI or sqlite3 DBAPI2 connection. Other DBAPI2 objects are not tested. Please consider using SQLAlchemy.\n",
      "  item_count = pd.read_sql(\n",
      "/var/folders/d6/7jdh7rbj2f59v10kcc72rsym0000gn/T/ipykernel_19918/4072846926.py:26: UserWarning: pandas only supports SQLAlchemy connectable (engine/connection) or database string URI or sqlite3 DBAPI2 connection. Other DBAPI2 objects are not tested. Please consider using SQLAlchemy.\n",
      "  distinct_values = pd.read_sql(\n",
      "/var/folders/d6/7jdh7rbj2f59v10kcc72rsym0000gn/T/ipykernel_19918/4072846926.py:29: UserWarning: pandas only supports SQLAlchemy connectable (engine/connection) or database string URI or sqlite3 DBAPI2 connection. Other DBAPI2 objects are not tested. Please consider using SQLAlchemy.\n",
      "  null_count = pd.read_sql(\n"
     ]
    },
    {
     "name": "stdout",
     "output_type": "stream",
     "text": [
      "Column: nii_6584_flux, 793612 distinct val, 0 null values\n"
     ]
    },
    {
     "name": "stderr",
     "output_type": "stream",
     "text": [
      "/var/folders/d6/7jdh7rbj2f59v10kcc72rsym0000gn/T/ipykernel_19918/4072846926.py:6: UserWarning: pandas only supports SQLAlchemy connectable (engine/connection) or database string URI or sqlite3 DBAPI2 connection. Other DBAPI2 objects are not tested. Please consider using SQLAlchemy.\n",
      "  value = pd.read_sql(\n",
      "/var/folders/d6/7jdh7rbj2f59v10kcc72rsym0000gn/T/ipykernel_19918/4072846926.py:22: UserWarning: pandas only supports SQLAlchemy connectable (engine/connection) or database string URI or sqlite3 DBAPI2 connection. Other DBAPI2 objects are not tested. Please consider using SQLAlchemy.\n",
      "  item_count = pd.read_sql(\n",
      "/var/folders/d6/7jdh7rbj2f59v10kcc72rsym0000gn/T/ipykernel_19918/4072846926.py:26: UserWarning: pandas only supports SQLAlchemy connectable (engine/connection) or database string URI or sqlite3 DBAPI2 connection. Other DBAPI2 objects are not tested. Please consider using SQLAlchemy.\n",
      "  distinct_values = pd.read_sql(\n",
      "/var/folders/d6/7jdh7rbj2f59v10kcc72rsym0000gn/T/ipykernel_19918/4072846926.py:29: UserWarning: pandas only supports SQLAlchemy connectable (engine/connection) or database string URI or sqlite3 DBAPI2 connection. Other DBAPI2 objects are not tested. Please consider using SQLAlchemy.\n",
      "  null_count = pd.read_sql(\n"
     ]
    },
    {
     "name": "stdout",
     "output_type": "stream",
     "text": [
      "Column: nii_6584_flux_err, 783977 distinct val, 0 null values\n"
     ]
    },
    {
     "name": "stderr",
     "output_type": "stream",
     "text": [
      "/var/folders/d6/7jdh7rbj2f59v10kcc72rsym0000gn/T/ipykernel_19918/4072846926.py:6: UserWarning: pandas only supports SQLAlchemy connectable (engine/connection) or database string URI or sqlite3 DBAPI2 connection. Other DBAPI2 objects are not tested. Please consider using SQLAlchemy.\n",
      "  value = pd.read_sql(\n",
      "/var/folders/d6/7jdh7rbj2f59v10kcc72rsym0000gn/T/ipykernel_19918/4072846926.py:22: UserWarning: pandas only supports SQLAlchemy connectable (engine/connection) or database string URI or sqlite3 DBAPI2 connection. Other DBAPI2 objects are not tested. Please consider using SQLAlchemy.\n",
      "  item_count = pd.read_sql(\n",
      "/var/folders/d6/7jdh7rbj2f59v10kcc72rsym0000gn/T/ipykernel_19918/4072846926.py:26: UserWarning: pandas only supports SQLAlchemy connectable (engine/connection) or database string URI or sqlite3 DBAPI2 connection. Other DBAPI2 objects are not tested. Please consider using SQLAlchemy.\n",
      "  distinct_values = pd.read_sql(\n",
      "/var/folders/d6/7jdh7rbj2f59v10kcc72rsym0000gn/T/ipykernel_19918/4072846926.py:29: UserWarning: pandas only supports SQLAlchemy connectable (engine/connection) or database string URI or sqlite3 DBAPI2 connection. Other DBAPI2 objects are not tested. Please consider using SQLAlchemy.\n",
      "  null_count = pd.read_sql(\n"
     ]
    },
    {
     "name": "stdout",
     "output_type": "stream",
     "text": [
      "Column: nii_6584_inst_res, 631678 distinct val, 0 null values\n"
     ]
    },
    {
     "name": "stderr",
     "output_type": "stream",
     "text": [
      "/var/folders/d6/7jdh7rbj2f59v10kcc72rsym0000gn/T/ipykernel_19918/4072846926.py:6: UserWarning: pandas only supports SQLAlchemy connectable (engine/connection) or database string URI or sqlite3 DBAPI2 connection. Other DBAPI2 objects are not tested. Please consider using SQLAlchemy.\n",
      "  value = pd.read_sql(\n",
      "/var/folders/d6/7jdh7rbj2f59v10kcc72rsym0000gn/T/ipykernel_19918/4072846926.py:22: UserWarning: pandas only supports SQLAlchemy connectable (engine/connection) or database string URI or sqlite3 DBAPI2 connection. Other DBAPI2 objects are not tested. Please consider using SQLAlchemy.\n",
      "  item_count = pd.read_sql(\n",
      "/var/folders/d6/7jdh7rbj2f59v10kcc72rsym0000gn/T/ipykernel_19918/4072846926.py:26: UserWarning: pandas only supports SQLAlchemy connectable (engine/connection) or database string URI or sqlite3 DBAPI2 connection. Other DBAPI2 objects are not tested. Please consider using SQLAlchemy.\n",
      "  distinct_values = pd.read_sql(\n",
      "/var/folders/d6/7jdh7rbj2f59v10kcc72rsym0000gn/T/ipykernel_19918/4072846926.py:29: UserWarning: pandas only supports SQLAlchemy connectable (engine/connection) or database string URI or sqlite3 DBAPI2 connection. Other DBAPI2 objects are not tested. Please consider using SQLAlchemy.\n",
      "  null_count = pd.read_sql(\n"
     ]
    },
    {
     "name": "stdout",
     "output_type": "stream",
     "text": [
      "Column: nii_6584_chisq, 761020 distinct val, 0 null values\n"
     ]
    },
    {
     "name": "stderr",
     "output_type": "stream",
     "text": [
      "/var/folders/d6/7jdh7rbj2f59v10kcc72rsym0000gn/T/ipykernel_19918/4072846926.py:6: UserWarning: pandas only supports SQLAlchemy connectable (engine/connection) or database string URI or sqlite3 DBAPI2 connection. Other DBAPI2 objects are not tested. Please consider using SQLAlchemy.\n",
      "  value = pd.read_sql(\n",
      "/var/folders/d6/7jdh7rbj2f59v10kcc72rsym0000gn/T/ipykernel_19918/4072846926.py:22: UserWarning: pandas only supports SQLAlchemy connectable (engine/connection) or database string URI or sqlite3 DBAPI2 connection. Other DBAPI2 objects are not tested. Please consider using SQLAlchemy.\n",
      "  item_count = pd.read_sql(\n",
      "/var/folders/d6/7jdh7rbj2f59v10kcc72rsym0000gn/T/ipykernel_19918/4072846926.py:26: UserWarning: pandas only supports SQLAlchemy connectable (engine/connection) or database string URI or sqlite3 DBAPI2 connection. Other DBAPI2 objects are not tested. Please consider using SQLAlchemy.\n",
      "  distinct_values = pd.read_sql(\n",
      "/var/folders/d6/7jdh7rbj2f59v10kcc72rsym0000gn/T/ipykernel_19918/4072846926.py:29: UserWarning: pandas only supports SQLAlchemy connectable (engine/connection) or database string URI or sqlite3 DBAPI2 connection. Other DBAPI2 objects are not tested. Please consider using SQLAlchemy.\n",
      "  null_count = pd.read_sql(\n"
     ]
    },
    {
     "name": "stdout",
     "output_type": "stream",
     "text": [
      "Column: sii_6717_cont, 727506 distinct val, 0 null values\n"
     ]
    },
    {
     "name": "stderr",
     "output_type": "stream",
     "text": [
      "/var/folders/d6/7jdh7rbj2f59v10kcc72rsym0000gn/T/ipykernel_19918/4072846926.py:6: UserWarning: pandas only supports SQLAlchemy connectable (engine/connection) or database string URI or sqlite3 DBAPI2 connection. Other DBAPI2 objects are not tested. Please consider using SQLAlchemy.\n",
      "  value = pd.read_sql(\n",
      "/var/folders/d6/7jdh7rbj2f59v10kcc72rsym0000gn/T/ipykernel_19918/4072846926.py:22: UserWarning: pandas only supports SQLAlchemy connectable (engine/connection) or database string URI or sqlite3 DBAPI2 connection. Other DBAPI2 objects are not tested. Please consider using SQLAlchemy.\n",
      "  item_count = pd.read_sql(\n",
      "/var/folders/d6/7jdh7rbj2f59v10kcc72rsym0000gn/T/ipykernel_19918/4072846926.py:26: UserWarning: pandas only supports SQLAlchemy connectable (engine/connection) or database string URI or sqlite3 DBAPI2 connection. Other DBAPI2 objects are not tested. Please consider using SQLAlchemy.\n",
      "  distinct_values = pd.read_sql(\n",
      "/var/folders/d6/7jdh7rbj2f59v10kcc72rsym0000gn/T/ipykernel_19918/4072846926.py:29: UserWarning: pandas only supports SQLAlchemy connectable (engine/connection) or database string URI or sqlite3 DBAPI2 connection. Other DBAPI2 objects are not tested. Please consider using SQLAlchemy.\n",
      "  null_count = pd.read_sql(\n"
     ]
    },
    {
     "name": "stdout",
     "output_type": "stream",
     "text": [
      "Column: sii_6717_cont_err, 744517 distinct val, 0 null values\n"
     ]
    },
    {
     "name": "stderr",
     "output_type": "stream",
     "text": [
      "/var/folders/d6/7jdh7rbj2f59v10kcc72rsym0000gn/T/ipykernel_19918/4072846926.py:6: UserWarning: pandas only supports SQLAlchemy connectable (engine/connection) or database string URI or sqlite3 DBAPI2 connection. Other DBAPI2 objects are not tested. Please consider using SQLAlchemy.\n",
      "  value = pd.read_sql(\n",
      "/var/folders/d6/7jdh7rbj2f59v10kcc72rsym0000gn/T/ipykernel_19918/4072846926.py:22: UserWarning: pandas only supports SQLAlchemy connectable (engine/connection) or database string URI or sqlite3 DBAPI2 connection. Other DBAPI2 objects are not tested. Please consider using SQLAlchemy.\n",
      "  item_count = pd.read_sql(\n",
      "/var/folders/d6/7jdh7rbj2f59v10kcc72rsym0000gn/T/ipykernel_19918/4072846926.py:26: UserWarning: pandas only supports SQLAlchemy connectable (engine/connection) or database string URI or sqlite3 DBAPI2 connection. Other DBAPI2 objects are not tested. Please consider using SQLAlchemy.\n",
      "  distinct_values = pd.read_sql(\n",
      "/var/folders/d6/7jdh7rbj2f59v10kcc72rsym0000gn/T/ipykernel_19918/4072846926.py:29: UserWarning: pandas only supports SQLAlchemy connectable (engine/connection) or database string URI or sqlite3 DBAPI2 connection. Other DBAPI2 objects are not tested. Please consider using SQLAlchemy.\n",
      "  null_count = pd.read_sql(\n"
     ]
    },
    {
     "name": "stdout",
     "output_type": "stream",
     "text": [
      "Column: sii_6717_reqw, 783792 distinct val, 0 null values\n"
     ]
    },
    {
     "name": "stderr",
     "output_type": "stream",
     "text": [
      "/var/folders/d6/7jdh7rbj2f59v10kcc72rsym0000gn/T/ipykernel_19918/4072846926.py:6: UserWarning: pandas only supports SQLAlchemy connectable (engine/connection) or database string URI or sqlite3 DBAPI2 connection. Other DBAPI2 objects are not tested. Please consider using SQLAlchemy.\n",
      "  value = pd.read_sql(\n",
      "/var/folders/d6/7jdh7rbj2f59v10kcc72rsym0000gn/T/ipykernel_19918/4072846926.py:22: UserWarning: pandas only supports SQLAlchemy connectable (engine/connection) or database string URI or sqlite3 DBAPI2 connection. Other DBAPI2 objects are not tested. Please consider using SQLAlchemy.\n",
      "  item_count = pd.read_sql(\n",
      "/var/folders/d6/7jdh7rbj2f59v10kcc72rsym0000gn/T/ipykernel_19918/4072846926.py:26: UserWarning: pandas only supports SQLAlchemy connectable (engine/connection) or database string URI or sqlite3 DBAPI2 connection. Other DBAPI2 objects are not tested. Please consider using SQLAlchemy.\n",
      "  distinct_values = pd.read_sql(\n",
      "/var/folders/d6/7jdh7rbj2f59v10kcc72rsym0000gn/T/ipykernel_19918/4072846926.py:29: UserWarning: pandas only supports SQLAlchemy connectable (engine/connection) or database string URI or sqlite3 DBAPI2 connection. Other DBAPI2 objects are not tested. Please consider using SQLAlchemy.\n",
      "  null_count = pd.read_sql(\n"
     ]
    },
    {
     "name": "stdout",
     "output_type": "stream",
     "text": [
      "Column: sii_6717_reqw_err, 742211 distinct val, 0 null values\n"
     ]
    },
    {
     "name": "stderr",
     "output_type": "stream",
     "text": [
      "/var/folders/d6/7jdh7rbj2f59v10kcc72rsym0000gn/T/ipykernel_19918/4072846926.py:6: UserWarning: pandas only supports SQLAlchemy connectable (engine/connection) or database string URI or sqlite3 DBAPI2 connection. Other DBAPI2 objects are not tested. Please consider using SQLAlchemy.\n",
      "  value = pd.read_sql(\n",
      "/var/folders/d6/7jdh7rbj2f59v10kcc72rsym0000gn/T/ipykernel_19918/4072846926.py:22: UserWarning: pandas only supports SQLAlchemy connectable (engine/connection) or database string URI or sqlite3 DBAPI2 connection. Other DBAPI2 objects are not tested. Please consider using SQLAlchemy.\n",
      "  item_count = pd.read_sql(\n",
      "/var/folders/d6/7jdh7rbj2f59v10kcc72rsym0000gn/T/ipykernel_19918/4072846926.py:26: UserWarning: pandas only supports SQLAlchemy connectable (engine/connection) or database string URI or sqlite3 DBAPI2 connection. Other DBAPI2 objects are not tested. Please consider using SQLAlchemy.\n",
      "  distinct_values = pd.read_sql(\n",
      "/var/folders/d6/7jdh7rbj2f59v10kcc72rsym0000gn/T/ipykernel_19918/4072846926.py:29: UserWarning: pandas only supports SQLAlchemy connectable (engine/connection) or database string URI or sqlite3 DBAPI2 connection. Other DBAPI2 objects are not tested. Please consider using SQLAlchemy.\n",
      "  null_count = pd.read_sql(\n"
     ]
    },
    {
     "name": "stdout",
     "output_type": "stream",
     "text": [
      "Column: sii_6717_eqw, 781871 distinct val, 0 null values\n"
     ]
    },
    {
     "name": "stderr",
     "output_type": "stream",
     "text": [
      "/var/folders/d6/7jdh7rbj2f59v10kcc72rsym0000gn/T/ipykernel_19918/4072846926.py:6: UserWarning: pandas only supports SQLAlchemy connectable (engine/connection) or database string URI or sqlite3 DBAPI2 connection. Other DBAPI2 objects are not tested. Please consider using SQLAlchemy.\n",
      "  value = pd.read_sql(\n",
      "/var/folders/d6/7jdh7rbj2f59v10kcc72rsym0000gn/T/ipykernel_19918/4072846926.py:22: UserWarning: pandas only supports SQLAlchemy connectable (engine/connection) or database string URI or sqlite3 DBAPI2 connection. Other DBAPI2 objects are not tested. Please consider using SQLAlchemy.\n",
      "  item_count = pd.read_sql(\n",
      "/var/folders/d6/7jdh7rbj2f59v10kcc72rsym0000gn/T/ipykernel_19918/4072846926.py:26: UserWarning: pandas only supports SQLAlchemy connectable (engine/connection) or database string URI or sqlite3 DBAPI2 connection. Other DBAPI2 objects are not tested. Please consider using SQLAlchemy.\n",
      "  distinct_values = pd.read_sql(\n",
      "/var/folders/d6/7jdh7rbj2f59v10kcc72rsym0000gn/T/ipykernel_19918/4072846926.py:29: UserWarning: pandas only supports SQLAlchemy connectable (engine/connection) or database string URI or sqlite3 DBAPI2 connection. Other DBAPI2 objects are not tested. Please consider using SQLAlchemy.\n",
      "  null_count = pd.read_sql(\n"
     ]
    },
    {
     "name": "stdout",
     "output_type": "stream",
     "text": [
      "Column: sii_6717_eqw_err, 742211 distinct val, 0 null values\n"
     ]
    },
    {
     "name": "stderr",
     "output_type": "stream",
     "text": [
      "/var/folders/d6/7jdh7rbj2f59v10kcc72rsym0000gn/T/ipykernel_19918/4072846926.py:6: UserWarning: pandas only supports SQLAlchemy connectable (engine/connection) or database string URI or sqlite3 DBAPI2 connection. Other DBAPI2 objects are not tested. Please consider using SQLAlchemy.\n",
      "  value = pd.read_sql(\n",
      "/var/folders/d6/7jdh7rbj2f59v10kcc72rsym0000gn/T/ipykernel_19918/4072846926.py:22: UserWarning: pandas only supports SQLAlchemy connectable (engine/connection) or database string URI or sqlite3 DBAPI2 connection. Other DBAPI2 objects are not tested. Please consider using SQLAlchemy.\n",
      "  item_count = pd.read_sql(\n",
      "/var/folders/d6/7jdh7rbj2f59v10kcc72rsym0000gn/T/ipykernel_19918/4072846926.py:26: UserWarning: pandas only supports SQLAlchemy connectable (engine/connection) or database string URI or sqlite3 DBAPI2 connection. Other DBAPI2 objects are not tested. Please consider using SQLAlchemy.\n",
      "  distinct_values = pd.read_sql(\n",
      "/var/folders/d6/7jdh7rbj2f59v10kcc72rsym0000gn/T/ipykernel_19918/4072846926.py:29: UserWarning: pandas only supports SQLAlchemy connectable (engine/connection) or database string URI or sqlite3 DBAPI2 connection. Other DBAPI2 objects are not tested. Please consider using SQLAlchemy.\n",
      "  null_count = pd.read_sql(\n"
     ]
    },
    {
     "name": "stdout",
     "output_type": "stream",
     "text": [
      "Column: sii_6717_flux, 776139 distinct val, 0 null values\n"
     ]
    },
    {
     "name": "stderr",
     "output_type": "stream",
     "text": [
      "/var/folders/d6/7jdh7rbj2f59v10kcc72rsym0000gn/T/ipykernel_19918/4072846926.py:6: UserWarning: pandas only supports SQLAlchemy connectable (engine/connection) or database string URI or sqlite3 DBAPI2 connection. Other DBAPI2 objects are not tested. Please consider using SQLAlchemy.\n",
      "  value = pd.read_sql(\n",
      "/var/folders/d6/7jdh7rbj2f59v10kcc72rsym0000gn/T/ipykernel_19918/4072846926.py:22: UserWarning: pandas only supports SQLAlchemy connectable (engine/connection) or database string URI or sqlite3 DBAPI2 connection. Other DBAPI2 objects are not tested. Please consider using SQLAlchemy.\n",
      "  item_count = pd.read_sql(\n",
      "/var/folders/d6/7jdh7rbj2f59v10kcc72rsym0000gn/T/ipykernel_19918/4072846926.py:26: UserWarning: pandas only supports SQLAlchemy connectable (engine/connection) or database string URI or sqlite3 DBAPI2 connection. Other DBAPI2 objects are not tested. Please consider using SQLAlchemy.\n",
      "  distinct_values = pd.read_sql(\n",
      "/var/folders/d6/7jdh7rbj2f59v10kcc72rsym0000gn/T/ipykernel_19918/4072846926.py:29: UserWarning: pandas only supports SQLAlchemy connectable (engine/connection) or database string URI or sqlite3 DBAPI2 connection. Other DBAPI2 objects are not tested. Please consider using SQLAlchemy.\n",
      "  null_count = pd.read_sql(\n"
     ]
    },
    {
     "name": "stdout",
     "output_type": "stream",
     "text": [
      "Column: sii_6717_flux_err, 782537 distinct val, 0 null values\n"
     ]
    },
    {
     "name": "stderr",
     "output_type": "stream",
     "text": [
      "/var/folders/d6/7jdh7rbj2f59v10kcc72rsym0000gn/T/ipykernel_19918/4072846926.py:6: UserWarning: pandas only supports SQLAlchemy connectable (engine/connection) or database string URI or sqlite3 DBAPI2 connection. Other DBAPI2 objects are not tested. Please consider using SQLAlchemy.\n",
      "  value = pd.read_sql(\n",
      "/var/folders/d6/7jdh7rbj2f59v10kcc72rsym0000gn/T/ipykernel_19918/4072846926.py:22: UserWarning: pandas only supports SQLAlchemy connectable (engine/connection) or database string URI or sqlite3 DBAPI2 connection. Other DBAPI2 objects are not tested. Please consider using SQLAlchemy.\n",
      "  item_count = pd.read_sql(\n",
      "/var/folders/d6/7jdh7rbj2f59v10kcc72rsym0000gn/T/ipykernel_19918/4072846926.py:26: UserWarning: pandas only supports SQLAlchemy connectable (engine/connection) or database string URI or sqlite3 DBAPI2 connection. Other DBAPI2 objects are not tested. Please consider using SQLAlchemy.\n",
      "  distinct_values = pd.read_sql(\n",
      "/var/folders/d6/7jdh7rbj2f59v10kcc72rsym0000gn/T/ipykernel_19918/4072846926.py:29: UserWarning: pandas only supports SQLAlchemy connectable (engine/connection) or database string URI or sqlite3 DBAPI2 connection. Other DBAPI2 objects are not tested. Please consider using SQLAlchemy.\n",
      "  null_count = pd.read_sql(\n"
     ]
    },
    {
     "name": "stdout",
     "output_type": "stream",
     "text": [
      "Column: sii_6717_inst_res, 614365 distinct val, 0 null values\n"
     ]
    },
    {
     "name": "stderr",
     "output_type": "stream",
     "text": [
      "/var/folders/d6/7jdh7rbj2f59v10kcc72rsym0000gn/T/ipykernel_19918/4072846926.py:6: UserWarning: pandas only supports SQLAlchemy connectable (engine/connection) or database string URI or sqlite3 DBAPI2 connection. Other DBAPI2 objects are not tested. Please consider using SQLAlchemy.\n",
      "  value = pd.read_sql(\n",
      "/var/folders/d6/7jdh7rbj2f59v10kcc72rsym0000gn/T/ipykernel_19918/4072846926.py:22: UserWarning: pandas only supports SQLAlchemy connectable (engine/connection) or database string URI or sqlite3 DBAPI2 connection. Other DBAPI2 objects are not tested. Please consider using SQLAlchemy.\n",
      "  item_count = pd.read_sql(\n",
      "/var/folders/d6/7jdh7rbj2f59v10kcc72rsym0000gn/T/ipykernel_19918/4072846926.py:26: UserWarning: pandas only supports SQLAlchemy connectable (engine/connection) or database string URI or sqlite3 DBAPI2 connection. Other DBAPI2 objects are not tested. Please consider using SQLAlchemy.\n",
      "  distinct_values = pd.read_sql(\n",
      "/var/folders/d6/7jdh7rbj2f59v10kcc72rsym0000gn/T/ipykernel_19918/4072846926.py:29: UserWarning: pandas only supports SQLAlchemy connectable (engine/connection) or database string URI or sqlite3 DBAPI2 connection. Other DBAPI2 objects are not tested. Please consider using SQLAlchemy.\n",
      "  null_count = pd.read_sql(\n"
     ]
    },
    {
     "name": "stdout",
     "output_type": "stream",
     "text": [
      "Column: sii_6717_chisq, 744820 distinct val, 0 null values\n"
     ]
    },
    {
     "name": "stderr",
     "output_type": "stream",
     "text": [
      "/var/folders/d6/7jdh7rbj2f59v10kcc72rsym0000gn/T/ipykernel_19918/4072846926.py:6: UserWarning: pandas only supports SQLAlchemy connectable (engine/connection) or database string URI or sqlite3 DBAPI2 connection. Other DBAPI2 objects are not tested. Please consider using SQLAlchemy.\n",
      "  value = pd.read_sql(\n",
      "/var/folders/d6/7jdh7rbj2f59v10kcc72rsym0000gn/T/ipykernel_19918/4072846926.py:22: UserWarning: pandas only supports SQLAlchemy connectable (engine/connection) or database string URI or sqlite3 DBAPI2 connection. Other DBAPI2 objects are not tested. Please consider using SQLAlchemy.\n",
      "  item_count = pd.read_sql(\n",
      "/var/folders/d6/7jdh7rbj2f59v10kcc72rsym0000gn/T/ipykernel_19918/4072846926.py:26: UserWarning: pandas only supports SQLAlchemy connectable (engine/connection) or database string URI or sqlite3 DBAPI2 connection. Other DBAPI2 objects are not tested. Please consider using SQLAlchemy.\n",
      "  distinct_values = pd.read_sql(\n",
      "/var/folders/d6/7jdh7rbj2f59v10kcc72rsym0000gn/T/ipykernel_19918/4072846926.py:29: UserWarning: pandas only supports SQLAlchemy connectable (engine/connection) or database string URI or sqlite3 DBAPI2 connection. Other DBAPI2 objects are not tested. Please consider using SQLAlchemy.\n",
      "  null_count = pd.read_sql(\n"
     ]
    },
    {
     "name": "stdout",
     "output_type": "stream",
     "text": [
      "Column: sii_6731_cont, 726079 distinct val, 0 null values\n"
     ]
    },
    {
     "name": "stderr",
     "output_type": "stream",
     "text": [
      "/var/folders/d6/7jdh7rbj2f59v10kcc72rsym0000gn/T/ipykernel_19918/4072846926.py:6: UserWarning: pandas only supports SQLAlchemy connectable (engine/connection) or database string URI or sqlite3 DBAPI2 connection. Other DBAPI2 objects are not tested. Please consider using SQLAlchemy.\n",
      "  value = pd.read_sql(\n",
      "/var/folders/d6/7jdh7rbj2f59v10kcc72rsym0000gn/T/ipykernel_19918/4072846926.py:22: UserWarning: pandas only supports SQLAlchemy connectable (engine/connection) or database string URI or sqlite3 DBAPI2 connection. Other DBAPI2 objects are not tested. Please consider using SQLAlchemy.\n",
      "  item_count = pd.read_sql(\n",
      "/var/folders/d6/7jdh7rbj2f59v10kcc72rsym0000gn/T/ipykernel_19918/4072846926.py:26: UserWarning: pandas only supports SQLAlchemy connectable (engine/connection) or database string URI or sqlite3 DBAPI2 connection. Other DBAPI2 objects are not tested. Please consider using SQLAlchemy.\n",
      "  distinct_values = pd.read_sql(\n",
      "/var/folders/d6/7jdh7rbj2f59v10kcc72rsym0000gn/T/ipykernel_19918/4072846926.py:29: UserWarning: pandas only supports SQLAlchemy connectable (engine/connection) or database string URI or sqlite3 DBAPI2 connection. Other DBAPI2 objects are not tested. Please consider using SQLAlchemy.\n",
      "  null_count = pd.read_sql(\n"
     ]
    },
    {
     "name": "stdout",
     "output_type": "stream",
     "text": [
      "Column: sii_6731_cont_err, 743474 distinct val, 0 null values\n"
     ]
    },
    {
     "name": "stderr",
     "output_type": "stream",
     "text": [
      "/var/folders/d6/7jdh7rbj2f59v10kcc72rsym0000gn/T/ipykernel_19918/4072846926.py:6: UserWarning: pandas only supports SQLAlchemy connectable (engine/connection) or database string URI or sqlite3 DBAPI2 connection. Other DBAPI2 objects are not tested. Please consider using SQLAlchemy.\n",
      "  value = pd.read_sql(\n",
      "/var/folders/d6/7jdh7rbj2f59v10kcc72rsym0000gn/T/ipykernel_19918/4072846926.py:22: UserWarning: pandas only supports SQLAlchemy connectable (engine/connection) or database string URI or sqlite3 DBAPI2 connection. Other DBAPI2 objects are not tested. Please consider using SQLAlchemy.\n",
      "  item_count = pd.read_sql(\n",
      "/var/folders/d6/7jdh7rbj2f59v10kcc72rsym0000gn/T/ipykernel_19918/4072846926.py:26: UserWarning: pandas only supports SQLAlchemy connectable (engine/connection) or database string URI or sqlite3 DBAPI2 connection. Other DBAPI2 objects are not tested. Please consider using SQLAlchemy.\n",
      "  distinct_values = pd.read_sql(\n",
      "/var/folders/d6/7jdh7rbj2f59v10kcc72rsym0000gn/T/ipykernel_19918/4072846926.py:29: UserWarning: pandas only supports SQLAlchemy connectable (engine/connection) or database string URI or sqlite3 DBAPI2 connection. Other DBAPI2 objects are not tested. Please consider using SQLAlchemy.\n",
      "  null_count = pd.read_sql(\n"
     ]
    },
    {
     "name": "stdout",
     "output_type": "stream",
     "text": [
      "Column: sii_6731_reqw, 778948 distinct val, 0 null values\n"
     ]
    },
    {
     "name": "stderr",
     "output_type": "stream",
     "text": [
      "/var/folders/d6/7jdh7rbj2f59v10kcc72rsym0000gn/T/ipykernel_19918/4072846926.py:6: UserWarning: pandas only supports SQLAlchemy connectable (engine/connection) or database string URI or sqlite3 DBAPI2 connection. Other DBAPI2 objects are not tested. Please consider using SQLAlchemy.\n",
      "  value = pd.read_sql(\n",
      "/var/folders/d6/7jdh7rbj2f59v10kcc72rsym0000gn/T/ipykernel_19918/4072846926.py:22: UserWarning: pandas only supports SQLAlchemy connectable (engine/connection) or database string URI or sqlite3 DBAPI2 connection. Other DBAPI2 objects are not tested. Please consider using SQLAlchemy.\n",
      "  item_count = pd.read_sql(\n",
      "/var/folders/d6/7jdh7rbj2f59v10kcc72rsym0000gn/T/ipykernel_19918/4072846926.py:26: UserWarning: pandas only supports SQLAlchemy connectable (engine/connection) or database string URI or sqlite3 DBAPI2 connection. Other DBAPI2 objects are not tested. Please consider using SQLAlchemy.\n",
      "  distinct_values = pd.read_sql(\n",
      "/var/folders/d6/7jdh7rbj2f59v10kcc72rsym0000gn/T/ipykernel_19918/4072846926.py:29: UserWarning: pandas only supports SQLAlchemy connectable (engine/connection) or database string URI or sqlite3 DBAPI2 connection. Other DBAPI2 objects are not tested. Please consider using SQLAlchemy.\n",
      "  null_count = pd.read_sql(\n"
     ]
    },
    {
     "name": "stdout",
     "output_type": "stream",
     "text": [
      "Column: sii_6731_reqw_err, 739220 distinct val, 0 null values\n"
     ]
    },
    {
     "name": "stderr",
     "output_type": "stream",
     "text": [
      "/var/folders/d6/7jdh7rbj2f59v10kcc72rsym0000gn/T/ipykernel_19918/4072846926.py:6: UserWarning: pandas only supports SQLAlchemy connectable (engine/connection) or database string URI or sqlite3 DBAPI2 connection. Other DBAPI2 objects are not tested. Please consider using SQLAlchemy.\n",
      "  value = pd.read_sql(\n",
      "/var/folders/d6/7jdh7rbj2f59v10kcc72rsym0000gn/T/ipykernel_19918/4072846926.py:22: UserWarning: pandas only supports SQLAlchemy connectable (engine/connection) or database string URI or sqlite3 DBAPI2 connection. Other DBAPI2 objects are not tested. Please consider using SQLAlchemy.\n",
      "  item_count = pd.read_sql(\n",
      "/var/folders/d6/7jdh7rbj2f59v10kcc72rsym0000gn/T/ipykernel_19918/4072846926.py:26: UserWarning: pandas only supports SQLAlchemy connectable (engine/connection) or database string URI or sqlite3 DBAPI2 connection. Other DBAPI2 objects are not tested. Please consider using SQLAlchemy.\n",
      "  distinct_values = pd.read_sql(\n",
      "/var/folders/d6/7jdh7rbj2f59v10kcc72rsym0000gn/T/ipykernel_19918/4072846926.py:29: UserWarning: pandas only supports SQLAlchemy connectable (engine/connection) or database string URI or sqlite3 DBAPI2 connection. Other DBAPI2 objects are not tested. Please consider using SQLAlchemy.\n",
      "  null_count = pd.read_sql(\n"
     ]
    },
    {
     "name": "stdout",
     "output_type": "stream",
     "text": [
      "Column: sii_6731_eqw, 778792 distinct val, 0 null values\n"
     ]
    },
    {
     "name": "stderr",
     "output_type": "stream",
     "text": [
      "/var/folders/d6/7jdh7rbj2f59v10kcc72rsym0000gn/T/ipykernel_19918/4072846926.py:6: UserWarning: pandas only supports SQLAlchemy connectable (engine/connection) or database string URI or sqlite3 DBAPI2 connection. Other DBAPI2 objects are not tested. Please consider using SQLAlchemy.\n",
      "  value = pd.read_sql(\n",
      "/var/folders/d6/7jdh7rbj2f59v10kcc72rsym0000gn/T/ipykernel_19918/4072846926.py:22: UserWarning: pandas only supports SQLAlchemy connectable (engine/connection) or database string URI or sqlite3 DBAPI2 connection. Other DBAPI2 objects are not tested. Please consider using SQLAlchemy.\n",
      "  item_count = pd.read_sql(\n",
      "/var/folders/d6/7jdh7rbj2f59v10kcc72rsym0000gn/T/ipykernel_19918/4072846926.py:26: UserWarning: pandas only supports SQLAlchemy connectable (engine/connection) or database string URI or sqlite3 DBAPI2 connection. Other DBAPI2 objects are not tested. Please consider using SQLAlchemy.\n",
      "  distinct_values = pd.read_sql(\n",
      "/var/folders/d6/7jdh7rbj2f59v10kcc72rsym0000gn/T/ipykernel_19918/4072846926.py:29: UserWarning: pandas only supports SQLAlchemy connectable (engine/connection) or database string URI or sqlite3 DBAPI2 connection. Other DBAPI2 objects are not tested. Please consider using SQLAlchemy.\n",
      "  null_count = pd.read_sql(\n"
     ]
    },
    {
     "name": "stdout",
     "output_type": "stream",
     "text": [
      "Column: sii_6731_eqw_err, 739220 distinct val, 0 null values\n"
     ]
    },
    {
     "name": "stderr",
     "output_type": "stream",
     "text": [
      "/var/folders/d6/7jdh7rbj2f59v10kcc72rsym0000gn/T/ipykernel_19918/4072846926.py:6: UserWarning: pandas only supports SQLAlchemy connectable (engine/connection) or database string URI or sqlite3 DBAPI2 connection. Other DBAPI2 objects are not tested. Please consider using SQLAlchemy.\n",
      "  value = pd.read_sql(\n",
      "/var/folders/d6/7jdh7rbj2f59v10kcc72rsym0000gn/T/ipykernel_19918/4072846926.py:22: UserWarning: pandas only supports SQLAlchemy connectable (engine/connection) or database string URI or sqlite3 DBAPI2 connection. Other DBAPI2 objects are not tested. Please consider using SQLAlchemy.\n",
      "  item_count = pd.read_sql(\n",
      "/var/folders/d6/7jdh7rbj2f59v10kcc72rsym0000gn/T/ipykernel_19918/4072846926.py:26: UserWarning: pandas only supports SQLAlchemy connectable (engine/connection) or database string URI or sqlite3 DBAPI2 connection. Other DBAPI2 objects are not tested. Please consider using SQLAlchemy.\n",
      "  distinct_values = pd.read_sql(\n",
      "/var/folders/d6/7jdh7rbj2f59v10kcc72rsym0000gn/T/ipykernel_19918/4072846926.py:29: UserWarning: pandas only supports SQLAlchemy connectable (engine/connection) or database string URI or sqlite3 DBAPI2 connection. Other DBAPI2 objects are not tested. Please consider using SQLAlchemy.\n",
      "  null_count = pd.read_sql(\n"
     ]
    },
    {
     "name": "stdout",
     "output_type": "stream",
     "text": [
      "Column: sii_6731_flux, 775546 distinct val, 0 null values\n"
     ]
    },
    {
     "name": "stderr",
     "output_type": "stream",
     "text": [
      "/var/folders/d6/7jdh7rbj2f59v10kcc72rsym0000gn/T/ipykernel_19918/4072846926.py:6: UserWarning: pandas only supports SQLAlchemy connectable (engine/connection) or database string URI or sqlite3 DBAPI2 connection. Other DBAPI2 objects are not tested. Please consider using SQLAlchemy.\n",
      "  value = pd.read_sql(\n",
      "/var/folders/d6/7jdh7rbj2f59v10kcc72rsym0000gn/T/ipykernel_19918/4072846926.py:22: UserWarning: pandas only supports SQLAlchemy connectable (engine/connection) or database string URI or sqlite3 DBAPI2 connection. Other DBAPI2 objects are not tested. Please consider using SQLAlchemy.\n",
      "  item_count = pd.read_sql(\n",
      "/var/folders/d6/7jdh7rbj2f59v10kcc72rsym0000gn/T/ipykernel_19918/4072846926.py:26: UserWarning: pandas only supports SQLAlchemy connectable (engine/connection) or database string URI or sqlite3 DBAPI2 connection. Other DBAPI2 objects are not tested. Please consider using SQLAlchemy.\n",
      "  distinct_values = pd.read_sql(\n",
      "/var/folders/d6/7jdh7rbj2f59v10kcc72rsym0000gn/T/ipykernel_19918/4072846926.py:29: UserWarning: pandas only supports SQLAlchemy connectable (engine/connection) or database string URI or sqlite3 DBAPI2 connection. Other DBAPI2 objects are not tested. Please consider using SQLAlchemy.\n",
      "  null_count = pd.read_sql(\n"
     ]
    },
    {
     "name": "stdout",
     "output_type": "stream",
     "text": [
      "Column: sii_6731_flux_err, 782795 distinct val, 0 null values\n"
     ]
    },
    {
     "name": "stderr",
     "output_type": "stream",
     "text": [
      "/var/folders/d6/7jdh7rbj2f59v10kcc72rsym0000gn/T/ipykernel_19918/4072846926.py:6: UserWarning: pandas only supports SQLAlchemy connectable (engine/connection) or database string URI or sqlite3 DBAPI2 connection. Other DBAPI2 objects are not tested. Please consider using SQLAlchemy.\n",
      "  value = pd.read_sql(\n",
      "/var/folders/d6/7jdh7rbj2f59v10kcc72rsym0000gn/T/ipykernel_19918/4072846926.py:22: UserWarning: pandas only supports SQLAlchemy connectable (engine/connection) or database string URI or sqlite3 DBAPI2 connection. Other DBAPI2 objects are not tested. Please consider using SQLAlchemy.\n",
      "  item_count = pd.read_sql(\n",
      "/var/folders/d6/7jdh7rbj2f59v10kcc72rsym0000gn/T/ipykernel_19918/4072846926.py:26: UserWarning: pandas only supports SQLAlchemy connectable (engine/connection) or database string URI or sqlite3 DBAPI2 connection. Other DBAPI2 objects are not tested. Please consider using SQLAlchemy.\n",
      "  distinct_values = pd.read_sql(\n",
      "/var/folders/d6/7jdh7rbj2f59v10kcc72rsym0000gn/T/ipykernel_19918/4072846926.py:29: UserWarning: pandas only supports SQLAlchemy connectable (engine/connection) or database string URI or sqlite3 DBAPI2 connection. Other DBAPI2 objects are not tested. Please consider using SQLAlchemy.\n",
      "  null_count = pd.read_sql(\n"
     ]
    },
    {
     "name": "stdout",
     "output_type": "stream",
     "text": [
      "Column: sii_6731_inst_res, 612243 distinct val, 0 null values\n"
     ]
    },
    {
     "name": "stderr",
     "output_type": "stream",
     "text": [
      "/var/folders/d6/7jdh7rbj2f59v10kcc72rsym0000gn/T/ipykernel_19918/4072846926.py:6: UserWarning: pandas only supports SQLAlchemy connectable (engine/connection) or database string URI or sqlite3 DBAPI2 connection. Other DBAPI2 objects are not tested. Please consider using SQLAlchemy.\n",
      "  value = pd.read_sql(\n"
     ]
    },
    {
     "ename": "KeyboardInterrupt",
     "evalue": "",
     "output_type": "error",
     "traceback": [
      "\u001b[0;31m---------------------------------------------------------------------------\u001b[0m",
      "\u001b[0;31mKeyboardInterrupt\u001b[0m                         Traceback (most recent call last)",
      "Cell \u001b[0;32mIn[3], line 47\u001b[0m\n\u001b[1;32m     42\u001b[0m     futures\u001b[38;5;241m.\u001b[39mappend(\n\u001b[1;32m     43\u001b[0m         executor\u001b[38;5;241m.\u001b[39msubmit(get_value, i, column, table, bin_size, conn)\n\u001b[1;32m     44\u001b[0m     )\n\u001b[1;32m     46\u001b[0m \u001b[38;5;28;01mfor\u001b[39;00m future \u001b[38;5;129;01min\u001b[39;00m futures:\n\u001b[0;32m---> 47\u001b[0m     values\u001b[38;5;241m.\u001b[39mappend(\u001b[43mfuture\u001b[49m\u001b[38;5;241;43m.\u001b[39;49m\u001b[43mresult\u001b[49m\u001b[43m(\u001b[49m\u001b[43m)\u001b[49m)\n\u001b[1;32m     49\u001b[0m values\u001b[38;5;241m.\u001b[39msort()\n\u001b[1;32m     50\u001b[0m \u001b[38;5;28;01mif\u001b[39;00m \u001b[38;5;28mtype\u001b[39m(values[\u001b[38;5;241m0\u001b[39m]) \u001b[38;5;241m==\u001b[39m dt\u001b[38;5;241m.\u001b[39mdate:\n",
      "File \u001b[0;32m/usr/local/anaconda3/lib/python3.10/concurrent/futures/_base.py:453\u001b[0m, in \u001b[0;36mFuture.result\u001b[0;34m(self, timeout)\u001b[0m\n\u001b[1;32m    450\u001b[0m \u001b[38;5;28;01melif\u001b[39;00m \u001b[38;5;28mself\u001b[39m\u001b[38;5;241m.\u001b[39m_state \u001b[38;5;241m==\u001b[39m FINISHED:\n\u001b[1;32m    451\u001b[0m     \u001b[38;5;28;01mreturn\u001b[39;00m \u001b[38;5;28mself\u001b[39m\u001b[38;5;241m.\u001b[39m__get_result()\n\u001b[0;32m--> 453\u001b[0m \u001b[38;5;28;43mself\u001b[39;49m\u001b[38;5;241;43m.\u001b[39;49m\u001b[43m_condition\u001b[49m\u001b[38;5;241;43m.\u001b[39;49m\u001b[43mwait\u001b[49m\u001b[43m(\u001b[49m\u001b[43mtimeout\u001b[49m\u001b[43m)\u001b[49m\n\u001b[1;32m    455\u001b[0m \u001b[38;5;28;01mif\u001b[39;00m \u001b[38;5;28mself\u001b[39m\u001b[38;5;241m.\u001b[39m_state \u001b[38;5;129;01min\u001b[39;00m [CANCELLED, CANCELLED_AND_NOTIFIED]:\n\u001b[1;32m    456\u001b[0m     \u001b[38;5;28;01mraise\u001b[39;00m CancelledError()\n",
      "File \u001b[0;32m/usr/local/anaconda3/lib/python3.10/threading.py:320\u001b[0m, in \u001b[0;36mCondition.wait\u001b[0;34m(self, timeout)\u001b[0m\n\u001b[1;32m    318\u001b[0m \u001b[38;5;28;01mtry\u001b[39;00m:    \u001b[38;5;66;03m# restore state no matter what (e.g., KeyboardInterrupt)\u001b[39;00m\n\u001b[1;32m    319\u001b[0m     \u001b[38;5;28;01mif\u001b[39;00m timeout \u001b[38;5;129;01mis\u001b[39;00m \u001b[38;5;28;01mNone\u001b[39;00m:\n\u001b[0;32m--> 320\u001b[0m         \u001b[43mwaiter\u001b[49m\u001b[38;5;241;43m.\u001b[39;49m\u001b[43macquire\u001b[49m\u001b[43m(\u001b[49m\u001b[43m)\u001b[49m\n\u001b[1;32m    321\u001b[0m         gotit \u001b[38;5;241m=\u001b[39m \u001b[38;5;28;01mTrue\u001b[39;00m\n\u001b[1;32m    322\u001b[0m     \u001b[38;5;28;01melse\u001b[39;00m:\n",
      "\u001b[0;31mKeyboardInterrupt\u001b[0m: "
     ]
    }
   ],
   "source": [
    "result = {}\n",
    "bin_count = 10\n",
    "\n",
    "\n",
    "def get_value(index, column, table, bin_size, conn):\n",
    "    value = pd.read_sql(\n",
    "        f\"select {column} from {table} where {column} is not null order by {column} offset { index*bin_size  } limit 1;\",\n",
    "        conn,\n",
    "    ).iloc[0][column]\n",
    "    return value\n",
    "\n",
    "\n",
    "for table in tables:\n",
    "    columns = list(\n",
    "        pd.read_sql(\n",
    "            f\"SELECT column_name  FROM INFORMATION_SCHEMA. COLUMNS WHERE TABLE_NAME = '{table}' and data_type in ('date', 'smallint', 'integer', 'decimal', 'numeric', 'real', 'double precision', 'smallserial', 'serial', 'bigserial', 'bigint', 'real');\",\n",
    "            conn,\n",
    "        )[\"column_name\"]\n",
    "    )\n",
    "    for column in columns:\n",
    "        if not \"_id\" in column:\n",
    "            item_count = pd.read_sql(\n",
    "                f\"select count(*) from {table} where {column} is not null;\", conn\n",
    "            ).iloc[0][\"count\"]\n",
    "            bin_size = (item_count // bin_count) - 1\n",
    "            distinct_values = pd.read_sql(\n",
    "                f\"select count(distinct {column}) from {table} ;\", conn\n",
    "            ).iloc[0][\"count\"]\n",
    "            null_count = pd.read_sql(\n",
    "                f\"select count(*)  from {table} where {column} is null\", conn\n",
    "            ).iloc[0][\"count\"]\n",
    "            print(\n",
    "                f\"Column: {column}, {distinct_values} distinct val, {null_count} null values\"\n",
    "            )\n",
    "            # if null_count == 0:\n",
    "            bins = []\n",
    "            if distinct_values > 50:\n",
    "                futures = []\n",
    "                values = []\n",
    "                with ThreadPoolExecutor(max_workers=11) as executor:\n",
    "                    for i in range(11):\n",
    "                        futures.append(\n",
    "                            executor.submit(get_value, i, column, table, bin_size, conn)\n",
    "                        )\n",
    "\n",
    "                    for future in futures:\n",
    "                        values.append(future.result())\n",
    "\n",
    "                    values.sort()\n",
    "                    if type(values[0]) == dt.date:\n",
    "                        values = map(lambda x: x.isoformat(), values)\n",
    "                    else:\n",
    "                        values = map(lambda x: float(x), values)\n",
    "                    for index, value in enumerate(values):\n",
    "                        if index > 0:\n",
    "                            bins.append((last_value, value))\n",
    "                        last_value = value\n",
    "            else:\n",
    "                bins = list(\n",
    "                    pd.read_sql(\n",
    "                        f\"select distinct {column} from {table} where {column} is not null order by {column};\",\n",
    "                        conn,\n",
    "                    )[column]\n",
    "                )\n",
    "                if type(bins[0]) == dt:\n",
    "                    bins = map(lambda x: x.isoformat(), bins)\n",
    "\n",
    "            result[f\"{table}.{column}\"] = bins\n",
    "\n",
    "with open(\"bins.json\", \"w\") as fp:\n",
    "    json.dump(result, fp, indent=1)"
   ]
  }
 ],
 "metadata": {
  "kernelspec": {
   "display_name": "Python 3 (ipykernel)",
   "language": "python",
   "name": "python3"
  },
  "language_info": {
   "codemirror_mode": {
    "name": "ipython",
    "version": 3
   },
   "file_extension": ".py",
   "mimetype": "text/x-python",
   "name": "python",
   "nbconvert_exporter": "python",
   "pygments_lexer": "ipython3",
   "version": "3.10.9"
  }
 },
 "nbformat": 4,
 "nbformat_minor": 5
}
